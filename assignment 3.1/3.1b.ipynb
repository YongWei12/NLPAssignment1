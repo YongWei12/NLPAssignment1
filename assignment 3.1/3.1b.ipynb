{
 "metadata": {
  "language_info": {
   "codemirror_mode": {
    "name": "ipython",
    "version": 3
   },
   "file_extension": ".py",
   "mimetype": "text/x-python",
   "name": "python",
   "nbconvert_exporter": "python",
   "pygments_lexer": "ipython3",
   "version": "3.8.3-final"
  },
  "orig_nbformat": 2,
  "kernelspec": {
   "name": "python38364bitaivenvcondaf74d87cbcd1c41a2a9ab01eaafaa18b6",
   "display_name": "Python 3.8.3 64-bit ('ai_venv': conda)"
  }
 },
 "nbformat": 4,
 "nbformat_minor": 2,
 "cells": [
  {
   "source": [
    "# Sentence Segmentation"
   ],
   "cell_type": "markdown",
   "metadata": {}
  },
  {
   "cell_type": "code",
   "execution_count": 4,
   "metadata": {
    "tags": []
   },
   "outputs": [
    {
     "output_type": "stream",
     "name": "stdout",
     "text": "\nNice\nBtw u forgot the worst of them all \n== and =\n[Rubber Duck Debugging](https://rubberduckdebugging.com)\n\nEdit: Fixed a word\nGreat sheet!\n--------\nIf you don&#39;t mind me asking, what did you make it with?\n--------\nI think it would be helpful to include a reminder that a SyntaxError might be caused by a mistake on a previous line: if line 29 has a SyntaxError and nothing looks wrong, you should check line 28 or 27.\n--------\nThanks!\n--------\nThis should help our students who seem alergic to reading error messages before asking for help :p\nThe most common source of `NameError` for me is when I create variable in `if` block, but not inside `else` block and then try to access it after the whole if/else.\n--------\nThe best way to avoid this especially for deeply nested set of blocks is to define the variable before if/else and set it to `None` or other sensible default.\n--------\nIt definetely beats the whole process of arguing about the conditions where the variable might be undefined and simplifies the reasoning for any other guy that reads your code.\n--------\nVery nice graphic.\n--------\nBut in all my years of programming I&#39;ve never had an instance where a &quot;cheat sheet&quot; like this could have been useful.\n--------\nWhen a bug happens, you read the error message (which often includes the offending line), Google it if you had to, roll up your sleeves and wade into the code to see what&#39;s up.\n--------\nIs there something like this for C Programming?\n--------\nr/learnpython\nBeautiful\nThis is amazing.\n--------\nThank you.\n--------\nReally helpful.\n--------\nObviously logical errors could be one of many different reasons but this is a great starting point for common mistakes\nI&#39;d also highly recommend this chapter on debugging from **Think Python** book: https://greenteapress.com/thinkpython2/html/thinkpython2021.html\n\nand this article: https://jvns.ca/blog/2019/06/23/a-few-debugging-resources/\nwhich one do you guys think is the sneakiest?\n--------\nI think it&#39;s type error: &quot;an object which you expect to have a value is actually None&quot;\nNot sure who the intended audience is, but for someone who learned by doing and has no theoretical knowledge at all that top left description might as well say &quot;harblegarbleblarvle&quot;.\n--------\nI guess I should bother learning the correct terms.\n--------\nExcellent infographic Sir\nMy code often working but not the way I expected.\n--------\nTrying to get back into Python rn so this will come in handy, thanks u/HotTeenBoy\n99% of my errors are because I&#39;m calling a method on an object that doesn&#39;t exist for that object but there&#39;s another object named similar to that object in the same library that has the same method but of course this similarly named object doesnt.\n--------\nThat or calling an argument for a function in a library that has a similarly named function with the same argument so of course I think it will work but it doesn&#39;t.\n--------\nNice, automods should reply to every help question with stuff like this, good for people to learn.\n--------\n&gt;[I am trying to loop over a collection of strings, but am getting an individual characters](https://youtu.be/FnhljbEY9mg?t=44)\nYou&#39;re trying to write a file that isn&#39;t opened with &quot;w&quot;.\n--------\nI was just expecting a giant arrow pointing to stack overflow!\n--------\n:)\nI’ve found variable scope to be the problem that confuses me the longest.\n--------\nProbably because it doesn’t come up often, and can reek havoc on what values are vs what you expect them to be.\n--------\nThanks a lot!\n--------\nThis will help me a lot while learning python\nVery helpful\nNice!\n--------\nThanks for sharing!\n--------\nWhere is OSError?\n--------\nWish i could use something like this for debuggin\nWhat if it&#39;s an IOError when trying to write to a file that does exist that only happens every other day at midnight because the TCP buffer becomes full due to the log aggregation server doing automated maintenance which makes it stop accepting packets?\n--------\n(I still have PTSD from that one)\nPython for biologists?\n--------\nAlso, kinda disappointed, expected some joke in there :c\nMy code doesn&#39;t work because python refuses to accept that the variable exists\nThanks so much\nGreat job 👌\n&gt;does the code use loops or if statements\nHopefully people aren&#39;t using Python 2 too often.\n--------\nHonestly, I should make this to save myself the 600 questions a day I deal with from JR level developers.\n--------\nWhich usually amount to this:\n\nMy code isn&#39;t working.\n--------\nDid you check the logs?\n--------\nYes\nSeems on line 24 you&#39;re receiving a key error when looking for this key, that&#39;s a weird key, why are you looking for it.\n--------\nSome long convoluted explanation or a simple oops.\n--------\nAnd my focus has been broken, 15m lost, or worse the convoluted explanation revealed a convoluted design that now has to be explained (see: argued) why it won&#39;t work.\n--------\nAll the while I totally get it, you think you had an ingenious idea and I really support the creativity and the reaching out when you had a problem.\n--------\nBut A, you were given a design to follow, stick to it if it didn&#39;t hold water than before approaching a new path you need to check to see if other avenues exist to keep the original intended design, B, you showed that you can&#39;t read basic error logs.\n--------\nAnd keep in mind, for everything you&#39;re asked to code I&#39;m expected to perform 4-8x with half the time as you (on paper) even though I&#39;m also juggling 6-8hr meetings a day.\n--------\nAnd somehow still fit in time for design, guidance, ticket mgmt, etc etc etc.\n--------\nSorry, feeling a little burned out reddit.\n--------\nFrick where was this in my fundamentals class\ni wish it was this simple...\nLast resort: disturb and ask your very busy colleague who is wearing a headphone every 10 minutes to help you debug your code\nLittle known fact: all of these branches end with you finding a small change you made three months ago that broke everything.\n--------\nThis chart, if you read it carefully says &quot;you&#39;re using a non typed language&quot;.\n--------\nI wrote python for 8 years.\n--------\nI love python.\n--------\nBut I write go now at work, and the amount of errors I used to make in python that are caught during compilation is amazing\nAh if only.. imo the worst bugs happen at the infrastructure or config level.\n--------\nHell hath no fury like trying to debug code running on misconfigured infrastructure\nAbsolutely recommend for beginners and pros\nSo many programmers at my work need a very simple version of this which basically says: my code won&#39;t work!\n--------\n-&gt; did you read the error message or traceback?\n--------\n-&gt; no -&gt; read the traceback.\n--------\nIt is really helpful, thanks\n„What error did you get?“\n\n„Yes“\nWere that it were so simple\nNice!\n--------\nBut am I allowed to save this pic in my gallery?\n--------\nI want to save it because sometimes I have errors while coding.\n--------\nTime for a new wall poster for my office.\n--------\nPut this in a code!\n--------\nImagine having to use a cheat sheet to understand what your errors mean.\n--------\nI use python sometimes myself but lol\nYou forgot the stackoverflow answer isn&#39;t working with the new version of the api.\n--------\n\\#becoming desktop background no, i love the one i have but, if i did&#39;nt this would be it, sooooooo usefull!\n--------\nI rather use print statements of variables at random points in the code.\n--------\n&gt; Does the code use loops or if statements\n\nI was not aware that I had to choose!\n"
    }
   ],
   "source": [
    "import nltk\n",
    "\n",
    "\n",
    "punkt = nltk.data.load('tokenizers/punkt/english.pickle')\n",
    "with open('data/r-python/debugging-cheat-sheet.txt') as test_file:\n",
    "    text = test_file.read()\n",
    "\n",
    "output = punkt.tokenize(text)\n",
    "print('\\n--------\\n'.join(output))"
   ]
  }
 ]
}