{
 "cells": [
  {
   "cell_type": "code",
   "execution_count": 137,
   "metadata": {},
   "outputs": [],
   "source": [
    "import os\n",
    "import nltk\n",
    "import random\n",
    "from nltk.tokenize import word_tokenize\n",
    "import pandas as pd"
   ]
  },
  {
   "cell_type": "code",
   "execution_count": 138,
   "metadata": {},
   "outputs": [],
   "source": [
    "dota2_files = os.listdir('../data/dota2')\n",
    "r_python_files = os.listdir('../data/r-python')\n",
    "sigbovik_files = os.listdir('../data/sigbovik')"
   ]
  },
  {
   "cell_type": "code",
   "execution_count": 139,
   "metadata": {},
   "outputs": [],
   "source": [
    "dota2_sentences = []\n",
    "r_python_sentences = []\n",
    "sigbovik_sentences = []"
   ]
  },
  {
   "cell_type": "code",
   "execution_count": 140,
   "metadata": {},
   "outputs": [],
   "source": [
    "for dota2_file in dota2_files:\n",
    "    with open('../data/dota2/{}'.format(dota2_file), 'r', encoding=\"utf8\") as file:\n",
    "        lines = file.readlines()\n",
    "        cleaned_lines = [line for line in lines if line.strip()]\n",
    "        dota2_sentences += cleaned_lines\n",
    "    file.close()"
   ]
  },
  {
   "cell_type": "code",
   "execution_count": 141,
   "metadata": {},
   "outputs": [],
   "source": [
    "for r_python_file in r_python_files:\n",
    "    with open('../data/r-python/{}'.format(r_python_file), 'r', encoding=\"utf8\") as file:\n",
    "        lines = file.readlines()\n",
    "        r_python_sentences += lines\n",
    "    file.close()"
   ]
  },
  {
   "cell_type": "code",
   "execution_count": 142,
   "metadata": {},
   "outputs": [],
   "source": [
    "for sigbovik_file in sigbovik_files:\n",
    "    with open('../data/sigbovik/{}'.format(sigbovik_file), 'r', encoding=\"utf8\") as file:\n",
    "        lines = file.readlines()\n",
    "        sigbovik_sentences += lines\n",
    "    file.close()"
   ]
  },
  {
   "cell_type": "code",
   "execution_count": 143,
   "metadata": {},
   "outputs": [],
   "source": [
    "rand_dota2_sentences = []\n",
    "rand_r_python_sentences = []\n",
    "rand_sigbovik_sentences = []\n",
    "\n",
    "for i in range(3):\n",
    "    rand_dota2_sentences.append(dota2_sentences[random.randrange(len(dota2_sentences))])\n",
    "    rand_r_python_sentences.append(r_python_sentences[random.randrange(len(r_python_sentences))])\n",
    "    rand_sigbovik_sentences.append(sigbovik_sentences[random.randrange(len(sigbovik_sentences))])\n",
    "    "
   ]
  },
  {
   "cell_type": "code",
   "execution_count": 144,
   "metadata": {},
   "outputs": [
    {
     "name": "stdout",
     "output_type": "stream",
     "text": [
      "Diffusal Blade\n",
      "\n",
      "      Token pos_tag\n",
      "0  Diffusal     NNP\n",
      "1     Blade     NNP\n",
      "\t\tLevel 15 Talent changed from +325 Flux Cast Range to +15% Cooldown Reduction\n",
      "\n",
      "        Token pos_tag\n",
      "0       Level      NN\n",
      "1          15      CD\n",
      "2      Talent     NNP\n",
      "3     changed     VBD\n",
      "4        from      IN\n",
      "5        +325     NNP\n",
      "6        Flux     NNP\n",
      "7        Cast     NNP\n",
      "8       Range     NNP\n",
      "9          to      TO\n",
      "10        +15      VB\n",
      "11          %      NN\n",
      "12   Cooldown     NNP\n",
      "13  Reduction     NNP\n",
      "\tStrength/Intelligence/Agility reduced from 6/3/3 to 5/2/2\n",
      "\n",
      "                           Token pos_tag\n",
      "0  Strength/Intelligence/Agility      NN\n",
      "1                        reduced     VBN\n",
      "2                           from      IN\n",
      "3                          6/3/3      CD\n",
      "4                             to      TO\n",
      "5                          5/2/2      CD\n"
     ]
    }
   ],
   "source": [
    "for rand_dota2_sentence in rand_dota2_sentences:\n",
    "    print(rand_dota2_sentence)\n",
    "    text = word_tokenize(rand_dota2_sentence)\n",
    "    pt = nltk.pos_tag(text)\n",
    "    df = pd.DataFrame(pt, columns =['Token', 'pos_tag']) \n",
    "    print(df)"
   ]
  },
  {
   "cell_type": "code",
   "execution_count": 145,
   "metadata": {},
   "outputs": [
    {
     "name": "stdout",
     "output_type": "stream",
     "text": [
      "Can somebody post the link? \n",
      "\n",
      "      Token pos_tag\n",
      "0       Can      MD\n",
      "1  somebody      VB\n",
      "2      post      VB\n",
      "3       the      DT\n",
      "4      link      NN\n",
      "5         ?       .\n",
      "Brilliant. Could be the hook that gets more millennials into code. \n",
      "\n",
      "          Token pos_tag\n",
      "0     Brilliant     NNP\n",
      "1             .       .\n",
      "2         Could      MD\n",
      "3            be      VB\n",
      "4           the      DT\n",
      "5          hook      NN\n",
      "6          that     WDT\n",
      "7          gets     VBZ\n",
      "8          more     JJR\n",
      "9   millennials     NNS\n",
      "10         into      IN\n",
      "11         code      NN\n",
      "12            .       .\n",
      "I of course applaud this, but also hope for a next step being integrating Python as an official [Windows Script Host](https://en.wikipedia.org/wiki/Windows_Script_Host) engine.\n",
      "\n",
      "                                          Token pos_tag\n",
      "0                                             I     PRP\n",
      "1                                            of      IN\n",
      "2                                        course      NN\n",
      "3                                       applaud      NN\n",
      "4                                          this      DT\n",
      "5                                             ,       ,\n",
      "6                                           but      CC\n",
      "7                                          also      RB\n",
      "8                                          hope     VBP\n",
      "9                                           for      IN\n",
      "10                                            a      DT\n",
      "11                                         next      JJ\n",
      "12                                         step      NN\n",
      "13                                        being     VBG\n",
      "14                                  integrating     VBG\n",
      "15                                       Python     NNP\n",
      "16                                           as      IN\n",
      "17                                           an      DT\n",
      "18                                     official      JJ\n",
      "19                                            [      NN\n",
      "20                                      Windows     NNP\n",
      "21                                       Script     NNP\n",
      "22                                         Host     NNP\n",
      "23                                            ]     NNP\n",
      "24                                            (       (\n",
      "25                                        https      NN\n",
      "26                                            :       :\n",
      "27  //en.wikipedia.org/wiki/Windows_Script_Host      NN\n",
      "28                                            )       )\n",
      "29                                       engine      NN\n",
      "30                                            .       .\n"
     ]
    }
   ],
   "source": [
    "for rand_r_python_sentence in rand_r_python_sentences:\n",
    "    print(rand_r_python_sentence)\n",
    "    text = word_tokenize(rand_r_python_sentence)\n",
    "    pt = nltk.pos_tag(text)\n",
    "    df = pd.DataFrame(pt, columns =['Token', 'pos_tag']) \n",
    "    print(df)"
   ]
  },
  {
   "cell_type": "code",
   "execution_count": 146,
   "metadata": {},
   "outputs": [
    {
     "name": "stdout",
     "output_type": "stream",
     "text": [
      "3The etymology of gnorance is a long and interesting one. Phonetic experts will know that the g is silent\n",
      "\n",
      "          Token pos_tag\n",
      "0          3The      CD\n",
      "1     etymology      NN\n",
      "2            of      IN\n",
      "3      gnorance      NN\n",
      "4            is     VBZ\n",
      "5             a      DT\n",
      "6          long      JJ\n",
      "7           and      CC\n",
      "8   interesting      JJ\n",
      "9           one      NN\n",
      "10            .       .\n",
      "11     Phonetic      JJ\n",
      "12      experts     NNS\n",
      "13         will      MD\n",
      "14         know      VB\n",
      "15         that      IN\n",
      "16          the      DT\n",
      "17            g      NN\n",
      "18           is     VBZ\n",
      "19       silent      JJ\n",
      "the one from the military (the leftmost one).\n",
      "\n",
      "       Token pos_tag\n",
      "0        the      DT\n",
      "1        one      CD\n",
      "2       from      IN\n",
      "3        the      DT\n",
      "4   military      NN\n",
      "5          (       (\n",
      "6        the      DT\n",
      "7   leftmost      NN\n",
      "8        one      CD\n",
      "9          )       )\n",
      "10         .       .\n",
      "supports only addition and subtraction. Also, sometimes it\n",
      "\n",
      "         Token pos_tag\n",
      "0     supports     NNS\n",
      "1         only      RB\n",
      "2     addition      NN\n",
      "3          and      CC\n",
      "4  subtraction      NN\n",
      "5            .       .\n",
      "6         Also      RB\n",
      "7            ,       ,\n",
      "8    sometimes     VBZ\n",
      "9           it     PRP\n"
     ]
    }
   ],
   "source": [
    "for rand_sigbovik_sentence in rand_sigbovik_sentences:\n",
    "    print(rand_sigbovik_sentence)\n",
    "    text = word_tokenize(rand_sigbovik_sentence)\n",
    "    pt = nltk.pos_tag(text)\n",
    "    df = pd.DataFrame(pt, columns =['Token', 'pos_tag']) \n",
    "    print(df)"
   ]
  },
  {
   "cell_type": "code",
   "execution_count": null,
   "metadata": {},
   "outputs": [],
   "source": []
  }
 ],
 "metadata": {
  "kernelspec": {
   "display_name": "Python 3",
   "language": "python",
   "name": "python3"
  },
  "language_info": {
   "codemirror_mode": {
    "name": "ipython",
    "version": 3
   },
   "file_extension": ".py",
   "mimetype": "text/x-python",
   "name": "python",
   "nbconvert_exporter": "python",
   "pygments_lexer": "ipython3",
   "version": "3.7.4"
  }
 },
 "nbformat": 4,
 "nbformat_minor": 2
}
