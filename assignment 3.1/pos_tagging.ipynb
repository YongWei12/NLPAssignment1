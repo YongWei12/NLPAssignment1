{
 "cells": [
  {
   "cell_type": "code",
   "execution_count": 1,
   "metadata": {},
   "outputs": [],
   "source": [
    "import os\n",
    "import nltk\n",
    "import random\n",
    "from nltk.tokenize import word_tokenize, sent_tokenize\n",
    "import pandas as pd\n",
    "from nltk.data import load"
   ]
  },
  {
   "cell_type": "code",
   "execution_count": 2,
   "metadata": {},
   "outputs": [],
   "source": [
    "tagdict = load('help/tagsets/upenn_tagset.pickle')"
   ]
  },
  {
   "cell_type": "code",
   "execution_count": 3,
   "metadata": {},
   "outputs": [],
   "source": [
    "dota2_files = os.listdir('data/dota2')\n",
    "r_python_files = os.listdir('data/r-python')\n",
    "sigbovik_files = os.listdir('data/sigbovik')"
   ]
  },
  {
   "cell_type": "code",
   "execution_count": 4,
   "metadata": {},
   "outputs": [],
   "source": [
    "dota2_sentences = []\n",
    "r_python_sentences = []\n",
    "sigbovik_sentences = []"
   ]
  },
  {
   "cell_type": "code",
   "execution_count": 5,
   "metadata": {},
   "outputs": [],
   "source": [
    "for dota2_file in dota2_files:\n",
    "    with open('data/dota2/{}'.format(dota2_file), 'r', encoding=\"utf8\") as file:\n",
    "        lines = file.readlines()\n",
    "        cleaned_lines = [line for line in lines if line.strip()]\n",
    "        dota2_sentences += cleaned_lines\n",
    "    file.close()"
   ]
  },
  {
   "cell_type": "code",
   "execution_count": 6,
   "metadata": {},
   "outputs": [],
   "source": [
    "for r_python_file in r_python_files:\n",
    "    with open('data/r-python/{}'.format(r_python_file), 'r', encoding=\"utf8\") as file:\n",
    "        text = file.read()\n",
    "        lines = sent_tokenize(text)\n",
    "        r_python_sentences += lines\n",
    "    file.close()"
   ]
  },
  {
   "cell_type": "code",
   "execution_count": 7,
   "metadata": {},
   "outputs": [],
   "source": [
    "for sigbovik_file in sigbovik_files:\n",
    "    with open('data/sigbovik/{}'.format(sigbovik_file), 'r', encoding=\"utf8\") as file:\n",
    "        text = file.read()\n",
    "        lines = sent_tokenize(text)\n",
    "        sigbovik_sentences += lines\n",
    "    file.close()"
   ]
  },
  {
   "cell_type": "code",
   "execution_count": 8,
   "metadata": {},
   "outputs": [],
   "source": [
    "rand_dota2_sentences = []\n",
    "rand_r_python_sentences = []\n",
    "rand_sigbovik_sentences = []\n",
    "\n",
    "for i in range(3):\n",
    "    rand_dota2_sentences.append(dota2_sentences[random.randrange(len(dota2_sentences))])\n",
    "    rand_r_python_sentences.append(r_python_sentences[random.randrange(len(r_python_sentences))])\n",
    "    rand_sigbovik_sentences.append(sigbovik_sentences[random.randrange(len(sigbovik_sentences))])\n",
    "    "
   ]
  },
  {
   "cell_type": "code",
   "execution_count": 9,
   "metadata": {},
   "outputs": [
    {
     "name": "stdout",
     "output_type": "stream",
     "text": [
      "\tTalents\n",
      "\n",
      "     Token pos_tag                                        Tag meaning\n",
      "0  Talents     NNS  (noun, common, plural, undergraduates scotches... \n",
      "\n",
      "\tCost increased from 50 to 90\n",
      "\n",
      "       Token pos_tag                                        Tag meaning\n",
      "0       Cost      NN  (noun, common, singular or mass, common-carrie...\n",
      "1  increased     VBD  (verb, past tense, dipped pleaded swiped regum...\n",
      "2       from      IN  (preposition or conjunction, subordinating, as...\n",
      "3         50      CD  (numeral, cardinal, mid-1890 nine-thirty forty...\n",
      "4         to      TO    (\"to\" as preposition or infinitive marker, to )\n",
      "5         90      CD  (numeral, cardinal, mid-1890 nine-thirty forty... \n",
      "\n",
      "\t\tVengeance Aura attack range reduced from 60/90/120/150 to 50/75/100/125\n",
      "\n",
      "           Token pos_tag                                        Tag meaning\n",
      "0      Vengeance     NNP  (noun, proper, singular, Motown Venneboerger C...\n",
      "1           Aura     NNP  (noun, proper, singular, Motown Venneboerger C...\n",
      "2         attack      NN  (noun, common, singular or mass, common-carrie...\n",
      "3          range      NN  (noun, common, singular or mass, common-carrie...\n",
      "4        reduced     VBD  (verb, past tense, dipped pleaded swiped regum...\n",
      "5           from      IN  (preposition or conjunction, subordinating, as...\n",
      "6  60/90/120/150      CD  (numeral, cardinal, mid-1890 nine-thirty forty...\n",
      "7             to      TO    (\"to\" as preposition or infinitive marker, to )\n",
      "8  50/75/100/125      CD  (numeral, cardinal, mid-1890 nine-thirty forty... \n",
      "\n"
     ]
    }
   ],
   "source": [
    "for rand_dota2_sentence in rand_dota2_sentences:\n",
    "    print(rand_dota2_sentence)\n",
    "    text = word_tokenize(rand_dota2_sentence)\n",
    "    pt = nltk.pos_tag(text)\n",
    "    df = pd.DataFrame(pt, columns =['Token', 'pos_tag'])\n",
    "    tags = [t[1] for t in pt]\n",
    "    tag_meanings = [tagdict[tag] for tag in tags]\n",
    "    df['Tag meaning'] = tag_meanings\n",
    "    print(df,'\\n')"
   ]
  },
  {
   "cell_type": "code",
   "execution_count": 10,
   "metadata": {},
   "outputs": [
    {
     "name": "stdout",
     "output_type": "stream",
     "text": [
      "I don't want to be put into the same box with nazis just because I have some cultural subconscious imprints ...\n",
      "           Token pos_tag                                        Tag meaning\n",
      "0              I     PRP  (pronoun, personal, hers herself him himself h...\n",
      "1             do     VBP  (verb, present tense, not 3rd person singular,...\n",
      "2            n't      RB  (adverb, occasionally unabatingly maddeningly ...\n",
      "3           want      VB  (verb, base form, ask assemble assess assign a...\n",
      "4             to      TO    (\"to\" as preposition or infinitive marker, to )\n",
      "5             be      VB  (verb, base form, ask assemble assess assign a...\n",
      "6            put     VBN  (verb, past participle, multihulled dilapidate...\n",
      "7           into      IN  (preposition or conjunction, subordinating, as...\n",
      "8            the      DT  (determiner, all an another any both del each ...\n",
      "9           same      JJ  (adjective or numeral, ordinal, third ill-mann...\n",
      "10           box      NN  (noun, common, singular or mass, common-carrie...\n",
      "11          with      IN  (preposition or conjunction, subordinating, as...\n",
      "12         nazis      NN  (noun, common, singular or mass, common-carrie...\n",
      "13          just      RB  (adverb, occasionally unabatingly maddeningly ...\n",
      "14       because      IN  (preposition or conjunction, subordinating, as...\n",
      "15             I     PRP  (pronoun, personal, hers herself him himself h...\n",
      "16          have     VBP  (verb, present tense, not 3rd person singular,...\n",
      "17          some      DT  (determiner, all an another any both del each ...\n",
      "18      cultural      JJ  (adjective or numeral, ordinal, third ill-mann...\n",
      "19  subconscious      JJ  (adjective or numeral, ordinal, third ill-mann...\n",
      "20      imprints     NNS  (noun, common, plural, undergraduates scotches...\n",
      "21           ...       :                      (colon or ellipsis, : ; ... ) \n",
      "\n",
      "I think my input is \"do it\".\n",
      "   Token pos_tag                                        Tag meaning\n",
      "0      I     PRP  (pronoun, personal, hers herself him himself h...\n",
      "1  think     VBP  (verb, present tense, not 3rd person singular,...\n",
      "2     my    PRP$  (pronoun, possessive, her his mine my our ours...\n",
      "3  input      NN  (noun, common, singular or mass, common-carrie...\n",
      "4     is     VBZ  (verb, present tense, 3rd person singular, bas...\n",
      "5     ``      ``                    (opening quotation mark, ` `` )\n",
      "6     do     VBP  (verb, present tense, not 3rd person singular,...\n",
      "7     it     PRP  (pronoun, personal, hers herself him himself h...\n",
      "8     ''      ''                    (closing quotation mark, ' '' )\n",
      "9      .       .                      (sentence terminator, . ! ? ) \n",
      "\n",
      "I love the thought that went into this.\n",
      "     Token pos_tag                                        Tag meaning\n",
      "0        I     PRP  (pronoun, personal, hers herself him himself h...\n",
      "1     love     VBP  (verb, present tense, not 3rd person singular,...\n",
      "2      the      DT  (determiner, all an another any both del each ...\n",
      "3  thought      NN  (noun, common, singular or mass, common-carrie...\n",
      "4     that     WDT  (WH-determiner, that what whatever which which...\n",
      "5     went     VBD  (verb, past tense, dipped pleaded swiped regum...\n",
      "6     into      IN  (preposition or conjunction, subordinating, as...\n",
      "7     this      DT  (determiner, all an another any both del each ...\n",
      "8        .       .                      (sentence terminator, . ! ? ) \n",
      "\n"
     ]
    }
   ],
   "source": [
    "for rand_r_python_sentence in rand_r_python_sentences:\n",
    "    print(rand_r_python_sentence)\n",
    "    text = word_tokenize(rand_r_python_sentence)\n",
    "    pt = nltk.pos_tag(text)\n",
    "    df = pd.DataFrame(pt, columns =['Token', 'pos_tag'])\n",
    "    tags = [t[1] for t in pt]\n",
    "    tag_meanings = [tagdict[tag] for tag in tags]\n",
    "    df['Tag meaning'] = tag_meanings\n",
    "    print(df,'\\n')"
   ]
  },
  {
   "cell_type": "code",
   "execution_count": 11,
   "metadata": {},
   "outputs": [
    {
     "name": "stdout",
     "output_type": "stream",
     "text": [
      "Notably,  most  of  the  pieces  on  each\n",
      "half  of  the  board  have  a  single  color.\n",
      "      Token pos_tag                                        Tag meaning\n",
      "0   Notably      RB  (adverb, occasionally unabatingly maddeningly ...\n",
      "1         ,       ,                                        (comma, , )\n",
      "2      most     JJS  (adjective, superlative, calmest cheapest choi...\n",
      "3        of      IN  (preposition or conjunction, subordinating, as...\n",
      "4       the      DT  (determiner, all an another any both del each ...\n",
      "5    pieces     NNS  (noun, common, plural, undergraduates scotches...\n",
      "6        on      IN  (preposition or conjunction, subordinating, as...\n",
      "7      each      DT  (determiner, all an another any both del each ...\n",
      "8      half      NN  (noun, common, singular or mass, common-carrie...\n",
      "9        of      IN  (preposition or conjunction, subordinating, as...\n",
      "10      the      DT  (determiner, all an another any both del each ...\n",
      "11    board      NN  (noun, common, singular or mass, common-carrie...\n",
      "12     have     VBP  (verb, present tense, not 3rd person singular,...\n",
      "13        a      DT  (determiner, all an another any both del each ...\n",
      "14   single      JJ  (adjective or numeral, ordinal, third ill-mann...\n",
      "15    color      NN  (noun, common, singular or mass, common-carrie...\n",
      "16        .       .                      (sentence terminator, . ! ? ) \n",
      "\n",
      "The ability to understand concepts and\n",
      "solve problems for which clear rules are not set is what the\n",
      "current neural networks lack in order to become an AGI.\n",
      "         Token pos_tag                                        Tag meaning\n",
      "0          The      DT  (determiner, all an another any both del each ...\n",
      "1      ability      NN  (noun, common, singular or mass, common-carrie...\n",
      "2           to      TO    (\"to\" as preposition or infinitive marker, to )\n",
      "3   understand      VB  (verb, base form, ask assemble assess assign a...\n",
      "4     concepts     NNS  (noun, common, plural, undergraduates scotches...\n",
      "5          and      CC  (conjunction, coordinating, & 'n and both but ...\n",
      "6        solve      VB  (verb, base form, ask assemble assess assign a...\n",
      "7     problems     NNS  (noun, common, plural, undergraduates scotches...\n",
      "8          for      IN  (preposition or conjunction, subordinating, as...\n",
      "9        which     WDT  (WH-determiner, that what whatever which which...\n",
      "10       clear      JJ  (adjective or numeral, ordinal, third ill-mann...\n",
      "11       rules     NNS  (noun, common, plural, undergraduates scotches...\n",
      "12         are     VBP  (verb, present tense, not 3rd person singular,...\n",
      "13         not      RB  (adverb, occasionally unabatingly maddeningly ...\n",
      "14         set     VBN  (verb, past participle, multihulled dilapidate...\n",
      "15          is     VBZ  (verb, present tense, 3rd person singular, bas...\n",
      "16        what      WP  (WH-pronoun, that what whatever whatsoever whi...\n",
      "17         the      DT  (determiner, all an another any both del each ...\n",
      "18     current      JJ  (adjective or numeral, ordinal, third ill-mann...\n",
      "19      neural      JJ  (adjective or numeral, ordinal, third ill-mann...\n",
      "20    networks     NNS  (noun, common, plural, undergraduates scotches...\n",
      "21        lack     VBP  (verb, present tense, not 3rd person singular,...\n",
      "22          in      IN  (preposition or conjunction, subordinating, as...\n",
      "23       order      NN  (noun, common, singular or mass, common-carrie...\n",
      "24          to      TO    (\"to\" as preposition or infinitive marker, to )\n",
      "25      become      VB  (verb, base form, ask assemble assess assign a...\n",
      "26          an      DT  (determiner, all an another any both del each ...\n",
      "27         AGI     NNP  (noun, proper, singular, Motown Venneboerger C...\n",
      "28           .       .                      (sentence terminator, . ! ? ) \n",
      "\n",
      "lang=en.\n",
      "     Token pos_tag                                        Tag meaning\n",
      "0  lang=en      NN  (noun, common, singular or mass, common-carrie...\n",
      "1        .       .                      (sentence terminator, . ! ? ) \n",
      "\n"
     ]
    }
   ],
   "source": [
    "for rand_sigbovik_sentence in rand_sigbovik_sentences:\n",
    "    print(rand_sigbovik_sentence)\n",
    "    text = word_tokenize(rand_sigbovik_sentence)\n",
    "    pt = nltk.pos_tag(text)\n",
    "    df = pd.DataFrame(pt, columns =['Token', 'pos_tag'])\n",
    "    tags = [t[1] for t in pt]\n",
    "    tag_meanings = [tagdict[tag] for tag in tags]\n",
    "    df['Tag meaning'] = tag_meanings\n",
    "    print(df,'\\n')"
   ]
  },
  {
   "cell_type": "code",
   "execution_count": null,
   "metadata": {},
   "outputs": [],
   "source": []
  },
  {
   "cell_type": "code",
   "execution_count": null,
   "metadata": {},
   "outputs": [],
   "source": []
  }
 ],
 "metadata": {
  "kernelspec": {
   "display_name": "Python 3",
   "language": "python",
   "name": "python3"
  },
  "language_info": {
   "codemirror_mode": {
    "name": "ipython",
    "version": 3
   },
   "file_extension": ".py",
   "mimetype": "text/x-python",
   "name": "python",
   "nbconvert_exporter": "python",
   "pygments_lexer": "ipython3",
   "version": "3.8.3"
  }
 },
 "nbformat": 4,
 "nbformat_minor": 2
}
