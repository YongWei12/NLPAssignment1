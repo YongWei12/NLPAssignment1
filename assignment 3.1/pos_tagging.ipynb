{
 "cells": [
  {
   "cell_type": "code",
   "execution_count": 1,
   "metadata": {},
   "outputs": [],
   "source": [
    "import os\n",
    "import nltk\n",
    "import random\n",
    "from nltk.tokenize import word_tokenize, sent_tokenize\n",
    "import pandas as pd"
   ]
  },
  {
   "cell_type": "code",
   "execution_count": 2,
   "metadata": {},
   "outputs": [],
   "source": [
    "dota2_files = os.listdir('data/dota2')\n",
    "r_python_files = os.listdir('data/r-python')\n",
    "sigbovik_files = os.listdir('data/sigbovik')"
   ]
  },
  {
   "cell_type": "code",
   "execution_count": 3,
   "metadata": {},
   "outputs": [],
   "source": [
    "dota2_sentences = []\n",
    "r_python_sentences = []\n",
    "sigbovik_sentences = []"
   ]
  },
  {
   "cell_type": "code",
   "execution_count": 4,
   "metadata": {},
   "outputs": [],
   "source": [
    "for dota2_file in dota2_files:\n",
    "    with open('data/dota2/{}'.format(dota2_file), 'r', encoding=\"utf8\") as file:\n",
    "        lines = file.readlines()\n",
    "        cleaned_lines = [line for line in lines if line.strip()]\n",
    "        dota2_sentences += cleaned_lines\n",
    "    file.close()"
   ]
  },
  {
   "cell_type": "code",
   "execution_count": 5,
   "metadata": {},
   "outputs": [],
   "source": [
    "for r_python_file in r_python_files:\n",
    "    with open('data/r-python/{}'.format(r_python_file), 'r', encoding=\"utf8\") as file:\n",
    "        lines = file.readlines()\n",
    "        r_python_sentences += lines\n",
    "    file.close()"
   ]
  },
  {
   "cell_type": "code",
   "execution_count": 6,
   "metadata": {},
   "outputs": [],
   "source": [
    "for sigbovik_file in sigbovik_files:\n",
    "    with open('data/sigbovik/{}'.format(sigbovik_file), 'r', encoding=\"utf8\") as file:\n",
    "        text = file.read()\n",
    "        lines = sent_tokenize(text)\n",
    "        sigbovik_sentences += lines\n",
    "    file.close()"
   ]
  },
  {
   "cell_type": "code",
   "execution_count": 7,
   "metadata": {},
   "outputs": [],
   "source": [
    "rand_dota2_sentences = []\n",
    "rand_r_python_sentences = []\n",
    "rand_sigbovik_sentences = []\n",
    "\n",
    "for i in range(3):\n",
    "    rand_dota2_sentences.append(dota2_sentences[random.randrange(len(dota2_sentences))])\n",
    "    rand_r_python_sentences.append(r_python_sentences[random.randrange(len(r_python_sentences))])\n",
    "    rand_sigbovik_sentences.append(sigbovik_sentences[random.randrange(len(sigbovik_sentences))])\n",
    "    "
   ]
  },
  {
   "cell_type": "code",
   "execution_count": 8,
   "metadata": {},
   "outputs": [
    {
     "name": "stdout",
     "output_type": "stream",
     "text": [
      "\t\tLevel 10 Talent changed from +150 Health to +7% Hunter in the Night movement speed\n",
      "\n",
      "       Token pos_tag\n",
      "0      Level      NN\n",
      "1         10      CD\n",
      "2     Talent     NNP\n",
      "3    changed     VBD\n",
      "4       from      IN\n",
      "5       +150     NNP\n",
      "6     Health     NNP\n",
      "7         to      TO\n",
      "8         +7      VB\n",
      "9          %      NN\n",
      "10    Hunter     NNP\n",
      "11        in      IN\n",
      "12       the      DT\n",
      "13     Night     NNP\n",
      "14  movement      NN\n",
      "15     speed      NN \n",
      "\n",
      "Skywrath Mage\n",
      "\n",
      "      Token pos_tag\n",
      "0  Skywrath     NNP\n",
      "1      Mage      NN \n",
      "\n",
      "\tTalents\n",
      "\n",
      "     Token pos_tag\n",
      "0  Talents     NNS \n",
      "\n"
     ]
    }
   ],
   "source": [
    "for rand_dota2_sentence in rand_dota2_sentences:\n",
    "    print(rand_dota2_sentence)\n",
    "    text = word_tokenize(rand_dota2_sentence)\n",
    "    pt = nltk.pos_tag(text)\n",
    "    df = pd.DataFrame(pt, columns =['Token', 'pos_tag']) \n",
    "    print(df,'\\n')"
   ]
  },
  {
   "cell_type": "code",
   "execution_count": 9,
   "metadata": {},
   "outputs": [
    {
     "name": "stdout",
     "output_type": "stream",
     "text": [
      "how do you do to work whit that?\n",
      "\n",
      "  Token pos_tag\n",
      "0   how     WRB\n",
      "1    do      VB\n",
      "2   you     PRP\n",
      "3    do      VB\n",
      "4    to      TO\n",
      "5  work      VB\n",
      "6  whit      NN\n",
      "7  that      IN\n",
      "8     ?       . \n",
      "\n",
      "            if session.Process and session.Process.name() == \"Spotify.exe\":\n",
      "\n",
      "                   Token pos_tag\n",
      "0                     if      IN\n",
      "1        session.Process      JJ\n",
      "2                    and      CC\n",
      "3   session.Process.name      NN\n",
      "4                      (       (\n",
      "5                      )       )\n",
      "6                     ==     VBP\n",
      "7                     ``      ``\n",
      "8            Spotify.exe     NNP\n",
      "9                     ''      ''\n",
      "10                     :       : \n",
      "\n",
      "It's also on Hacker News front page:\n",
      "\n",
      "    Token pos_tag\n",
      "0      It     PRP\n",
      "1      's     VBZ\n",
      "2    also      RB\n",
      "3      on      IN\n",
      "4  Hacker     NNP\n",
      "5    News     NNP\n",
      "6   front      JJ\n",
      "7    page      NN\n",
      "8       :       : \n",
      "\n"
     ]
    }
   ],
   "source": [
    "for rand_r_python_sentence in rand_r_python_sentences:\n",
    "    print(rand_r_python_sentence)\n",
    "    text = word_tokenize(rand_r_python_sentence)\n",
    "    pt = nltk.pos_tag(text)\n",
    "    df = pd.DataFrame(pt, columns =['Token', 'pos_tag']) \n",
    "    print(df,'\\n')"
   ]
  },
  {
   "cell_type": "code",
   "execution_count": 10,
   "metadata": {},
   "outputs": [
    {
     "name": "stdout",
     "output_type": "stream",
     "text": [
      "We have manually classified the next 60\n",
      "numbers.\n",
      "        Token pos_tag\n",
      "0          We     PRP\n",
      "1        have     VBP\n",
      "2    manually      RB\n",
      "3  classified     VBN\n",
      "4         the      DT\n",
      "5        next      JJ\n",
      "6          60      CD\n",
      "7     numbers     NNS\n",
      "8           .       . \n",
      "\n",
      "wikipedia.org/wiki/Board_representation_(chess).\n",
      "                                      Token pos_tag\n",
      "0  wikipedia.org/wiki/Board_representation_      NN\n",
      "1                                         (       (\n",
      "2                                     chess      NN\n",
      "3                                         )       )\n",
      "4                                         .       . \n",
      "\n",
      "A week later, these same so-called “authors” changed the\n",
      "requirement to C++, then Python, then probably HTML (I fell\n",
      "asleep during that meeting), and then �nally SystemVerilog.\n",
      "            Token pos_tag\n",
      "0               A      DT\n",
      "1            week      NN\n",
      "2           later      RB\n",
      "3               ,       ,\n",
      "4           these      DT\n",
      "5            same      JJ\n",
      "6       so-called      JJ\n",
      "7               “      NN\n",
      "8         authors     NNS\n",
      "9               ”     VBP\n",
      "10        changed     VBD\n",
      "11            the      DT\n",
      "12    requirement      NN\n",
      "13             to      TO\n",
      "14            C++     NNP\n",
      "15              ,       ,\n",
      "16           then      RB\n",
      "17         Python     NNP\n",
      "18              ,       ,\n",
      "19           then      RB\n",
      "20       probably      RB\n",
      "21           HTML     NNP\n",
      "22              (       (\n",
      "23              I     PRP\n",
      "24           fell     VBD\n",
      "25         asleep      RB\n",
      "26         during      IN\n",
      "27           that      DT\n",
      "28        meeting      NN\n",
      "29              )       )\n",
      "30              ,       ,\n",
      "31            and      CC\n",
      "32           then      RB\n",
      "33         �nally      RB\n",
      "34  SystemVerilog     NNP\n",
      "35              .       . \n",
      "\n"
     ]
    }
   ],
   "source": [
    "for rand_sigbovik_sentence in rand_sigbovik_sentences:\n",
    "    print(rand_sigbovik_sentence)\n",
    "    text = word_tokenize(rand_sigbovik_sentence)\n",
    "    pt = nltk.pos_tag(text)\n",
    "    df = pd.DataFrame(pt, columns =['Token', 'pos_tag']) \n",
    "    print(df,'\\n')"
   ]
  },
  {
   "cell_type": "code",
   "execution_count": null,
   "metadata": {},
   "outputs": [],
   "source": []
  }
 ],
 "metadata": {
  "kernelspec": {
   "display_name": "Python 3",
   "language": "python",
   "name": "python3"
  },
  "language_info": {
   "codemirror_mode": {
    "name": "ipython",
    "version": 3
   },
   "file_extension": ".py",
   "mimetype": "text/x-python",
   "name": "python",
   "nbconvert_exporter": "python",
   "pygments_lexer": "ipython3",
   "version": "3.8.3"
  }
 },
 "nbformat": 4,
 "nbformat_minor": 2
}
