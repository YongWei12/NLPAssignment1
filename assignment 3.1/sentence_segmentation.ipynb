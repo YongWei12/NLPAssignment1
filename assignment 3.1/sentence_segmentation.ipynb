{
 "metadata": {
  "language_info": {
   "codemirror_mode": {
    "name": "ipython",
    "version": 3
   },
   "file_extension": ".py",
   "mimetype": "text/x-python",
   "name": "python",
   "nbconvert_exporter": "python",
   "pygments_lexer": "ipython3",
   "version": "3.8.3-final"
  },
  "orig_nbformat": 2,
  "kernelspec": {
   "name": "python38364bitaivenvcondaf74d87cbcd1c41a2a9ab01eaafaa18b6",
   "display_name": "Python 3.8.3 64-bit ('ai_venv': conda)"
  }
 },
 "nbformat": 4,
 "nbformat_minor": 2,
 "cells": [
  {
   "source": [
    "# Sentence Segmentation"
   ],
   "cell_type": "markdown",
   "metadata": {}
  },
  {
   "source": [
    "## Import libraries and declare constants"
   ],
   "cell_type": "markdown",
   "metadata": {}
  },
  {
   "cell_type": "code",
   "execution_count": 1,
   "metadata": {},
   "outputs": [],
   "source": [
    "from nltk.tokenize import sent_tokenize, word_tokenize\n",
    "\n",
    "import matplotlib.pyplot as plt\n",
    "import os\n",
    "import random\n",
    "\n",
    "\n",
    "data_dir_path = 'data/'"
   ]
  },
  {
   "source": [
    "## Quick Data Analysis (Qualitatively)\n",
    "\n",
    "Have a quick look at sample data from each dataset"
   ],
   "cell_type": "markdown",
   "metadata": {}
  },
  {
   "cell_type": "code",
   "execution_count": 2,
   "metadata": {
    "tags": []
   },
   "outputs": [
    {
     "output_type": "stream",
     "name": "stdout",
     "text": [
      "General\n\tWhen two players pick the same hero in a round, the hero is banned instead and the round restarts\n\tAll Pick hero selection duration reduced from 25 to 20 seconds\n\tWards can now always be attacked by the owning player\n\tHarpy Stormcrafter mana capacity reduced from 150 to 125\n\nItems\nRing of Regen\n\tHealth regeneration reduced from 2 to 1.75\n\nSoul Ring\n\tHealth regen reduced from 2.5 to 2.25\n\nHeaddress\n\tHealth regen reduced from 2.5 to 2\n\nMekansm\n\tHealth regen aura reduced from 2.5 to 2\n\nPipe of Insight\n\tHealth regen aura reduced from 2.5 to 2\n\tRecipe cost increased from 800 to 1000\n\nHelm of the Dominator\n\tHealth regen aura reduced from 5 to 4.25\n\nRing of Tarrasque\n\tHealth regen reduced from 4.5 to 4\n\nRoyal Jelly\n\tHealth regen reduced from 2.5 to 2.25\n\nNecronomicon\n\tStrength reduced from 10/15/20 to 6/12/18\n\nVladmir's Offering\n\tRecipe cost increased from 450 to 550\n\nDust of Appearance\n\tCost reduced from 90 to 80\n\nHeroes\nBeastmaster\n\tCall of the Wild Hawk\n\t\tCall of the Wild Hawk no longer blocks neutral camps\n\tTalents\n\t\tLevel 15 Talent reduced from +35 Boar Damage to +30\n\nCentaur Warrunner\n\tRetaliate\n\t\tRetaliate attack damage per charge reduced from 6/8/10/12% to 4/6/8/10%\n\nClockwerk\n\tStrength gain reduced from 3.7 to 3.5\n\nDeath Prophet\n\tBase damage reduced by 2\n\tSpirit Siphon\n\t\tSpirit Siphon manacost increased from 70 to 80\n\tExorcism\n\t\tExorcism Scepter damage multiplier reduced from 1.75 to 1.5\n\nHuskar\n\tBerserker's Blood\n\t\tBerserker's Blood attack speed reduced from 140/200/260/320 to 130/190/250/310\n\tTalents\n\t\tLevel 15 Talent reduced from +10 Burning Spear DPS to +8\n\nKeeper of the Light\n\tChakra Magic\n\t\tChakra Magic cooldown reduction from 4/5/6/7 to 3/4/5/6\n\tTalents\n\t\tLevel 20 Talent reduced from +250 Will-O-Wisp AoE to +200\n\nLycan\n\tShapeshift\n\t\tShapeshift cooldown increased from 110/95/80 to 125/110/95\n\nMeepo\n\tBase agility reduced from 24 to 17 (base damage and armor unchanged)\n\tDivided We Stand\n\t\tDivided We Stand now level requirement increased from 3/10/18 to 4/11/18\n\nPhantom Lancer\n\tBase agility reduced by 3\n\nPhoenix\n\tFire Spirits\n\t\tFire Spirits damage reduced from 20/40/60/80 to 15/35/55/75\n\tTalents\n\t\tLevel 15 Talent reduced from +40 Fire Spirits DPS to +35\n\nSnapfire\n\tFiresnap Cookie\n\t\tFiresnap Cookie damage reduced from 90/160/230/300 to 70/140/210/280\n\nWraith King\n\tBase damage reduced by 2\n\tMortal Strike\n\t\tMortal Strike skeletons duration reduced from 90 seconds to 60\nnumber of words: 390\n--------\nDistinguishing humans from other forms of cattle\n\nBoppity Bob Martinez, Flokkkaº Haurilet\nFrungy Institute of Technology,\nZoq-Fot-Pik Capital, Alpha Tucanae I\n\nMarch 11, 2017\n\nFigure 1: One is a dangerous cow, the other is a delicious human.\nnumber of words: 44\n--------\nCan you tell\nwhich is which without aid?1\n\nAbstract\n\nWe, the Zoq-Fot-Pik, found out by accident that human meat is de-\nlicious, even better than Frungy.\nnumber of words: 32\n--------\nThis discovery wake up the Zebranky\ninside us, and once this happened, there we could not stop helping us with\ntasty human meat.\nnumber of words: 26\n--------\nSadly, humans are not very cooperative to the idea of\nbeing eaten by us, so we tried to discreetly abduct them a few at a time\nto supply our needs.\nnumber of words: 33\n--------\nThe problem was, as we found out, that the Earth is\nthriving with many species, and most of them are inedible and even dan-\ngerous!\nnumber of words: 29\n--------\nWe have significant trouble distinguishing between humans and\nnon-human Terrestrial beings.\nnumber of words: 12\n--------\nTo this end, we have acquired a human\nalgorithm that, once activated in the correct way, allow us to locate and\ndistinguish between humans and other similar beings (e.g., cows).\nnumber of words: 37\n--------\nIn this\ncontribution we present the evaluation of such algorithm named YOLO.\nnumber of words: 13\n--------\n1 Introduction\n\nWe, the Zoq-Fot-Pik made contact with humans during the Ur-Quan war\nin 2156, at the time, as you know, we were all vegetarian.\nnumber of words: 30\n--------\nHowever, in\n2160, long after the Ur-Quan conflict was over, we had an epiphany when\nthere was an incident in Suppox space, and a some of Zoq-Fot-Pik became\nstrangled with a herd of humans.\nnumber of words: 39\n--------\nOne thing lead to another, and the Zoq-\nFot-Pik were vegetarian no more.\nnumber of words: 15\n--------\nStill, our ships are weak in comparison to the human armada, so we\nhave no chance to capture their ships (mmm... delicious canned humans).\nnumber of words: 30\n--------\nWe tried to eat other earthly beings, but we found out that humans are\na key ingredient of Soylent Green Fig.\nnumber of words: 23\n--------\n2.\nnumber of words: 2\n--------\nThis is when we started to send our ships to capture humans from\ntheir home world.\nnumber of words: 17\n--------\nWe needed to capture them inconspicuously, to avoid\nrisking our diplomatic relations, but we had a hard time distinguishing\nhumans from the other species that habit their home world.\nnumber of words: 32\n--------\nWe are particularly impressed by human cows, which are large, dan-\ngerous, absolutely inedible, and roam freely through the fields of Earths,\nsee Fig.\nnumber of words: 30\n--------\n1.\nnumber of words: 2\n--------\nTo us, humans and cows are practically indistinguishable, and so is the\nsame for even our best algorithms developed by Zoq-Fot-Pik scientists.\nnumber of words: 25\n--------\nWe\nneeded a human approach to distinguish between cows and humans, and\nwe just were lucky that we received an ancient radio transmission from\nthe year 2016 Earth containing an algorithm named YOLO [2] that should\nserve our purpose.\nnumber of words: 43\n--------\n\nI’ll be honest, I was expecting a Cease and Desist from Amazon.\nnumber of words: 16\n--------\nVery cool.\nnumber of words: 3\n--------\nThat’s the beauty of sharing.\nnumber of words: 8\n--------\nYou never know who or how it will help someone, but you post it anyway because that’s just being awesome.\nnumber of words: 24\n--------\nThanks for sharing.\nnumber of words: 4\n--------\nThis was posted publicly by [Michael Haephrati](https://www.facebook.com/photo.php?fbid=10220524693682311) on Facebook.\nnumber of words: 19\n--------\nUpdate: The lad is a Redditor!\nnumber of words: 8\n--------\n[**u/haephrati**](https://www.reddit.com/user/haephrati/)\n\nUpdate: The lad turned it into a [Software](https://www.facebook.com/pg/accexa2020/about/?ref=page_internal)!\nnumber of words: 31\n--------\nI feel that.\nnumber of words: 4\n--------\nIt must be gratifying to do some good in the world, even if by accident.\nnumber of words: 17\n--------\nTo diminish another's suffering just a little bit.\nnumber of words: 10\n--------\nRIP Mrs. Roberts.\nnumber of words: 4\n--------\nreminds me of that black mirror episode\nThe beauty of opensource and sharing, you'll never know who's lives you may touch :)\nBeautiful!\nnumber of words: 28\n--------\n:-)\nIf he has enough recording, he can ask a machine learning specialist to train a voice model of his mum.\nnumber of words: 25\n--------\nAWWW!\nnumber of words: 2\n--------\nTo be a hero, you don't need to save all the people.\nnumber of words: 15\n--------\nYou saved even only one person, to that person, you are the Hero.....\nnumber of words: 16\n--------\nVery nice!\nnumber of words: 3\n--------\nHeartwarming.\nnumber of words: 2\n--------\nI expected this to be way worse and be an email from Amazon warning him to cut the shit out.\nnumber of words: 21\n--------\n"
     ]
    }
   ],
   "source": [
    "for domain in os.listdir(data_dir_path):\n",
    "    domain_dir_path = os.path.join(data_dir_path, domain)\n",
    "\n",
    "    # look at one document from each dataset\n",
    "    sample_doc = os.listdir(domain_dir_path)[0]\n",
    "    sample_doc_path = os.path.join(domain_dir_path, sample_doc)\n",
    "\n",
    "    with open(sample_doc_path) as sample_file:\n",
    "        text = sample_file.read()\n",
    "\n",
    "    sentences = sent_tokenize(text)\n",
    "\n",
    "    # look at first 20 sentences from sample document\n",
    "    for sentence in sentences[:20]:\n",
    "        print(sentence)\n",
    "\n",
    "        words = word_tokenize(sentence)\n",
    "\n",
    "        print(f'number of words: {len(words)}')\n",
    "        print('--------')"
   ]
  },
  {
   "source": [
    "It seems that the sentence tokenizer does not know how to segment sentences if punctuations are not present. This is not so much of a problem for the SIGBOVIK papers (which have full, proper English sentences), but it is quite a problem in the r/python posts and dota 2 patch notes (especially the patch notes, where changes to the game are written in point form)"
   ],
   "cell_type": "markdown",
   "metadata": {}
  },
  {
   "source": [
    "Let's see what happens if a period/full-stop is added to each line for a sample dota 2 patch notes."
   ],
   "cell_type": "markdown",
   "metadata": {}
  },
  {
   "cell_type": "code",
   "execution_count": 3,
   "metadata": {
    "tags": []
   },
   "outputs": [
    {
     "output_type": "stream",
     "name": "stdout",
     "text": [
      "Items.\nnumber of words: 2\n--------\nDrum of Endurance.\nnumber of words: 4\n--------\nAll stats reduced from +6 to +4.\nnumber of words: 8\n--------\nHeaven's Halberd.\nnumber of words: 4\n--------\nNow has a 400 gold recipe cost.\nnumber of words: 8\n--------\nSoul Ring.\nnumber of words: 3\n--------\nRecipe cost reduced from 350 to 275.\nnumber of words: 8\n--------\nHelm of the Dominator.\nnumber of words: 5\n--------\nMinimum health reduced from 1500 to 1000.\nnumber of words: 8\n--------\nNow grants +4 Armor to the dominated creep.\nnumber of words: 9\n--------\nHeroes.\nnumber of words: 2\n--------\nArc Warden.\nnumber of words: 3\n--------\nTempest Double.\nnumber of words: 3\n--------\nTempest Double no longer breaks Smoke of Deceit.\nnumber of words: 9\n--------\nTalents.\nnumber of words: 2\n--------\nLevel 10 Talent reduced from +350 Flux Cast Range to +300.\nnumber of words: 12\n--------\nBane.\nnumber of words: 2\n--------\nBrain Sap.\nnumber of words: 3\n--------\nBrain Sap manacost increased from 110/130/150/170 to 120/140/160/180.\nnumber of words: 9\n--------\nBloodseeker.\nnumber of words: 2\n--------\n"
     ]
    }
   ],
   "source": [
    "sample_dota2_txt_path = os.path.join(data_dir_path, 'dota2/7.27d.txt')\n",
    "\n",
    "with open(sample_dota2_txt_path) as sample_file:\n",
    "    # new-line characters separate 'sentences' currently\n",
    "    text = sample_file.read().replace('\\n\\n', '. ').replace('\\n', '. ')\n",
    "\n",
    "sentences = sent_tokenize(text)\n",
    "\n",
    "# look at first 20 sentences from sample document\n",
    "for sentence in sentences[:20]:\n",
    "    print(sentence)\n",
    "\n",
    "    words = word_tokenize(sentence)\n",
    "\n",
    "    print(f'number of words: {len(words)}')\n",
    "    print('--------')"
   ]
  },
  {
   "source": [
    "Now this looks more correct."
   ],
   "cell_type": "markdown",
   "metadata": {}
  },
  {
   "source": [
    "Let's try fixing sentence segmentation for r/python posts by adding periods to 'sentences' that end with new-line characters but no ending punctuation ('.', '!', '?') directly before the new-line character."
   ],
   "cell_type": "markdown",
   "metadata": {}
  },
  {
   "cell_type": "code",
   "execution_count": 4,
   "metadata": {
    "tags": []
   },
   "outputs": [
    {
     "output_type": "stream",
     "name": "stdout",
     "text": [
      " Nice.\nnumber of words: 2\n--------\nBtw u forgot the worst of them all .\nnumber of words: 9\n--------\n== and =.\nnumber of words: 4\n--------\n[Rubber Duck Debugging](https://rubberduckdebugging.com).\nnumber of words: 11\n--------\nEdit: Fixed a word.\nnumber of words: 6\n--------\nGreat sheet!\nnumber of words: 3\n--------\nIf you don't mind me asking, what did you make it with?\nnumber of words: 15\n--------\nI think it would be helpful to include a reminder that a SyntaxError might be caused by a mistake on a previous line: if line 29 has a SyntaxError and nothing looks wrong, you should check line 28 or 27.\nnumber of words: 43\n--------\nThanks!\nnumber of words: 2\n--------\nThis should help our students who seem alergic to reading error messages before asking for help :p. The most common source of `NameError` for me is when I create variable in `if` block, but not inside `else` block and then try to access it after the whole if/else.\nnumber of words: 57\n--------\nThe best way to avoid this especially for deeply nested set of blocks is to define the variable before if/else and set it to `None` or other sensible default.\nnumber of words: 32\n--------\nIt definetely beats the whole process of arguing about the conditions where the variable might be undefined and simplifies the reasoning for any other guy that reads your code.\nnumber of words: 30\n--------\nVery nice graphic.\nnumber of words: 4\n--------\nBut in all my years of programming I've never had an instance where a \"cheat sheet\" like this could have been useful.\nnumber of words: 26\n--------\nWhen a bug happens, you read the error message (which often includes the offending line), Google it if you had to, roll up your sleeves and wade into the code to see what's up.\nnumber of words: 41\n--------\nIs there something like this for C Programming?\nnumber of words: 9\n--------\nr/learnpython.\nnumber of words: 2\n--------\nBeautiful.\nnumber of words: 2\n--------\nThis is amazing.\nnumber of words: 4\n--------\nThank you.\nnumber of words: 3\n--------\n"
     ]
    }
   ],
   "source": [
    "sample_rpython_txt_path = os.path.join(data_dir_path, 'r-python/debugging-cheat-sheet.txt')\n",
    "\n",
    "with open(sample_rpython_txt_path) as sample_file:\n",
    "    # assume there is one sentence on each line\n",
    "    text = sample_file.read()\n",
    "\n",
    "lines = text.splitlines()\n",
    "for index, line in enumerate(lines):\n",
    "    # empty line, or\n",
    "    # already has ending punctuation mark\n",
    "    if line == '' or line[-1] in ('.', '!', '?'):\n",
    "        continue\n",
    "\n",
    "    lines[index] = line + '.'\n",
    "\n",
    "text = ' '.join(lines)\n",
    "\n",
    "sentences = sent_tokenize(text)\n",
    "\n",
    "# look at first 20 sentences from sample document\n",
    "for sentence in sentences[:20]:\n",
    "    print(sentence)\n",
    "\n",
    "    words = word_tokenize(sentence)\n",
    "\n",
    "    print(f'number of words: {len(words)}')\n",
    "    print('--------')"
   ]
  },
  {
   "source": [
    "Not perfect (recognised 2 sentences as 1 in example above), but it is better than before"
   ],
   "cell_type": "markdown",
   "metadata": {}
  },
  {
   "source": [
    "## Declare utility functions for preprocessing data"
   ],
   "cell_type": "markdown",
   "metadata": {}
  },
  {
   "cell_type": "code",
   "execution_count": 22,
   "metadata": {},
   "outputs": [],
   "source": [
    "def preprocess_dota2_text(text: str) -> str:\n",
    "    '''\n",
    "    Preprocess dota 2 text, by replacing redundant new-lines with periods\n",
    "\n",
    "    :params:\n",
    "        text (str) - original text read from a dota 2 txt file\n",
    "\n",
    "    :return:\n",
    "        processed text (str)\n",
    "    '''\n",
    "    # handle empty lines first - otherwise we will get '..'\n",
    "    text = text.replace('\\n\\n', '. ').replace('\\n', '. ')\n",
    "    return text.replace('..', '.')\n",
    "\n",
    "def preprocess_rpython_text(text: str) -> str:\n",
    "    '''\n",
    "    Preprocess r/python text, by filling in missing periods\n",
    "\n",
    "    :params:\n",
    "        text (str) - original text read from a r/python txt file\n",
    "\n",
    "    :return:\n",
    "        processed text (str)\n",
    "    '''\n",
    "    lines = text.splitlines()\n",
    "    for index, line in enumerate(lines):\n",
    "        # empty line, or\n",
    "        # already has ending punctuation mark\n",
    "        if line == '' or line[-1] in ('.', '!', '?'):\n",
    "            continue\n",
    "\n",
    "        lines[index] = line + '.'\n",
    "\n",
    "    return ' '.join(lines)"
   ]
  },
  {
   "source": [
    "## Define mapping of domain to its corresponding preprocessing function"
   ],
   "cell_type": "markdown",
   "metadata": {}
  },
  {
   "cell_type": "code",
   "execution_count": 6,
   "metadata": {},
   "outputs": [],
   "source": [
    "preprocessing_functions = {\n",
    "    'dota2': preprocess_dota2_text,\n",
    "    'r-python': preprocess_rpython_text,\n",
    "    'sigbovik': None,  # no need to preprocess sigbovik data further\n",
    "}"
   ]
  },
  {
   "source": [
    "## Declare function that gets all sentences in a domain-specific dataset"
   ],
   "cell_type": "markdown",
   "metadata": {}
  },
  {
   "cell_type": "code",
   "execution_count": 7,
   "metadata": {},
   "outputs": [],
   "source": [
    "def get_domain_sentences(domain_dir_path: str, preprocess=None) -> list:\n",
    "    '''\n",
    "    Get all sentences in a domain-specific dataset\n",
    "\n",
    "    :params:\n",
    "        domain_dir_path (str): path to directory that contains domain-specific data\n",
    "        preprocess (function): function for preprocessing data in the given domain (default: None)\n",
    "\n",
    "    :return:\n",
    "        a list of sentences in the given domain (list)\n",
    "    '''\n",
    "    sentences = []\n",
    "\n",
    "    for txt in os.listdir(domain_dir_path):\n",
    "        txt_file_path = os.path.join(domain_dir_path, txt)\n",
    "\n",
    "        with open(txt_file_path) as txt_file:\n",
    "            text = txt_file.read()\n",
    "        \n",
    "        if preprocess is not None:\n",
    "            text = preprocess(text)\n",
    "        \n",
    "        sentences += sent_tokenize(text)\n",
    "\n",
    "    return sentences"
   ]
  },
  {
   "source": [
    "## Find distribution of sentence lengths in each domain"
   ],
   "cell_type": "markdown",
   "metadata": {}
  },
  {
   "cell_type": "code",
   "execution_count": 8,
   "metadata": {
    "tags": []
   },
   "outputs": [
    {
     "output_type": "stream",
     "name": "stdout",
     "text": [
      "dota2 {2: 852, 21: 13, 12: 188, 11: 211, 10: 245, 4: 153, 8: 352, 3: 595, 9: 280, 5: 31, 7: 179, 6: 103, 13: 123, 15: 72, 14: 102, 19: 14, 32: 4, 43: 1, 18: 18, 16: 29, 28: 10, 17: 23, 23: 3, 37: 1, 29: 1, 20: 8, 22: 7, 25: 2, 24: 4, 33: 1, 27: 1, 38: 1, 26: 1}\nsigbovik {44: 10, 32: 39, 26: 37, 33: 20, 29: 46, 12: 69, 37: 25, 13: 85, 30: 37, 39: 17, 15: 66, 23: 63, 2: 98, 17: 61, 25: 61, 43: 17, 7: 74, 21: 61, 42: 7, 9: 74, 19: 68, 16: 69, 11: 74, 28: 51, 3: 39, 27: 49, 31: 32, 6: 98, 4: 81, 18: 73, 34: 32, 36: 27, 24: 57, 56: 2, 47: 11, 54: 10, 14: 63, 8: 68, 22: 51, 48: 4, 10: 69, 38: 15, 5: 74, 199: 1, 86: 1, 40: 17, 35: 26, 91: 2, 20: 45, 41: 14, 59: 7, 96: 1, 46: 12, 77: 2, 58: 1, 64: 3, 55: 7, 65: 1, 66: 3, 50: 5, 45: 14, 52: 2, 72: 3, 112: 1, 49: 5, 62: 2, 60: 1, 51: 8, 1: 4, 87: 1, 73: 2, 69: 1, 53: 1, 68: 2, 118: 1, 136: 1, 61: 1, 110: 1, 85: 1, 67: 2, 63: 1, 111: 1, 57: 2, 102: 1, 81: 1}\nr-python {16: 79, 3: 300, 8: 227, 24: 33, 1: 101, 4: 330, 19: 63, 13: 99, 17: 85, 10: 141, 20: 29, 2: 368, 22: 48, 15: 86, 21: 42, 31: 10, 6: 240, 27: 20, 25: 22, 12: 118, 5: 291, 7: 177, 14: 125, 11: 149, 9: 199, 18: 57, 30: 12, 23: 39, 65: 1, 51: 2, 26: 19, 36: 10, 34: 8, 44: 4, 32: 14, 39: 5, 33: 10, 28: 19, 35: 9, 49: 4, 46: 6, 29: 17, 37: 2, 42: 5, 41: 3, 38: 1, 52: 2, 45: 4, 58: 1, 69: 2, 43: 2, 57: 2, 55: 1, 59: 1, 47: 1, 159: 1, 40: 2, 70: 1, 50: 1, 56: 1, 53: 1}\n"
     ]
    }
   ],
   "source": [
    "def get_domain_distribution(domain_dir_path: str, preprocess=None) -> dict:\n",
    "    '''\n",
    "    Get the distribution of sentence length in a domain\n",
    "\n",
    "    :params:\n",
    "        domain_dir_path (str): path to directory that contains domain-specific data\n",
    "        preprocess (function): function for preprocessing data in the given domain (default: None)\n",
    "\n",
    "    :return:\n",
    "        a map of sentence length, to number of sentences of such length (dict)\n",
    "    '''\n",
    "    sentences = get_domain_sentences(domain_dir_path, preprocess)\n",
    "\n",
    "    distribution = {}\n",
    "    for sentence in sentences:\n",
    "        words = word_tokenize(sentence)\n",
    "\n",
    "        if len(words) in distribution:\n",
    "            distribution[len(words)] += 1\n",
    "        else:\n",
    "            distribution[len(words)] = 1\n",
    "\n",
    "    return distribution\n",
    "\n",
    "# sentence length distribution\n",
    "# key: domain name (str)\n",
    "# value: distribution (dict)\n",
    "# distribution key: sentence length\n",
    "# distribution value: number of sentences of such length\n",
    "sent_len_dist = {}\n",
    "\n",
    "for domain in os.listdir(data_dir_path):\n",
    "    domain_dir_path = os.path.join(data_dir_path, domain)\n",
    "    sent_len_dist[domain] = get_domain_distribution(\n",
    "        domain_dir_path,\n",
    "        preprocessing_functions[domain],\n",
    "    )\n",
    "\n",
    "for domain, distribution in sent_len_dist.items():\n",
    "    print(domain, distribution)"
   ]
  },
  {
   "source": [
    "## Plot bar charts for ease of comparison of distributions"
   ],
   "cell_type": "markdown",
   "metadata": {}
  },
  {
   "cell_type": "code",
   "execution_count": 40,
   "metadata": {
    "tags": []
   },
   "outputs": [
    {
     "output_type": "display_data",
     "data": {
      "text/plain": "<Figure size 691.2x518.4 with 1 Axes>",
      "image/svg+xml": "<?xml version=\"1.0\" encoding=\"utf-8\" standalone=\"no\"?>\n<!DOCTYPE svg PUBLIC \"-//W3C//DTD SVG 1.1//EN\"\n  \"http://www.w3.org/Graphics/SVG/1.1/DTD/svg11.dtd\">\n<!-- Created with matplotlib (https://matplotlib.org/) -->\n<svg height=\"437.58825pt\" version=\"1.1\" viewBox=\"0 0 576.1675 437.58825\" width=\"576.1675pt\" xmlns=\"http://www.w3.org/2000/svg\" xmlns:xlink=\"http://www.w3.org/1999/xlink\">\n <metadata>\n  <rdf:RDF xmlns:cc=\"http://creativecommons.org/ns#\" xmlns:dc=\"http://purl.org/dc/elements/1.1/\" xmlns:rdf=\"http://www.w3.org/1999/02/22-rdf-syntax-ns#\">\n   <cc:Work>\n    <dc:type rdf:resource=\"http://purl.org/dc/dcmitype/StillImage\"/>\n    <dc:date>2020-10-27T15:16:04.399360</dc:date>\n    <dc:format>image/svg+xml</dc:format>\n    <dc:creator>\n     <cc:Agent>\n      <dc:title>Matplotlib v3.3.2, https://matplotlib.org/</dc:title>\n     </cc:Agent>\n    </dc:creator>\n   </cc:Work>\n  </rdf:RDF>\n </metadata>\n <defs>\n  <style type=\"text/css\">*{stroke-linecap:butt;stroke-linejoin:round;}</style>\n </defs>\n <g id=\"figure_1\">\n  <g id=\"patch_1\">\n   <path d=\"M -0 437.58825 \nL 576.1675 437.58825 \nL 576.1675 0 \nL -0 0 \nz\n\" style=\"fill:none;\"/>\n  </g>\n  <g id=\"axes_1\">\n   <g id=\"patch_2\">\n    <path d=\"M 33.2875 413.710125 \nL 568.9675 413.710125 \nL 568.9675 22.318125 \nL 33.2875 22.318125 \nz\n\" style=\"fill:#ffffff;\"/>\n   </g>\n   <g id=\"patch_3\">\n    <path clip-path=\"url(#pe6c0efa3a9)\" d=\"M 57.636591 413.710125 \nL 66.956817 413.710125 \nL 66.956817 40.955839 \nL 57.636591 40.955839 \nz\n\" style=\"fill:#1f77b4;\"/>\n   </g>\n   <g id=\"patch_4\">\n    <path clip-path=\"url(#pe6c0efa3a9)\" d=\"M 278.991963 413.710125 \nL 288.312189 413.710125 \nL 288.312189 408.02256 \nL 278.991963 408.02256 \nz\n\" style=\"fill:#1f77b4;\"/>\n   </g>\n   <g id=\"patch_5\">\n    <path clip-path=\"url(#pe6c0efa3a9)\" d=\"M 174.139418 413.710125 \nL 183.459644 413.710125 \nL 183.459644 331.459179 \nL 174.139418 331.459179 \nz\n\" style=\"fill:#1f77b4;\"/>\n   </g>\n   <g id=\"patch_6\">\n    <path clip-path=\"url(#pe6c0efa3a9)\" d=\"M 162.489135 413.710125 \nL 171.809362 413.710125 \nL 171.809362 321.396564 \nL 162.489135 321.396564 \nz\n\" style=\"fill:#1f77b4;\"/>\n   </g>\n   <g id=\"patch_7\">\n    <path clip-path=\"url(#pe6c0efa3a9)\" d=\"M 150.838853 413.710125 \nL 160.159079 413.710125 \nL 160.159079 306.521393 \nL 150.838853 306.521393 \nz\n\" style=\"fill:#1f77b4;\"/>\n   </g>\n   <g id=\"patch_8\">\n    <path clip-path=\"url(#pe6c0efa3a9)\" d=\"M 80.937156 413.710125 \nL 90.257383 413.710125 \nL 90.257383 346.771855 \nL 80.937156 346.771855 \nz\n\" style=\"fill:#1f77b4;\"/>\n   </g>\n   <g id=\"patch_9\">\n    <path clip-path=\"url(#pe6c0efa3a9)\" d=\"M 127.538287 413.710125 \nL 136.858513 413.710125 \nL 136.858513 259.708354 \nL 127.538287 259.708354 \nz\n\" style=\"fill:#1f77b4;\"/>\n   </g>\n   <g id=\"patch_10\">\n    <path clip-path=\"url(#pe6c0efa3a9)\" d=\"M 69.286874 413.710125 \nL 78.6071 413.710125 \nL 78.6071 153.394632 \nL 69.286874 153.394632 \nz\n\" style=\"fill:#1f77b4;\"/>\n   </g>\n   <g id=\"patch_11\">\n    <path clip-path=\"url(#pe6c0efa3a9)\" d=\"M 139.18857 413.710125 \nL 148.508796 413.710125 \nL 148.508796 291.208717 \nL 139.18857 291.208717 \nz\n\" style=\"fill:#1f77b4;\"/>\n   </g>\n   <g id=\"patch_12\">\n    <path clip-path=\"url(#pe6c0efa3a9)\" d=\"M 92.587439 413.710125 \nL 101.907665 413.710125 \nL 101.907665 400.147469 \nL 92.587439 400.147469 \nz\n\" style=\"fill:#1f77b4;\"/>\n   </g>\n   <g id=\"patch_13\">\n    <path clip-path=\"url(#pe6c0efa3a9)\" d=\"M 115.888005 413.710125 \nL 125.208231 413.710125 \nL 125.208231 335.396725 \nL 115.888005 335.396725 \nz\n\" style=\"fill:#1f77b4;\"/>\n   </g>\n   <g id=\"patch_14\">\n    <path clip-path=\"url(#pe6c0efa3a9)\" d=\"M 104.237722 413.710125 \nL 113.557948 413.710125 \nL 113.557948 368.647107 \nL 104.237722 368.647107 \nz\n\" style=\"fill:#1f77b4;\"/>\n   </g>\n   <g id=\"patch_15\">\n    <path clip-path=\"url(#pe6c0efa3a9)\" d=\"M 185.789701 413.710125 \nL 195.109927 413.710125 \nL 195.109927 359.897006 \nL 185.789701 359.897006 \nz\n\" style=\"fill:#1f77b4;\"/>\n   </g>\n   <g id=\"patch_16\">\n    <path clip-path=\"url(#pe6c0efa3a9)\" d=\"M 209.090266 413.710125 \nL 218.410493 413.710125 \nL 218.410493 382.209763 \nL 209.090266 382.209763 \nz\n\" style=\"fill:#1f77b4;\"/>\n   </g>\n   <g id=\"patch_17\">\n    <path clip-path=\"url(#pe6c0efa3a9)\" d=\"M 197.439984 413.710125 \nL 206.76021 413.710125 \nL 206.76021 369.084612 \nL 197.439984 369.084612 \nz\n\" style=\"fill:#1f77b4;\"/>\n   </g>\n   <g id=\"patch_18\">\n    <path clip-path=\"url(#pe6c0efa3a9)\" d=\"M 255.691397 413.710125 \nL 265.011624 413.710125 \nL 265.011624 407.585055 \nL 255.691397 407.585055 \nz\n\" style=\"fill:#1f77b4;\"/>\n   </g>\n   <g id=\"patch_19\">\n    <path clip-path=\"url(#pe6c0efa3a9)\" d=\"M 407.145073 413.710125 \nL 416.465299 413.710125 \nL 416.465299 411.960105 \nL 407.145073 411.960105 \nz\n\" style=\"fill:#1f77b4;\"/>\n   </g>\n   <g id=\"patch_20\">\n    <path clip-path=\"url(#pe6c0efa3a9)\" d=\"M 535.298183 413.710125 \nL 544.618409 413.710125 \nL 544.618409 413.27262 \nL 535.298183 413.27262 \nz\n\" style=\"fill:#1f77b4;\"/>\n   </g>\n   <g id=\"patch_21\">\n    <path clip-path=\"url(#pe6c0efa3a9)\" d=\"M 244.041115 413.710125 \nL 253.361341 413.710125 \nL 253.361341 405.835034 \nL 244.041115 405.835034 \nz\n\" style=\"fill:#1f77b4;\"/>\n   </g>\n   <g id=\"patch_22\">\n    <path clip-path=\"url(#pe6c0efa3a9)\" d=\"M 220.740549 413.710125 \nL 230.060775 413.710125 \nL 230.060775 401.022479 \nL 220.740549 401.022479 \nz\n\" style=\"fill:#1f77b4;\"/>\n   </g>\n   <g id=\"patch_23\">\n    <path clip-path=\"url(#pe6c0efa3a9)\" d=\"M 360.543942 413.710125 \nL 369.864168 413.710125 \nL 369.864168 409.335075 \nL 360.543942 409.335075 \nz\n\" style=\"fill:#1f77b4;\"/>\n   </g>\n   <g id=\"patch_24\">\n    <path clip-path=\"url(#pe6c0efa3a9)\" d=\"M 232.390832 413.710125 \nL 241.711058 413.710125 \nL 241.711058 403.647509 \nL 232.390832 403.647509 \nz\n\" style=\"fill:#1f77b4;\"/>\n   </g>\n   <g id=\"patch_25\">\n    <path clip-path=\"url(#pe6c0efa3a9)\" d=\"M 302.292528 413.710125 \nL 311.612754 413.710125 \nL 311.612754 412.39761 \nL 302.292528 412.39761 \nz\n\" style=\"fill:#1f77b4;\"/>\n   </g>\n   <g id=\"patch_26\">\n    <path clip-path=\"url(#pe6c0efa3a9)\" d=\"M 465.396487 413.710125 \nL 474.716713 413.710125 \nL 474.716713 413.27262 \nL 465.396487 413.27262 \nz\n\" style=\"fill:#1f77b4;\"/>\n   </g>\n   <g id=\"patch_27\">\n    <path clip-path=\"url(#pe6c0efa3a9)\" d=\"M 372.194225 413.710125 \nL 381.514451 413.710125 \nL 381.514451 413.27262 \nL 372.194225 413.27262 \nz\n\" style=\"fill:#1f77b4;\"/>\n   </g>\n   <g id=\"patch_28\">\n    <path clip-path=\"url(#pe6c0efa3a9)\" d=\"M 267.34168 413.710125 \nL 276.661906 413.710125 \nL 276.661906 410.210085 \nL 267.34168 410.210085 \nz\n\" style=\"fill:#1f77b4;\"/>\n   </g>\n   <g id=\"patch_29\">\n    <path clip-path=\"url(#pe6c0efa3a9)\" d=\"M 290.642246 413.710125 \nL 299.962472 413.710125 \nL 299.962472 410.64759 \nL 290.642246 410.64759 \nz\n\" style=\"fill:#1f77b4;\"/>\n   </g>\n   <g id=\"patch_30\">\n    <path clip-path=\"url(#pe6c0efa3a9)\" d=\"M 325.593094 413.710125 \nL 334.91332 413.710125 \nL 334.91332 412.835115 \nL 325.593094 412.835115 \nz\n\" style=\"fill:#1f77b4;\"/>\n   </g>\n   <g id=\"patch_31\">\n    <path clip-path=\"url(#pe6c0efa3a9)\" d=\"M 313.942811 413.710125 \nL 323.263037 413.710125 \nL 323.263037 411.960105 \nL 313.942811 411.960105 \nz\n\" style=\"fill:#1f77b4;\"/>\n   </g>\n   <g id=\"patch_32\">\n    <path clip-path=\"url(#pe6c0efa3a9)\" d=\"M 418.795356 413.710125 \nL 428.115582 413.710125 \nL 428.115582 413.27262 \nL 418.795356 413.27262 \nz\n\" style=\"fill:#1f77b4;\"/>\n   </g>\n   <g id=\"patch_33\">\n    <path clip-path=\"url(#pe6c0efa3a9)\" d=\"M 348.893659 413.710125 \nL 358.213885 413.710125 \nL 358.213885 413.27262 \nL 348.893659 413.27262 \nz\n\" style=\"fill:#1f77b4;\"/>\n   </g>\n   <g id=\"patch_34\">\n    <path clip-path=\"url(#pe6c0efa3a9)\" d=\"M 477.046769 413.710125 \nL 486.366995 413.710125 \nL 486.366995 413.27262 \nL 477.046769 413.27262 \nz\n\" style=\"fill:#1f77b4;\"/>\n   </g>\n   <g id=\"patch_35\">\n    <path clip-path=\"url(#pe6c0efa3a9)\" d=\"M 337.243376 413.710125 \nL 346.563603 413.710125 \nL 346.563603 413.27262 \nL 337.243376 413.27262 \nz\n\" style=\"fill:#1f77b4;\"/>\n   </g>\n   <g id=\"matplotlib.axis_1\">\n    <g id=\"xtick_1\">\n     <g id=\"line2d_1\">\n      <defs>\n       <path d=\"M 0 0 \nL 0 3.5 \n\" id=\"md07f438e6c\" style=\"stroke:#000000;stroke-width:0.8;\"/>\n      </defs>\n      <g>\n       <use style=\"stroke:#000000;stroke-width:0.8;\" x=\"38.996139\" xlink:href=\"#md07f438e6c\" y=\"413.710125\"/>\n      </g>\n     </g>\n     <g id=\"text_1\">\n      <!-- 0 -->\n      <g transform=\"translate(35.814889 428.308562)scale(0.1 -0.1)\">\n       <defs>\n        <path d=\"M 31.78125 66.40625 \nQ 24.171875 66.40625 20.328125 58.90625 \nQ 16.5 51.421875 16.5 36.375 \nQ 16.5 21.390625 20.328125 13.890625 \nQ 24.171875 6.390625 31.78125 6.390625 \nQ 39.453125 6.390625 43.28125 13.890625 \nQ 47.125 21.390625 47.125 36.375 \nQ 47.125 51.421875 43.28125 58.90625 \nQ 39.453125 66.40625 31.78125 66.40625 \nz\nM 31.78125 74.21875 \nQ 44.046875 74.21875 50.515625 64.515625 \nQ 56.984375 54.828125 56.984375 36.375 \nQ 56.984375 17.96875 50.515625 8.265625 \nQ 44.046875 -1.421875 31.78125 -1.421875 \nQ 19.53125 -1.421875 13.0625 8.265625 \nQ 6.59375 17.96875 6.59375 36.375 \nQ 6.59375 54.828125 13.0625 64.515625 \nQ 19.53125 74.21875 31.78125 74.21875 \nz\n\" id=\"DejaVuSans-48\"/>\n       </defs>\n       <use xlink:href=\"#DejaVuSans-48\"/>\n      </g>\n     </g>\n    </g>\n    <g id=\"xtick_2\">\n     <g id=\"line2d_2\">\n      <g>\n       <use style=\"stroke:#000000;stroke-width:0.8;\" x=\"155.498966\" xlink:href=\"#md07f438e6c\" y=\"413.710125\"/>\n      </g>\n     </g>\n     <g id=\"text_2\">\n      <!-- 10 -->\n      <g transform=\"translate(149.136466 428.308562)scale(0.1 -0.1)\">\n       <defs>\n        <path d=\"M 12.40625 8.296875 \nL 28.515625 8.296875 \nL 28.515625 63.921875 \nL 10.984375 60.40625 \nL 10.984375 69.390625 \nL 28.421875 72.90625 \nL 38.28125 72.90625 \nL 38.28125 8.296875 \nL 54.390625 8.296875 \nL 54.390625 0 \nL 12.40625 0 \nz\n\" id=\"DejaVuSans-49\"/>\n       </defs>\n       <use xlink:href=\"#DejaVuSans-49\"/>\n       <use x=\"63.623047\" xlink:href=\"#DejaVuSans-48\"/>\n      </g>\n     </g>\n    </g>\n    <g id=\"xtick_3\">\n     <g id=\"line2d_3\">\n      <g>\n       <use style=\"stroke:#000000;stroke-width:0.8;\" x=\"272.001793\" xlink:href=\"#md07f438e6c\" y=\"413.710125\"/>\n      </g>\n     </g>\n     <g id=\"text_3\">\n      <!-- 20 -->\n      <g transform=\"translate(265.639293 428.308562)scale(0.1 -0.1)\">\n       <defs>\n        <path d=\"M 19.1875 8.296875 \nL 53.609375 8.296875 \nL 53.609375 0 \nL 7.328125 0 \nL 7.328125 8.296875 \nQ 12.9375 14.109375 22.625 23.890625 \nQ 32.328125 33.6875 34.8125 36.53125 \nQ 39.546875 41.84375 41.421875 45.53125 \nQ 43.3125 49.21875 43.3125 52.78125 \nQ 43.3125 58.59375 39.234375 62.25 \nQ 35.15625 65.921875 28.609375 65.921875 \nQ 23.96875 65.921875 18.8125 64.3125 \nQ 13.671875 62.703125 7.8125 59.421875 \nL 7.8125 69.390625 \nQ 13.765625 71.78125 18.9375 73 \nQ 24.125 74.21875 28.421875 74.21875 \nQ 39.75 74.21875 46.484375 68.546875 \nQ 53.21875 62.890625 53.21875 53.421875 \nQ 53.21875 48.921875 51.53125 44.890625 \nQ 49.859375 40.875 45.40625 35.40625 \nQ 44.1875 33.984375 37.640625 27.21875 \nQ 31.109375 20.453125 19.1875 8.296875 \nz\n\" id=\"DejaVuSans-50\"/>\n       </defs>\n       <use xlink:href=\"#DejaVuSans-50\"/>\n       <use x=\"63.623047\" xlink:href=\"#DejaVuSans-48\"/>\n      </g>\n     </g>\n    </g>\n    <g id=\"xtick_4\">\n     <g id=\"line2d_4\">\n      <g>\n       <use style=\"stroke:#000000;stroke-width:0.8;\" x=\"388.50462\" xlink:href=\"#md07f438e6c\" y=\"413.710125\"/>\n      </g>\n     </g>\n     <g id=\"text_4\">\n      <!-- 30 -->\n      <g transform=\"translate(382.14212 428.308562)scale(0.1 -0.1)\">\n       <defs>\n        <path d=\"M 40.578125 39.3125 \nQ 47.65625 37.796875 51.625 33 \nQ 55.609375 28.21875 55.609375 21.1875 \nQ 55.609375 10.40625 48.1875 4.484375 \nQ 40.765625 -1.421875 27.09375 -1.421875 \nQ 22.515625 -1.421875 17.65625 -0.515625 \nQ 12.796875 0.390625 7.625 2.203125 \nL 7.625 11.71875 \nQ 11.71875 9.328125 16.59375 8.109375 \nQ 21.484375 6.890625 26.8125 6.890625 \nQ 36.078125 6.890625 40.9375 10.546875 \nQ 45.796875 14.203125 45.796875 21.1875 \nQ 45.796875 27.640625 41.28125 31.265625 \nQ 36.765625 34.90625 28.71875 34.90625 \nL 20.21875 34.90625 \nL 20.21875 43.015625 \nL 29.109375 43.015625 \nQ 36.375 43.015625 40.234375 45.921875 \nQ 44.09375 48.828125 44.09375 54.296875 \nQ 44.09375 59.90625 40.109375 62.90625 \nQ 36.140625 65.921875 28.71875 65.921875 \nQ 24.65625 65.921875 20.015625 65.03125 \nQ 15.375 64.15625 9.8125 62.3125 \nL 9.8125 71.09375 \nQ 15.4375 72.65625 20.34375 73.4375 \nQ 25.25 74.21875 29.59375 74.21875 \nQ 40.828125 74.21875 47.359375 69.109375 \nQ 53.90625 64.015625 53.90625 55.328125 \nQ 53.90625 49.265625 50.4375 45.09375 \nQ 46.96875 40.921875 40.578125 39.3125 \nz\n\" id=\"DejaVuSans-51\"/>\n       </defs>\n       <use xlink:href=\"#DejaVuSans-51\"/>\n       <use x=\"63.623047\" xlink:href=\"#DejaVuSans-48\"/>\n      </g>\n     </g>\n    </g>\n    <g id=\"xtick_5\">\n     <g id=\"line2d_5\">\n      <g>\n       <use style=\"stroke:#000000;stroke-width:0.8;\" x=\"505.007448\" xlink:href=\"#md07f438e6c\" y=\"413.710125\"/>\n      </g>\n     </g>\n     <g id=\"text_5\">\n      <!-- 40 -->\n      <g transform=\"translate(498.644948 428.308562)scale(0.1 -0.1)\">\n       <defs>\n        <path d=\"M 37.796875 64.3125 \nL 12.890625 25.390625 \nL 37.796875 25.390625 \nz\nM 35.203125 72.90625 \nL 47.609375 72.90625 \nL 47.609375 25.390625 \nL 58.015625 25.390625 \nL 58.015625 17.1875 \nL 47.609375 17.1875 \nL 47.609375 0 \nL 37.796875 0 \nL 37.796875 17.1875 \nL 4.890625 17.1875 \nL 4.890625 26.703125 \nz\n\" id=\"DejaVuSans-52\"/>\n       </defs>\n       <use xlink:href=\"#DejaVuSans-52\"/>\n       <use x=\"63.623047\" xlink:href=\"#DejaVuSans-48\"/>\n      </g>\n     </g>\n    </g>\n   </g>\n   <g id=\"matplotlib.axis_2\">\n    <g id=\"ytick_1\">\n     <g id=\"line2d_6\">\n      <defs>\n       <path d=\"M 0 0 \nL -3.5 0 \n\" id=\"m82044b438f\" style=\"stroke:#000000;stroke-width:0.8;\"/>\n      </defs>\n      <g>\n       <use style=\"stroke:#000000;stroke-width:0.8;\" x=\"33.2875\" xlink:href=\"#m82044b438f\" y=\"413.710125\"/>\n      </g>\n     </g>\n     <g id=\"text_6\">\n      <!-- 0 -->\n      <g transform=\"translate(19.925 417.509344)scale(0.1 -0.1)\">\n       <use xlink:href=\"#DejaVuSans-48\"/>\n      </g>\n     </g>\n    </g>\n    <g id=\"ytick_2\">\n     <g id=\"line2d_7\">\n      <g>\n       <use style=\"stroke:#000000;stroke-width:0.8;\" x=\"33.2875\" xlink:href=\"#m82044b438f\" y=\"369.959622\"/>\n      </g>\n     </g>\n     <g id=\"text_7\">\n      <!-- 100 -->\n      <g transform=\"translate(7.2 373.758841)scale(0.1 -0.1)\">\n       <use xlink:href=\"#DejaVuSans-49\"/>\n       <use x=\"63.623047\" xlink:href=\"#DejaVuSans-48\"/>\n       <use x=\"127.246094\" xlink:href=\"#DejaVuSans-48\"/>\n      </g>\n     </g>\n    </g>\n    <g id=\"ytick_3\">\n     <g id=\"line2d_8\">\n      <g>\n       <use style=\"stroke:#000000;stroke-width:0.8;\" x=\"33.2875\" xlink:href=\"#m82044b438f\" y=\"326.209119\"/>\n      </g>\n     </g>\n     <g id=\"text_8\">\n      <!-- 200 -->\n      <g transform=\"translate(7.2 330.008338)scale(0.1 -0.1)\">\n       <use xlink:href=\"#DejaVuSans-50\"/>\n       <use x=\"63.623047\" xlink:href=\"#DejaVuSans-48\"/>\n       <use x=\"127.246094\" xlink:href=\"#DejaVuSans-48\"/>\n      </g>\n     </g>\n    </g>\n    <g id=\"ytick_4\">\n     <g id=\"line2d_9\">\n      <g>\n       <use style=\"stroke:#000000;stroke-width:0.8;\" x=\"33.2875\" xlink:href=\"#m82044b438f\" y=\"282.458616\"/>\n      </g>\n     </g>\n     <g id=\"text_9\">\n      <!-- 300 -->\n      <g transform=\"translate(7.2 286.257835)scale(0.1 -0.1)\">\n       <use xlink:href=\"#DejaVuSans-51\"/>\n       <use x=\"63.623047\" xlink:href=\"#DejaVuSans-48\"/>\n       <use x=\"127.246094\" xlink:href=\"#DejaVuSans-48\"/>\n      </g>\n     </g>\n    </g>\n    <g id=\"ytick_5\">\n     <g id=\"line2d_10\">\n      <g>\n       <use style=\"stroke:#000000;stroke-width:0.8;\" x=\"33.2875\" xlink:href=\"#m82044b438f\" y=\"238.708113\"/>\n      </g>\n     </g>\n     <g id=\"text_10\">\n      <!-- 400 -->\n      <g transform=\"translate(7.2 242.507332)scale(0.1 -0.1)\">\n       <use xlink:href=\"#DejaVuSans-52\"/>\n       <use x=\"63.623047\" xlink:href=\"#DejaVuSans-48\"/>\n       <use x=\"127.246094\" xlink:href=\"#DejaVuSans-48\"/>\n      </g>\n     </g>\n    </g>\n    <g id=\"ytick_6\">\n     <g id=\"line2d_11\">\n      <g>\n       <use style=\"stroke:#000000;stroke-width:0.8;\" x=\"33.2875\" xlink:href=\"#m82044b438f\" y=\"194.95761\"/>\n      </g>\n     </g>\n     <g id=\"text_11\">\n      <!-- 500 -->\n      <g transform=\"translate(7.2 198.756829)scale(0.1 -0.1)\">\n       <defs>\n        <path d=\"M 10.796875 72.90625 \nL 49.515625 72.90625 \nL 49.515625 64.59375 \nL 19.828125 64.59375 \nL 19.828125 46.734375 \nQ 21.96875 47.46875 24.109375 47.828125 \nQ 26.265625 48.1875 28.421875 48.1875 \nQ 40.625 48.1875 47.75 41.5 \nQ 54.890625 34.8125 54.890625 23.390625 \nQ 54.890625 11.625 47.5625 5.09375 \nQ 40.234375 -1.421875 26.90625 -1.421875 \nQ 22.3125 -1.421875 17.546875 -0.640625 \nQ 12.796875 0.140625 7.71875 1.703125 \nL 7.71875 11.625 \nQ 12.109375 9.234375 16.796875 8.0625 \nQ 21.484375 6.890625 26.703125 6.890625 \nQ 35.15625 6.890625 40.078125 11.328125 \nQ 45.015625 15.765625 45.015625 23.390625 \nQ 45.015625 31 40.078125 35.4375 \nQ 35.15625 39.890625 26.703125 39.890625 \nQ 22.75 39.890625 18.8125 39.015625 \nQ 14.890625 38.140625 10.796875 36.28125 \nz\n\" id=\"DejaVuSans-53\"/>\n       </defs>\n       <use xlink:href=\"#DejaVuSans-53\"/>\n       <use x=\"63.623047\" xlink:href=\"#DejaVuSans-48\"/>\n       <use x=\"127.246094\" xlink:href=\"#DejaVuSans-48\"/>\n      </g>\n     </g>\n    </g>\n    <g id=\"ytick_7\">\n     <g id=\"line2d_12\">\n      <g>\n       <use style=\"stroke:#000000;stroke-width:0.8;\" x=\"33.2875\" xlink:href=\"#m82044b438f\" y=\"151.207107\"/>\n      </g>\n     </g>\n     <g id=\"text_12\">\n      <!-- 600 -->\n      <g transform=\"translate(7.2 155.006326)scale(0.1 -0.1)\">\n       <defs>\n        <path d=\"M 33.015625 40.375 \nQ 26.375 40.375 22.484375 35.828125 \nQ 18.609375 31.296875 18.609375 23.390625 \nQ 18.609375 15.53125 22.484375 10.953125 \nQ 26.375 6.390625 33.015625 6.390625 \nQ 39.65625 6.390625 43.53125 10.953125 \nQ 47.40625 15.53125 47.40625 23.390625 \nQ 47.40625 31.296875 43.53125 35.828125 \nQ 39.65625 40.375 33.015625 40.375 \nz\nM 52.59375 71.296875 \nL 52.59375 62.3125 \nQ 48.875 64.0625 45.09375 64.984375 \nQ 41.3125 65.921875 37.59375 65.921875 \nQ 27.828125 65.921875 22.671875 59.328125 \nQ 17.53125 52.734375 16.796875 39.40625 \nQ 19.671875 43.65625 24.015625 45.921875 \nQ 28.375 48.1875 33.59375 48.1875 \nQ 44.578125 48.1875 50.953125 41.515625 \nQ 57.328125 34.859375 57.328125 23.390625 \nQ 57.328125 12.15625 50.6875 5.359375 \nQ 44.046875 -1.421875 33.015625 -1.421875 \nQ 20.359375 -1.421875 13.671875 8.265625 \nQ 6.984375 17.96875 6.984375 36.375 \nQ 6.984375 53.65625 15.1875 63.9375 \nQ 23.390625 74.21875 37.203125 74.21875 \nQ 40.921875 74.21875 44.703125 73.484375 \nQ 48.484375 72.75 52.59375 71.296875 \nz\n\" id=\"DejaVuSans-54\"/>\n       </defs>\n       <use xlink:href=\"#DejaVuSans-54\"/>\n       <use x=\"63.623047\" xlink:href=\"#DejaVuSans-48\"/>\n       <use x=\"127.246094\" xlink:href=\"#DejaVuSans-48\"/>\n      </g>\n     </g>\n    </g>\n    <g id=\"ytick_8\">\n     <g id=\"line2d_13\">\n      <g>\n       <use style=\"stroke:#000000;stroke-width:0.8;\" x=\"33.2875\" xlink:href=\"#m82044b438f\" y=\"107.456604\"/>\n      </g>\n     </g>\n     <g id=\"text_13\">\n      <!-- 700 -->\n      <g transform=\"translate(7.2 111.255823)scale(0.1 -0.1)\">\n       <defs>\n        <path d=\"M 8.203125 72.90625 \nL 55.078125 72.90625 \nL 55.078125 68.703125 \nL 28.609375 0 \nL 18.3125 0 \nL 43.21875 64.59375 \nL 8.203125 64.59375 \nz\n\" id=\"DejaVuSans-55\"/>\n       </defs>\n       <use xlink:href=\"#DejaVuSans-55\"/>\n       <use x=\"63.623047\" xlink:href=\"#DejaVuSans-48\"/>\n       <use x=\"127.246094\" xlink:href=\"#DejaVuSans-48\"/>\n      </g>\n     </g>\n    </g>\n    <g id=\"ytick_9\">\n     <g id=\"line2d_14\">\n      <g>\n       <use style=\"stroke:#000000;stroke-width:0.8;\" x=\"33.2875\" xlink:href=\"#m82044b438f\" y=\"63.706101\"/>\n      </g>\n     </g>\n     <g id=\"text_14\">\n      <!-- 800 -->\n      <g transform=\"translate(7.2 67.50532)scale(0.1 -0.1)\">\n       <defs>\n        <path d=\"M 31.78125 34.625 \nQ 24.75 34.625 20.71875 30.859375 \nQ 16.703125 27.09375 16.703125 20.515625 \nQ 16.703125 13.921875 20.71875 10.15625 \nQ 24.75 6.390625 31.78125 6.390625 \nQ 38.8125 6.390625 42.859375 10.171875 \nQ 46.921875 13.96875 46.921875 20.515625 \nQ 46.921875 27.09375 42.890625 30.859375 \nQ 38.875 34.625 31.78125 34.625 \nz\nM 21.921875 38.8125 \nQ 15.578125 40.375 12.03125 44.71875 \nQ 8.5 49.078125 8.5 55.328125 \nQ 8.5 64.0625 14.71875 69.140625 \nQ 20.953125 74.21875 31.78125 74.21875 \nQ 42.671875 74.21875 48.875 69.140625 \nQ 55.078125 64.0625 55.078125 55.328125 \nQ 55.078125 49.078125 51.53125 44.71875 \nQ 48 40.375 41.703125 38.8125 \nQ 48.828125 37.15625 52.796875 32.3125 \nQ 56.78125 27.484375 56.78125 20.515625 \nQ 56.78125 9.90625 50.3125 4.234375 \nQ 43.84375 -1.421875 31.78125 -1.421875 \nQ 19.734375 -1.421875 13.25 4.234375 \nQ 6.78125 9.90625 6.78125 20.515625 \nQ 6.78125 27.484375 10.78125 32.3125 \nQ 14.796875 37.15625 21.921875 38.8125 \nz\nM 18.3125 54.390625 \nQ 18.3125 48.734375 21.84375 45.5625 \nQ 25.390625 42.390625 31.78125 42.390625 \nQ 38.140625 42.390625 41.71875 45.5625 \nQ 45.3125 48.734375 45.3125 54.390625 \nQ 45.3125 60.0625 41.71875 63.234375 \nQ 38.140625 66.40625 31.78125 66.40625 \nQ 25.390625 66.40625 21.84375 63.234375 \nQ 18.3125 60.0625 18.3125 54.390625 \nz\n\" id=\"DejaVuSans-56\"/>\n       </defs>\n       <use xlink:href=\"#DejaVuSans-56\"/>\n       <use x=\"63.623047\" xlink:href=\"#DejaVuSans-48\"/>\n       <use x=\"127.246094\" xlink:href=\"#DejaVuSans-48\"/>\n      </g>\n     </g>\n    </g>\n   </g>\n   <g id=\"patch_36\">\n    <path d=\"M 33.2875 413.710125 \nL 33.2875 22.318125 \n\" style=\"fill:none;stroke:#000000;stroke-linecap:square;stroke-linejoin:miter;stroke-width:0.8;\"/>\n   </g>\n   <g id=\"patch_37\">\n    <path d=\"M 568.9675 413.710125 \nL 568.9675 22.318125 \n\" style=\"fill:none;stroke:#000000;stroke-linecap:square;stroke-linejoin:miter;stroke-width:0.8;\"/>\n   </g>\n   <g id=\"patch_38\">\n    <path d=\"M 33.2875 413.710125 \nL 568.9675 413.710125 \n\" style=\"fill:none;stroke:#000000;stroke-linecap:square;stroke-linejoin:miter;stroke-width:0.8;\"/>\n   </g>\n   <g id=\"patch_39\">\n    <path d=\"M 33.2875 22.318125 \nL 568.9675 22.318125 \n\" style=\"fill:none;stroke:#000000;stroke-linecap:square;stroke-linejoin:miter;stroke-width:0.8;\"/>\n   </g>\n   <g id=\"text_15\">\n    <!-- dota2 -->\n    <g transform=\"translate(283.800625 16.318125)scale(0.12 -0.12)\">\n     <defs>\n      <path d=\"M 45.40625 46.390625 \nL 45.40625 75.984375 \nL 54.390625 75.984375 \nL 54.390625 0 \nL 45.40625 0 \nL 45.40625 8.203125 \nQ 42.578125 3.328125 38.25 0.953125 \nQ 33.9375 -1.421875 27.875 -1.421875 \nQ 17.96875 -1.421875 11.734375 6.484375 \nQ 5.515625 14.40625 5.515625 27.296875 \nQ 5.515625 40.1875 11.734375 48.09375 \nQ 17.96875 56 27.875 56 \nQ 33.9375 56 38.25 53.625 \nQ 42.578125 51.265625 45.40625 46.390625 \nz\nM 14.796875 27.296875 \nQ 14.796875 17.390625 18.875 11.75 \nQ 22.953125 6.109375 30.078125 6.109375 \nQ 37.203125 6.109375 41.296875 11.75 \nQ 45.40625 17.390625 45.40625 27.296875 \nQ 45.40625 37.203125 41.296875 42.84375 \nQ 37.203125 48.484375 30.078125 48.484375 \nQ 22.953125 48.484375 18.875 42.84375 \nQ 14.796875 37.203125 14.796875 27.296875 \nz\n\" id=\"DejaVuSans-100\"/>\n      <path d=\"M 30.609375 48.390625 \nQ 23.390625 48.390625 19.1875 42.75 \nQ 14.984375 37.109375 14.984375 27.296875 \nQ 14.984375 17.484375 19.15625 11.84375 \nQ 23.34375 6.203125 30.609375 6.203125 \nQ 37.796875 6.203125 41.984375 11.859375 \nQ 46.1875 17.53125 46.1875 27.296875 \nQ 46.1875 37.015625 41.984375 42.703125 \nQ 37.796875 48.390625 30.609375 48.390625 \nz\nM 30.609375 56 \nQ 42.328125 56 49.015625 48.375 \nQ 55.71875 40.765625 55.71875 27.296875 \nQ 55.71875 13.875 49.015625 6.21875 \nQ 42.328125 -1.421875 30.609375 -1.421875 \nQ 18.84375 -1.421875 12.171875 6.21875 \nQ 5.515625 13.875 5.515625 27.296875 \nQ 5.515625 40.765625 12.171875 48.375 \nQ 18.84375 56 30.609375 56 \nz\n\" id=\"DejaVuSans-111\"/>\n      <path d=\"M 18.3125 70.21875 \nL 18.3125 54.6875 \nL 36.8125 54.6875 \nL 36.8125 47.703125 \nL 18.3125 47.703125 \nL 18.3125 18.015625 \nQ 18.3125 11.328125 20.140625 9.421875 \nQ 21.96875 7.515625 27.59375 7.515625 \nL 36.8125 7.515625 \nL 36.8125 0 \nL 27.59375 0 \nQ 17.1875 0 13.234375 3.875 \nQ 9.28125 7.765625 9.28125 18.015625 \nL 9.28125 47.703125 \nL 2.6875 47.703125 \nL 2.6875 54.6875 \nL 9.28125 54.6875 \nL 9.28125 70.21875 \nz\n\" id=\"DejaVuSans-116\"/>\n      <path d=\"M 34.28125 27.484375 \nQ 23.390625 27.484375 19.1875 25 \nQ 14.984375 22.515625 14.984375 16.5 \nQ 14.984375 11.71875 18.140625 8.90625 \nQ 21.296875 6.109375 26.703125 6.109375 \nQ 34.1875 6.109375 38.703125 11.40625 \nQ 43.21875 16.703125 43.21875 25.484375 \nL 43.21875 27.484375 \nz\nM 52.203125 31.203125 \nL 52.203125 0 \nL 43.21875 0 \nL 43.21875 8.296875 \nQ 40.140625 3.328125 35.546875 0.953125 \nQ 30.953125 -1.421875 24.3125 -1.421875 \nQ 15.921875 -1.421875 10.953125 3.296875 \nQ 6 8.015625 6 15.921875 \nQ 6 25.140625 12.171875 29.828125 \nQ 18.359375 34.515625 30.609375 34.515625 \nL 43.21875 34.515625 \nL 43.21875 35.40625 \nQ 43.21875 41.609375 39.140625 45 \nQ 35.0625 48.390625 27.6875 48.390625 \nQ 23 48.390625 18.546875 47.265625 \nQ 14.109375 46.140625 10.015625 43.890625 \nL 10.015625 52.203125 \nQ 14.9375 54.109375 19.578125 55.046875 \nQ 24.21875 56 28.609375 56 \nQ 40.484375 56 46.34375 49.84375 \nQ 52.203125 43.703125 52.203125 31.203125 \nz\n\" id=\"DejaVuSans-97\"/>\n     </defs>\n     <use xlink:href=\"#DejaVuSans-100\"/>\n     <use x=\"63.476562\" xlink:href=\"#DejaVuSans-111\"/>\n     <use x=\"124.658203\" xlink:href=\"#DejaVuSans-116\"/>\n     <use x=\"163.867188\" xlink:href=\"#DejaVuSans-97\"/>\n     <use x=\"225.146484\" xlink:href=\"#DejaVuSans-50\"/>\n    </g>\n   </g>\n  </g>\n </g>\n <defs>\n  <clipPath id=\"pe6c0efa3a9\">\n   <rect height=\"391.392\" width=\"535.68\" x=\"33.2875\" y=\"22.318125\"/>\n  </clipPath>\n </defs>\n</svg>\n",
      "image/png": "[encoded data removed]"
     },
     "metadata": {
      "needs_background": "light"
     }
    },
    {
     "output_type": "display_data",
     "data": {
      "text/plain": "<Figure size 691.2x518.4 with 1 Axes>",
      "image/svg+xml": "<?xml version=\"1.0\" encoding=\"utf-8\" standalone=\"no\"?>\n<!DOCTYPE svg PUBLIC \"-//W3C//DTD SVG 1.1//EN\"\n  \"http://www.w3.org/Graphics/SVG/1.1/DTD/svg11.dtd\">\n<!-- Created with matplotlib (https://matplotlib.org/) -->\n<svg height=\"437.58825pt\" version=\"1.1\" viewBox=\"0 0 576.1675 437.58825\" width=\"576.1675pt\" xmlns=\"http://www.w3.org/2000/svg\" xmlns:xlink=\"http://www.w3.org/1999/xlink\">\n <metadata>\n  <rdf:RDF xmlns:cc=\"http://creativecommons.org/ns#\" xmlns:dc=\"http://purl.org/dc/elements/1.1/\" xmlns:rdf=\"http://www.w3.org/1999/02/22-rdf-syntax-ns#\">\n   <cc:Work>\n    <dc:type rdf:resource=\"http://purl.org/dc/dcmitype/StillImage\"/>\n    <dc:date>2020-10-27T15:16:04.977463</dc:date>\n    <dc:format>image/svg+xml</dc:format>\n    <dc:creator>\n     <cc:Agent>\n      <dc:title>Matplotlib v3.3.2, https://matplotlib.org/</dc:title>\n     </cc:Agent>\n    </dc:creator>\n   </cc:Work>\n  </rdf:RDF>\n </metadata>\n <defs>\n  <style type=\"text/css\">*{stroke-linecap:butt;stroke-linejoin:round;}</style>\n </defs>\n <g id=\"figure_1\">\n  <g id=\"patch_1\">\n   <path d=\"M -0 437.58825 \nL 576.1675 437.58825 \nL 576.1675 0 \nL -0 0 \nz\n\" style=\"fill:none;\"/>\n  </g>\n  <g id=\"axes_1\">\n   <g id=\"patch_2\">\n    <path d=\"M 33.2875 413.710125 \nL 568.9675 413.710125 \nL 568.9675 22.318125 \nL 33.2875 22.318125 \nz\n\" style=\"fill:#ffffff;\"/>\n   </g>\n   <g id=\"patch_3\">\n    <path clip-path=\"url(#pb1952405da)\" d=\"M 162.96968 413.710125 \nL 164.929366 413.710125 \nL 164.929366 375.673973 \nL 162.96968 375.673973 \nz\n\" style=\"fill:#1f77b4;\"/>\n   </g>\n   <g id=\"patch_4\">\n    <path clip-path=\"url(#pb1952405da)\" d=\"M 133.5744 413.710125 \nL 135.534085 413.710125 \nL 135.534085 265.369134 \nL 133.5744 265.369134 \nz\n\" style=\"fill:#1f77b4;\"/>\n   </g>\n   <g id=\"patch_5\">\n    <path clip-path=\"url(#pb1952405da)\" d=\"M 118.876759 413.710125 \nL 120.836445 413.710125 \nL 120.836445 272.976364 \nL 118.876759 272.976364 \nz\n\" style=\"fill:#1f77b4;\"/>\n   </g>\n   <g id=\"patch_6\">\n    <path clip-path=\"url(#pb1952405da)\" d=\"M 136.024006 413.710125 \nL 137.983692 413.710125 \nL 137.983692 337.637822 \nL 136.024006 337.637822 \nz\n\" style=\"fill:#1f77b4;\"/>\n   </g>\n   <g id=\"patch_7\">\n    <path clip-path=\"url(#pb1952405da)\" d=\"M 126.225579 413.710125 \nL 128.185265 413.710125 \nL 128.185265 238.743828 \nL 126.225579 238.743828 \nz\n\" style=\"fill:#1f77b4;\"/>\n   </g>\n   <g id=\"patch_8\">\n    <path clip-path=\"url(#pb1952405da)\" d=\"M 84.582265 413.710125 \nL 86.54195 413.710125 \nL 86.54195 151.260679 \nL 84.582265 151.260679 \nz\n\" style=\"fill:#1f77b4;\"/>\n   </g>\n   <g id=\"patch_9\">\n    <path clip-path=\"url(#pb1952405da)\" d=\"M 145.822433 413.710125 \nL 147.782119 413.710125 \nL 147.782119 318.619746 \nL 145.822433 318.619746 \nz\n\" style=\"fill:#1f77b4;\"/>\n   </g>\n   <g id=\"patch_10\">\n    <path clip-path=\"url(#pb1952405da)\" d=\"M 87.031872 413.710125 \nL 88.991557 413.710125 \nL 88.991557 90.402836 \nL 87.031872 90.402836 \nz\n\" style=\"fill:#1f77b4;\"/>\n   </g>\n   <g id=\"patch_11\">\n    <path clip-path=\"url(#pb1952405da)\" d=\"M 128.675186 413.710125 \nL 130.634872 413.710125 \nL 130.634872 272.976364 \nL 128.675186 272.976364 \nz\n\" style=\"fill:#1f77b4;\"/>\n   </g>\n   <g id=\"patch_12\">\n    <path clip-path=\"url(#pb1952405da)\" d=\"M 150.721647 413.710125 \nL 152.681332 413.710125 \nL 152.681332 349.048667 \nL 150.721647 349.048667 \nz\n\" style=\"fill:#1f77b4;\"/>\n   </g>\n   <g id=\"patch_13\">\n    <path clip-path=\"url(#pb1952405da)\" d=\"M 91.931085 413.710125 \nL 93.890771 413.710125 \nL 93.890771 162.671524 \nL 91.931085 162.671524 \nz\n\" style=\"fill:#1f77b4;\"/>\n   </g>\n   <g id=\"patch_14\">\n    <path clip-path=\"url(#pb1952405da)\" d=\"M 111.527939 413.710125 \nL 113.487624 413.710125 \nL 113.487624 174.08237 \nL 111.527939 174.08237 \nz\n\" style=\"fill:#1f77b4;\"/>\n   </g>\n   <g id=\"patch_15\">\n    <path clip-path=\"url(#pb1952405da)\" d=\"M 60.086198 413.710125 \nL 62.045883 413.710125 \nL 62.045883 40.955839 \nL 60.086198 40.955839 \nz\n\" style=\"fill:#1f77b4;\"/>\n   </g>\n   <g id=\"patch_16\">\n    <path clip-path=\"url(#pb1952405da)\" d=\"M 96.830299 413.710125 \nL 98.789984 413.710125 \nL 98.789984 181.6896 \nL 96.830299 181.6896 \nz\n\" style=\"fill:#1f77b4;\"/>\n   </g>\n   <g id=\"patch_17\">\n    <path clip-path=\"url(#pb1952405da)\" d=\"M 116.427152 413.710125 \nL 118.386838 413.710125 \nL 118.386838 181.6896 \nL 116.427152 181.6896 \nz\n\" style=\"fill:#1f77b4;\"/>\n   </g>\n   <g id=\"patch_18\">\n    <path clip-path=\"url(#pb1952405da)\" d=\"M 160.520074 413.710125 \nL 162.479759 413.710125 \nL 162.479759 349.048667 \nL 160.520074 349.048667 \nz\n\" style=\"fill:#1f77b4;\"/>\n   </g>\n   <g id=\"patch_19\">\n    <path clip-path=\"url(#pb1952405da)\" d=\"M 72.334231 413.710125 \nL 74.293917 413.710125 \nL 74.293917 132.242603 \nL 72.334231 132.242603 \nz\n\" style=\"fill:#1f77b4;\"/>\n   </g>\n   <g id=\"patch_20\">\n    <path clip-path=\"url(#pb1952405da)\" d=\"M 106.628726 413.710125 \nL 108.588411 413.710125 \nL 108.588411 181.6896 \nL 106.628726 181.6896 \nz\n\" style=\"fill:#1f77b4;\"/>\n   </g>\n   <g id=\"patch_21\">\n    <path clip-path=\"url(#pb1952405da)\" d=\"M 158.070467 413.710125 \nL 160.030152 413.710125 \nL 160.030152 387.084819 \nL 158.070467 387.084819 \nz\n\" style=\"fill:#1f77b4;\"/>\n   </g>\n   <g id=\"patch_22\">\n    <path clip-path=\"url(#pb1952405da)\" d=\"M 77.233445 413.710125 \nL 79.19313 413.710125 \nL 79.19313 132.242603 \nL 77.233445 132.242603 \nz\n\" style=\"fill:#1f77b4;\"/>\n   </g>\n   <g id=\"patch_23\">\n    <path clip-path=\"url(#pb1952405da)\" d=\"M 101.729512 413.710125 \nL 103.689197 413.710125 \nL 103.689197 155.064294 \nL 101.729512 155.064294 \nz\n\" style=\"fill:#1f77b4;\"/>\n   </g>\n   <g id=\"patch_24\">\n    <path clip-path=\"url(#pb1952405da)\" d=\"M 94.380692 413.710125 \nL 96.340377 413.710125 \nL 96.340377 151.260679 \nL 94.380692 151.260679 \nz\n\" style=\"fill:#1f77b4;\"/>\n   </g>\n   <g id=\"patch_25\">\n    <path clip-path=\"url(#pb1952405da)\" d=\"M 82.132658 413.710125 \nL 84.092344 413.710125 \nL 84.092344 132.242603 \nL 82.132658 132.242603 \nz\n\" style=\"fill:#1f77b4;\"/>\n   </g>\n   <g id=\"patch_26\">\n    <path clip-path=\"url(#pb1952405da)\" d=\"M 123.775973 413.710125 \nL 125.735658 413.710125 \nL 125.735658 219.725752 \nL 123.775973 219.725752 \nz\n\" style=\"fill:#1f77b4;\"/>\n   </g>\n   <g id=\"patch_27\">\n    <path clip-path=\"url(#pb1952405da)\" d=\"M 62.535804 413.710125 \nL 64.49549 413.710125 \nL 64.49549 265.369134 \nL 62.535804 265.369134 \nz\n\" style=\"fill:#1f77b4;\"/>\n   </g>\n   <g id=\"patch_28\">\n    <path clip-path=\"url(#pb1952405da)\" d=\"M 121.326366 413.710125 \nL 123.286051 413.710125 \nL 123.286051 227.332982 \nL 121.326366 227.332982 \nz\n\" style=\"fill:#1f77b4;\"/>\n   </g>\n   <g id=\"patch_29\">\n    <path clip-path=\"url(#pb1952405da)\" d=\"M 131.124793 413.710125 \nL 133.084478 413.710125 \nL 133.084478 291.99444 \nL 131.124793 291.99444 \nz\n\" style=\"fill:#1f77b4;\"/>\n   </g>\n   <g id=\"patch_30\">\n    <path clip-path=\"url(#pb1952405da)\" d=\"M 69.884625 413.710125 \nL 71.84431 413.710125 \nL 71.84431 40.955839 \nL 69.884625 40.955839 \nz\n\" style=\"fill:#1f77b4;\"/>\n   </g>\n   <g id=\"patch_31\">\n    <path clip-path=\"url(#pb1952405da)\" d=\"M 64.985411 413.710125 \nL 66.945096 413.710125 \nL 66.945096 105.617297 \nL 64.985411 105.617297 \nz\n\" style=\"fill:#1f77b4;\"/>\n   </g>\n   <g id=\"patch_32\">\n    <path clip-path=\"url(#pb1952405da)\" d=\"M 99.279905 413.710125 \nL 101.239591 413.710125 \nL 101.239591 136.046218 \nL 99.279905 136.046218 \nz\n\" style=\"fill:#1f77b4;\"/>\n   </g>\n   <g id=\"patch_33\">\n    <path clip-path=\"url(#pb1952405da)\" d=\"M 138.473613 413.710125 \nL 140.433298 413.710125 \nL 140.433298 291.99444 \nL 138.473613 291.99444 \nz\n\" style=\"fill:#1f77b4;\"/>\n   </g>\n   <g id=\"patch_34\">\n    <path clip-path=\"url(#pb1952405da)\" d=\"M 143.372827 413.710125 \nL 145.332512 413.710125 \nL 145.332512 311.012516 \nL 143.372827 311.012516 \nz\n\" style=\"fill:#1f77b4;\"/>\n   </g>\n   <g id=\"patch_35\">\n    <path clip-path=\"url(#pb1952405da)\" d=\"M 113.977546 413.710125 \nL 115.937231 413.710125 \nL 115.937231 196.904061 \nL 113.977546 196.904061 \nz\n\" style=\"fill:#1f77b4;\"/>\n   </g>\n   <g id=\"patch_36\">\n    <path clip-path=\"url(#pb1952405da)\" d=\"M 192.364961 413.710125 \nL 194.324647 413.710125 \nL 194.324647 406.102895 \nL 192.364961 406.102895 \nz\n\" style=\"fill:#1f77b4;\"/>\n   </g>\n   <g id=\"patch_37\">\n    <path clip-path=\"url(#pb1952405da)\" d=\"M 170.318501 413.710125 \nL 172.278186 413.710125 \nL 172.278186 371.870358 \nL 170.318501 371.870358 \nz\n\" style=\"fill:#1f77b4;\"/>\n   </g>\n   <g id=\"patch_38\">\n    <path clip-path=\"url(#pb1952405da)\" d=\"M 187.465748 413.710125 \nL 189.425433 413.710125 \nL 189.425433 375.673973 \nL 187.465748 375.673973 \nz\n\" style=\"fill:#1f77b4;\"/>\n   </g>\n   <g id=\"patch_39\">\n    <path clip-path=\"url(#pb1952405da)\" d=\"M 89.481478 413.710125 \nL 91.441164 413.710125 \nL 91.441164 174.08237 \nL 89.481478 174.08237 \nz\n\" style=\"fill:#1f77b4;\"/>\n   </g>\n   <g id=\"patch_40\">\n    <path clip-path=\"url(#pb1952405da)\" d=\"M 74.783838 413.710125 \nL 76.743523 413.710125 \nL 76.743523 155.064294 \nL 74.783838 155.064294 \nz\n\" style=\"fill:#1f77b4;\"/>\n   </g>\n   <g id=\"patch_41\">\n    <path clip-path=\"url(#pb1952405da)\" d=\"M 109.078332 413.710125 \nL 111.038018 413.710125 \nL 111.038018 219.725752 \nL 109.078332 219.725752 \nz\n\" style=\"fill:#1f77b4;\"/>\n   </g>\n   <g id=\"patch_42\">\n    <path clip-path=\"url(#pb1952405da)\" d=\"M 172.768107 413.710125 \nL 174.727793 413.710125 \nL 174.727793 398.495664 \nL 172.768107 398.495664 \nz\n\" style=\"fill:#1f77b4;\"/>\n   </g>\n   <g id=\"patch_43\">\n    <path clip-path=\"url(#pb1952405da)\" d=\"M 79.683051 413.710125 \nL 81.642737 413.710125 \nL 81.642737 151.260679 \nL 79.683051 151.260679 \nz\n\" style=\"fill:#1f77b4;\"/>\n   </g>\n   <g id=\"patch_44\">\n    <path clip-path=\"url(#pb1952405da)\" d=\"M 148.27204 413.710125 \nL 150.231725 413.710125 \nL 150.231725 356.655898 \nL 148.27204 356.655898 \nz\n\" style=\"fill:#1f77b4;\"/>\n   </g>\n   <g id=\"patch_45\">\n    <path clip-path=\"url(#pb1952405da)\" d=\"M 67.435018 413.710125 \nL 69.394703 413.710125 \nL 69.394703 132.242603 \nL 67.435018 132.242603 \nz\n\" style=\"fill:#1f77b4;\"/>\n   </g>\n   <g id=\"patch_46\">\n    <path clip-path=\"url(#pb1952405da)\" d=\"M 542.658724 413.710125 \nL 544.618409 413.710125 \nL 544.618409 409.90651 \nL 542.658724 409.90651 \nz\n\" style=\"fill:#1f77b4;\"/>\n   </g>\n   <g id=\"patch_47\">\n    <path clip-path=\"url(#pb1952405da)\" d=\"M 265.853163 413.710125 \nL 267.812848 413.710125 \nL 267.812848 409.90651 \nL 265.853163 409.90651 \nz\n\" style=\"fill:#1f77b4;\"/>\n   </g>\n   <g id=\"patch_48\">\n    <path clip-path=\"url(#pb1952405da)\" d=\"M 153.171253 413.710125 \nL 155.130939 413.710125 \nL 155.130939 349.048667 \nL 153.171253 349.048667 \nz\n\" style=\"fill:#1f77b4;\"/>\n   </g>\n   <g id=\"patch_49\">\n    <path clip-path=\"url(#pb1952405da)\" d=\"M 140.92322 413.710125 \nL 142.882905 413.710125 \nL 142.882905 314.816131 \nL 140.92322 314.816131 \nz\n\" style=\"fill:#1f77b4;\"/>\n   </g>\n   <g id=\"patch_50\">\n    <path clip-path=\"url(#pb1952405da)\" d=\"M 278.101197 413.710125 \nL 280.060882 413.710125 \nL 280.060882 406.102895 \nL 278.101197 406.102895 \nz\n\" style=\"fill:#1f77b4;\"/>\n   </g>\n   <g id=\"patch_51\">\n    <path clip-path=\"url(#pb1952405da)\" d=\"M 104.179119 413.710125 \nL 106.138804 413.710125 \nL 106.138804 242.547443 \nL 104.179119 242.547443 \nz\n\" style=\"fill:#1f77b4;\"/>\n   </g>\n   <g id=\"patch_52\">\n    <path clip-path=\"url(#pb1952405da)\" d=\"M 155.62086 413.710125 \nL 157.580546 413.710125 \nL 157.580546 360.459513 \nL 155.62086 360.459513 \nz\n\" style=\"fill:#1f77b4;\"/>\n   </g>\n   <g id=\"patch_53\">\n    <path clip-path=\"url(#pb1952405da)\" d=\"M 199.713781 413.710125 \nL 201.673467 413.710125 \nL 201.673467 387.084819 \nL 199.713781 387.084819 \nz\n\" style=\"fill:#1f77b4;\"/>\n   </g>\n   <g id=\"patch_54\">\n    <path clip-path=\"url(#pb1952405da)\" d=\"M 290.34923 413.710125 \nL 292.308916 413.710125 \nL 292.308916 409.90651 \nL 290.34923 409.90651 \nz\n\" style=\"fill:#1f77b4;\"/>\n   </g>\n   <g id=\"patch_55\">\n    <path clip-path=\"url(#pb1952405da)\" d=\"M 167.868894 413.710125 \nL 169.828579 413.710125 \nL 169.828579 368.066743 \nL 167.868894 368.066743 \nz\n\" style=\"fill:#1f77b4;\"/>\n   </g>\n   <g id=\"patch_56\">\n    <path clip-path=\"url(#pb1952405da)\" d=\"M 243.806702 413.710125 \nL 245.766388 413.710125 \nL 245.766388 406.102895 \nL 243.806702 406.102895 \nz\n\" style=\"fill:#1f77b4;\"/>\n   </g>\n   <g id=\"patch_57\">\n    <path clip-path=\"url(#pb1952405da)\" d=\"M 197.264175 413.710125 \nL 199.22386 413.710125 \nL 199.22386 409.90651 \nL 197.264175 409.90651 \nz\n\" style=\"fill:#1f77b4;\"/>\n   </g>\n   <g id=\"patch_58\">\n    <path clip-path=\"url(#pb1952405da)\" d=\"M 211.961815 413.710125 \nL 213.9215 413.710125 \nL 213.9215 402.29928 \nL 211.961815 402.29928 \nz\n\" style=\"fill:#1f77b4;\"/>\n   </g>\n   <g id=\"patch_59\">\n    <path clip-path=\"url(#pb1952405da)\" d=\"M 189.915354 413.710125 \nL 191.87504 413.710125 \nL 191.87504 387.084819 \nL 189.915354 387.084819 \nz\n\" style=\"fill:#1f77b4;\"/>\n   </g>\n   <g id=\"patch_60\">\n    <path clip-path=\"url(#pb1952405da)\" d=\"M 214.411422 413.710125 \nL 216.371107 413.710125 \nL 216.371107 409.90651 \nL 214.411422 409.90651 \nz\n\" style=\"fill:#1f77b4;\"/>\n   </g>\n   <g id=\"patch_61\">\n    <path clip-path=\"url(#pb1952405da)\" d=\"M 216.861028 413.710125 \nL 218.820714 413.710125 \nL 218.820714 402.29928 \nL 216.861028 402.29928 \nz\n\" style=\"fill:#1f77b4;\"/>\n   </g>\n   <g id=\"patch_62\">\n    <path clip-path=\"url(#pb1952405da)\" d=\"M 177.667321 413.710125 \nL 179.627006 413.710125 \nL 179.627006 394.692049 \nL 177.667321 394.692049 \nz\n\" style=\"fill:#1f77b4;\"/>\n   </g>\n   <g id=\"patch_63\">\n    <path clip-path=\"url(#pb1952405da)\" d=\"M 165.419287 413.710125 \nL 167.378972 413.710125 \nL 167.378972 360.459513 \nL 165.419287 360.459513 \nz\n\" style=\"fill:#1f77b4;\"/>\n   </g>\n   <g id=\"patch_64\">\n    <path clip-path=\"url(#pb1952405da)\" d=\"M 182.566534 413.710125 \nL 184.52622 413.710125 \nL 184.52622 406.102895 \nL 182.566534 406.102895 \nz\n\" style=\"fill:#1f77b4;\"/>\n   </g>\n   <g id=\"patch_65\">\n    <path clip-path=\"url(#pb1952405da)\" d=\"M 231.558669 413.710125 \nL 233.518354 413.710125 \nL 233.518354 402.29928 \nL 231.558669 402.29928 \nz\n\" style=\"fill:#1f77b4;\"/>\n   </g>\n   <g id=\"patch_66\">\n    <path clip-path=\"url(#pb1952405da)\" d=\"M 329.542938 413.710125 \nL 331.502623 413.710125 \nL 331.502623 409.90651 \nL 329.542938 409.90651 \nz\n\" style=\"fill:#1f77b4;\"/>\n   </g>\n   <g id=\"patch_67\">\n    <path clip-path=\"url(#pb1952405da)\" d=\"M 175.217714 413.710125 \nL 177.177399 413.710125 \nL 177.177399 394.692049 \nL 175.217714 394.692049 \nz\n\" style=\"fill:#1f77b4;\"/>\n   </g>\n   <g id=\"patch_68\">\n    <path clip-path=\"url(#pb1952405da)\" d=\"M 207.062602 413.710125 \nL 209.022287 413.710125 \nL 209.022287 406.102895 \nL 207.062602 406.102895 \nz\n\" style=\"fill:#1f77b4;\"/>\n   </g>\n   <g id=\"patch_69\">\n    <path clip-path=\"url(#pb1952405da)\" d=\"M 202.163388 413.710125 \nL 204.123073 413.710125 \nL 204.123073 409.90651 \nL 202.163388 409.90651 \nz\n\" style=\"fill:#1f77b4;\"/>\n   </g>\n   <g id=\"patch_70\">\n    <path clip-path=\"url(#pb1952405da)\" d=\"M 180.116927 413.710125 \nL 182.076613 413.710125 \nL 182.076613 383.281204 \nL 180.116927 383.281204 \nz\n\" style=\"fill:#1f77b4;\"/>\n   </g>\n   <g id=\"patch_71\">\n    <path clip-path=\"url(#pb1952405da)\" d=\"M 57.636591 413.710125 \nL 59.596276 413.710125 \nL 59.596276 398.495664 \nL 57.636591 398.495664 \nz\n\" style=\"fill:#1f77b4;\"/>\n   </g>\n   <g id=\"patch_72\">\n    <path clip-path=\"url(#pb1952405da)\" d=\"M 268.30277 413.710125 \nL 270.262455 413.710125 \nL 270.262455 409.90651 \nL 268.30277 409.90651 \nz\n\" style=\"fill:#1f77b4;\"/>\n   </g>\n   <g id=\"patch_73\">\n    <path clip-path=\"url(#pb1952405da)\" d=\"M 234.008276 413.710125 \nL 235.967961 413.710125 \nL 235.967961 406.102895 \nL 234.008276 406.102895 \nz\n\" style=\"fill:#1f77b4;\"/>\n   </g>\n   <g id=\"patch_74\">\n    <path clip-path=\"url(#pb1952405da)\" d=\"M 224.209849 413.710125 \nL 226.169534 413.710125 \nL 226.169534 409.90651 \nL 224.209849 409.90651 \nz\n\" style=\"fill:#1f77b4;\"/>\n   </g>\n   <g id=\"patch_75\">\n    <path clip-path=\"url(#pb1952405da)\" d=\"M 185.016141 413.710125 \nL 186.975826 413.710125 \nL 186.975826 409.90651 \nL 185.016141 409.90651 \nz\n\" style=\"fill:#1f77b4;\"/>\n   </g>\n   <g id=\"patch_76\">\n    <path clip-path=\"url(#pb1952405da)\" d=\"M 221.760242 413.710125 \nL 223.719927 413.710125 \nL 223.719927 406.102895 \nL 221.760242 406.102895 \nz\n\" style=\"fill:#1f77b4;\"/>\n   </g>\n   <g id=\"patch_77\">\n    <path clip-path=\"url(#pb1952405da)\" d=\"M 344.240578 413.710125 \nL 346.200264 413.710125 \nL 346.200264 409.90651 \nL 344.240578 409.90651 \nz\n\" style=\"fill:#1f77b4;\"/>\n   </g>\n   <g id=\"patch_78\">\n    <path clip-path=\"url(#pb1952405da)\" d=\"M 388.3335 413.710125 \nL 390.293185 413.710125 \nL 390.293185 409.90651 \nL 388.3335 409.90651 \nz\n\" style=\"fill:#1f77b4;\"/>\n   </g>\n   <g id=\"patch_79\">\n    <path clip-path=\"url(#pb1952405da)\" d=\"M 204.612995 413.710125 \nL 206.57268 413.710125 \nL 206.57268 409.90651 \nL 204.612995 409.90651 \nz\n\" style=\"fill:#1f77b4;\"/>\n   </g>\n   <g id=\"patch_80\">\n    <path clip-path=\"url(#pb1952405da)\" d=\"M 324.643725 413.710125 \nL 326.60341 413.710125 \nL 326.60341 409.90651 \nL 324.643725 409.90651 \nz\n\" style=\"fill:#1f77b4;\"/>\n   </g>\n   <g id=\"patch_81\">\n    <path clip-path=\"url(#pb1952405da)\" d=\"M 263.403556 413.710125 \nL 265.363242 413.710125 \nL 265.363242 409.90651 \nL 263.403556 409.90651 \nz\n\" style=\"fill:#1f77b4;\"/>\n   </g>\n   <g id=\"patch_82\">\n    <path clip-path=\"url(#pb1952405da)\" d=\"M 219.310635 413.710125 \nL 221.270321 413.710125 \nL 221.270321 406.102895 \nL 219.310635 406.102895 \nz\n\" style=\"fill:#1f77b4;\"/>\n   </g>\n   <g id=\"patch_83\">\n    <path clip-path=\"url(#pb1952405da)\" d=\"M 209.512208 413.710125 \nL 211.471894 413.710125 \nL 211.471894 409.90651 \nL 209.512208 409.90651 \nz\n\" style=\"fill:#1f77b4;\"/>\n   </g>\n   <g id=\"patch_84\">\n    <path clip-path=\"url(#pb1952405da)\" d=\"M 327.093331 413.710125 \nL 329.053017 413.710125 \nL 329.053017 409.90651 \nL 327.093331 409.90651 \nz\n\" style=\"fill:#1f77b4;\"/>\n   </g>\n   <g id=\"patch_85\">\n    <path clip-path=\"url(#pb1952405da)\" d=\"M 194.814568 413.710125 \nL 196.774253 413.710125 \nL 196.774253 406.102895 \nL 194.814568 406.102895 \nz\n\" style=\"fill:#1f77b4;\"/>\n   </g>\n   <g id=\"patch_86\">\n    <path clip-path=\"url(#pb1952405da)\" d=\"M 305.046871 413.710125 \nL 307.006556 413.710125 \nL 307.006556 409.90651 \nL 305.046871 409.90651 \nz\n\" style=\"fill:#1f77b4;\"/>\n   </g>\n   <g id=\"patch_87\">\n    <path clip-path=\"url(#pb1952405da)\" d=\"M 253.605129 413.710125 \nL 255.564815 413.710125 \nL 255.564815 409.90651 \nL 253.605129 409.90651 \nz\n\" style=\"fill:#1f77b4;\"/>\n   </g>\n   <g id=\"matplotlib.axis_1\">\n    <g id=\"xtick_1\">\n     <g id=\"line2d_1\">\n      <defs>\n       <path d=\"M 0 0 \nL 0 3.5 \n\" id=\"m6f5f8af19a\" style=\"stroke:#000000;stroke-width:0.8;\"/>\n      </defs>\n      <g>\n       <use style=\"stroke:#000000;stroke-width:0.8;\" x=\"56.166827\" xlink:href=\"#m6f5f8af19a\" y=\"413.710125\"/>\n      </g>\n     </g>\n     <g id=\"text_1\">\n      <!-- 0 -->\n      <g transform=\"translate(52.985577 428.308562)scale(0.1 -0.1)\">\n       <defs>\n        <path d=\"M 31.78125 66.40625 \nQ 24.171875 66.40625 20.328125 58.90625 \nQ 16.5 51.421875 16.5 36.375 \nQ 16.5 21.390625 20.328125 13.890625 \nQ 24.171875 6.390625 31.78125 6.390625 \nQ 39.453125 6.390625 43.28125 13.890625 \nQ 47.125 21.390625 47.125 36.375 \nQ 47.125 51.421875 43.28125 58.90625 \nQ 39.453125 66.40625 31.78125 66.40625 \nz\nM 31.78125 74.21875 \nQ 44.046875 74.21875 50.515625 64.515625 \nQ 56.984375 54.828125 56.984375 36.375 \nQ 56.984375 17.96875 50.515625 8.265625 \nQ 44.046875 -1.421875 31.78125 -1.421875 \nQ 19.53125 -1.421875 13.0625 8.265625 \nQ 6.59375 17.96875 6.59375 36.375 \nQ 6.59375 54.828125 13.0625 64.515625 \nQ 19.53125 74.21875 31.78125 74.21875 \nz\n\" id=\"DejaVuSans-48\"/>\n       </defs>\n       <use xlink:href=\"#DejaVuSans-48\"/>\n      </g>\n     </g>\n    </g>\n    <g id=\"xtick_2\">\n     <g id=\"line2d_2\">\n      <g>\n       <use style=\"stroke:#000000;stroke-width:0.8;\" x=\"117.406995\" xlink:href=\"#m6f5f8af19a\" y=\"413.710125\"/>\n      </g>\n     </g>\n     <g id=\"text_2\">\n      <!-- 25 -->\n      <g transform=\"translate(111.044495 428.308562)scale(0.1 -0.1)\">\n       <defs>\n        <path d=\"M 19.1875 8.296875 \nL 53.609375 8.296875 \nL 53.609375 0 \nL 7.328125 0 \nL 7.328125 8.296875 \nQ 12.9375 14.109375 22.625 23.890625 \nQ 32.328125 33.6875 34.8125 36.53125 \nQ 39.546875 41.84375 41.421875 45.53125 \nQ 43.3125 49.21875 43.3125 52.78125 \nQ 43.3125 58.59375 39.234375 62.25 \nQ 35.15625 65.921875 28.609375 65.921875 \nQ 23.96875 65.921875 18.8125 64.3125 \nQ 13.671875 62.703125 7.8125 59.421875 \nL 7.8125 69.390625 \nQ 13.765625 71.78125 18.9375 73 \nQ 24.125 74.21875 28.421875 74.21875 \nQ 39.75 74.21875 46.484375 68.546875 \nQ 53.21875 62.890625 53.21875 53.421875 \nQ 53.21875 48.921875 51.53125 44.890625 \nQ 49.859375 40.875 45.40625 35.40625 \nQ 44.1875 33.984375 37.640625 27.21875 \nQ 31.109375 20.453125 19.1875 8.296875 \nz\n\" id=\"DejaVuSans-50\"/>\n        <path d=\"M 10.796875 72.90625 \nL 49.515625 72.90625 \nL 49.515625 64.59375 \nL 19.828125 64.59375 \nL 19.828125 46.734375 \nQ 21.96875 47.46875 24.109375 47.828125 \nQ 26.265625 48.1875 28.421875 48.1875 \nQ 40.625 48.1875 47.75 41.5 \nQ 54.890625 34.8125 54.890625 23.390625 \nQ 54.890625 11.625 47.5625 5.09375 \nQ 40.234375 -1.421875 26.90625 -1.421875 \nQ 22.3125 -1.421875 17.546875 -0.640625 \nQ 12.796875 0.140625 7.71875 1.703125 \nL 7.71875 11.625 \nQ 12.109375 9.234375 16.796875 8.0625 \nQ 21.484375 6.890625 26.703125 6.890625 \nQ 35.15625 6.890625 40.078125 11.328125 \nQ 45.015625 15.765625 45.015625 23.390625 \nQ 45.015625 31 40.078125 35.4375 \nQ 35.15625 39.890625 26.703125 39.890625 \nQ 22.75 39.890625 18.8125 39.015625 \nQ 14.890625 38.140625 10.796875 36.28125 \nz\n\" id=\"DejaVuSans-53\"/>\n       </defs>\n       <use xlink:href=\"#DejaVuSans-50\"/>\n       <use x=\"63.623047\" xlink:href=\"#DejaVuSans-53\"/>\n      </g>\n     </g>\n    </g>\n    <g id=\"xtick_3\">\n     <g id=\"line2d_3\">\n      <g>\n       <use style=\"stroke:#000000;stroke-width:0.8;\" x=\"178.647163\" xlink:href=\"#m6f5f8af19a\" y=\"413.710125\"/>\n      </g>\n     </g>\n     <g id=\"text_3\">\n      <!-- 50 -->\n      <g transform=\"translate(172.284663 428.308562)scale(0.1 -0.1)\">\n       <use xlink:href=\"#DejaVuSans-53\"/>\n       <use x=\"63.623047\" xlink:href=\"#DejaVuSans-48\"/>\n      </g>\n     </g>\n    </g>\n    <g id=\"xtick_4\">\n     <g id=\"line2d_4\">\n      <g>\n       <use style=\"stroke:#000000;stroke-width:0.8;\" x=\"239.887332\" xlink:href=\"#m6f5f8af19a\" y=\"413.710125\"/>\n      </g>\n     </g>\n     <g id=\"text_4\">\n      <!-- 75 -->\n      <g transform=\"translate(233.524832 428.308562)scale(0.1 -0.1)\">\n       <defs>\n        <path d=\"M 8.203125 72.90625 \nL 55.078125 72.90625 \nL 55.078125 68.703125 \nL 28.609375 0 \nL 18.3125 0 \nL 43.21875 64.59375 \nL 8.203125 64.59375 \nz\n\" id=\"DejaVuSans-55\"/>\n       </defs>\n       <use xlink:href=\"#DejaVuSans-55\"/>\n       <use x=\"63.623047\" xlink:href=\"#DejaVuSans-53\"/>\n      </g>\n     </g>\n    </g>\n    <g id=\"xtick_5\">\n     <g id=\"line2d_5\">\n      <g>\n       <use style=\"stroke:#000000;stroke-width:0.8;\" x=\"301.1275\" xlink:href=\"#m6f5f8af19a\" y=\"413.710125\"/>\n      </g>\n     </g>\n     <g id=\"text_5\">\n      <!-- 100 -->\n      <g transform=\"translate(291.58375 428.308562)scale(0.1 -0.1)\">\n       <defs>\n        <path d=\"M 12.40625 8.296875 \nL 28.515625 8.296875 \nL 28.515625 63.921875 \nL 10.984375 60.40625 \nL 10.984375 69.390625 \nL 28.421875 72.90625 \nL 38.28125 72.90625 \nL 38.28125 8.296875 \nL 54.390625 8.296875 \nL 54.390625 0 \nL 12.40625 0 \nz\n\" id=\"DejaVuSans-49\"/>\n       </defs>\n       <use xlink:href=\"#DejaVuSans-49\"/>\n       <use x=\"63.623047\" xlink:href=\"#DejaVuSans-48\"/>\n       <use x=\"127.246094\" xlink:href=\"#DejaVuSans-48\"/>\n      </g>\n     </g>\n    </g>\n    <g id=\"xtick_6\">\n     <g id=\"line2d_6\">\n      <g>\n       <use style=\"stroke:#000000;stroke-width:0.8;\" x=\"362.367668\" xlink:href=\"#m6f5f8af19a\" y=\"413.710125\"/>\n      </g>\n     </g>\n     <g id=\"text_6\">\n      <!-- 125 -->\n      <g transform=\"translate(352.823918 428.308562)scale(0.1 -0.1)\">\n       <use xlink:href=\"#DejaVuSans-49\"/>\n       <use x=\"63.623047\" xlink:href=\"#DejaVuSans-50\"/>\n       <use x=\"127.246094\" xlink:href=\"#DejaVuSans-53\"/>\n      </g>\n     </g>\n    </g>\n    <g id=\"xtick_7\">\n     <g id=\"line2d_7\">\n      <g>\n       <use style=\"stroke:#000000;stroke-width:0.8;\" x=\"423.607837\" xlink:href=\"#m6f5f8af19a\" y=\"413.710125\"/>\n      </g>\n     </g>\n     <g id=\"text_7\">\n      <!-- 150 -->\n      <g transform=\"translate(414.064087 428.308562)scale(0.1 -0.1)\">\n       <use xlink:href=\"#DejaVuSans-49\"/>\n       <use x=\"63.623047\" xlink:href=\"#DejaVuSans-53\"/>\n       <use x=\"127.246094\" xlink:href=\"#DejaVuSans-48\"/>\n      </g>\n     </g>\n    </g>\n    <g id=\"xtick_8\">\n     <g id=\"line2d_8\">\n      <g>\n       <use style=\"stroke:#000000;stroke-width:0.8;\" x=\"484.848005\" xlink:href=\"#m6f5f8af19a\" y=\"413.710125\"/>\n      </g>\n     </g>\n     <g id=\"text_8\">\n      <!-- 175 -->\n      <g transform=\"translate(475.304255 428.308562)scale(0.1 -0.1)\">\n       <use xlink:href=\"#DejaVuSans-49\"/>\n       <use x=\"63.623047\" xlink:href=\"#DejaVuSans-55\"/>\n       <use x=\"127.246094\" xlink:href=\"#DejaVuSans-53\"/>\n      </g>\n     </g>\n    </g>\n    <g id=\"xtick_9\">\n     <g id=\"line2d_9\">\n      <g>\n       <use style=\"stroke:#000000;stroke-width:0.8;\" x=\"546.088173\" xlink:href=\"#m6f5f8af19a\" y=\"413.710125\"/>\n      </g>\n     </g>\n     <g id=\"text_9\">\n      <!-- 200 -->\n      <g transform=\"translate(536.544423 428.308562)scale(0.1 -0.1)\">\n       <use xlink:href=\"#DejaVuSans-50\"/>\n       <use x=\"63.623047\" xlink:href=\"#DejaVuSans-48\"/>\n       <use x=\"127.246094\" xlink:href=\"#DejaVuSans-48\"/>\n      </g>\n     </g>\n    </g>\n   </g>\n   <g id=\"matplotlib.axis_2\">\n    <g id=\"ytick_1\">\n     <g id=\"line2d_10\">\n      <defs>\n       <path d=\"M 0 0 \nL -3.5 0 \n\" id=\"m5d58a6bc4c\" style=\"stroke:#000000;stroke-width:0.8;\"/>\n      </defs>\n      <g>\n       <use style=\"stroke:#000000;stroke-width:0.8;\" x=\"33.2875\" xlink:href=\"#m5d58a6bc4c\" y=\"413.710125\"/>\n      </g>\n     </g>\n     <g id=\"text_10\">\n      <!-- 0 -->\n      <g transform=\"translate(19.925 417.509344)scale(0.1 -0.1)\">\n       <use xlink:href=\"#DejaVuSans-48\"/>\n      </g>\n     </g>\n    </g>\n    <g id=\"ytick_2\">\n     <g id=\"line2d_11\">\n      <g>\n       <use style=\"stroke:#000000;stroke-width:0.8;\" x=\"33.2875\" xlink:href=\"#m5d58a6bc4c\" y=\"337.637822\"/>\n      </g>\n     </g>\n     <g id=\"text_11\">\n      <!-- 20 -->\n      <g transform=\"translate(13.5625 341.437041)scale(0.1 -0.1)\">\n       <use xlink:href=\"#DejaVuSans-50\"/>\n       <use x=\"63.623047\" xlink:href=\"#DejaVuSans-48\"/>\n      </g>\n     </g>\n    </g>\n    <g id=\"ytick_3\">\n     <g id=\"line2d_12\">\n      <g>\n       <use style=\"stroke:#000000;stroke-width:0.8;\" x=\"33.2875\" xlink:href=\"#m5d58a6bc4c\" y=\"261.565519\"/>\n      </g>\n     </g>\n     <g id=\"text_12\">\n      <!-- 40 -->\n      <g transform=\"translate(13.5625 265.364737)scale(0.1 -0.1)\">\n       <defs>\n        <path d=\"M 37.796875 64.3125 \nL 12.890625 25.390625 \nL 37.796875 25.390625 \nz\nM 35.203125 72.90625 \nL 47.609375 72.90625 \nL 47.609375 25.390625 \nL 58.015625 25.390625 \nL 58.015625 17.1875 \nL 47.609375 17.1875 \nL 47.609375 0 \nL 37.796875 0 \nL 37.796875 17.1875 \nL 4.890625 17.1875 \nL 4.890625 26.703125 \nz\n\" id=\"DejaVuSans-52\"/>\n       </defs>\n       <use xlink:href=\"#DejaVuSans-52\"/>\n       <use x=\"63.623047\" xlink:href=\"#DejaVuSans-48\"/>\n      </g>\n     </g>\n    </g>\n    <g id=\"ytick_4\">\n     <g id=\"line2d_13\">\n      <g>\n       <use style=\"stroke:#000000;stroke-width:0.8;\" x=\"33.2875\" xlink:href=\"#m5d58a6bc4c\" y=\"185.493215\"/>\n      </g>\n     </g>\n     <g id=\"text_13\">\n      <!-- 60 -->\n      <g transform=\"translate(13.5625 189.292434)scale(0.1 -0.1)\">\n       <defs>\n        <path d=\"M 33.015625 40.375 \nQ 26.375 40.375 22.484375 35.828125 \nQ 18.609375 31.296875 18.609375 23.390625 \nQ 18.609375 15.53125 22.484375 10.953125 \nQ 26.375 6.390625 33.015625 6.390625 \nQ 39.65625 6.390625 43.53125 10.953125 \nQ 47.40625 15.53125 47.40625 23.390625 \nQ 47.40625 31.296875 43.53125 35.828125 \nQ 39.65625 40.375 33.015625 40.375 \nz\nM 52.59375 71.296875 \nL 52.59375 62.3125 \nQ 48.875 64.0625 45.09375 64.984375 \nQ 41.3125 65.921875 37.59375 65.921875 \nQ 27.828125 65.921875 22.671875 59.328125 \nQ 17.53125 52.734375 16.796875 39.40625 \nQ 19.671875 43.65625 24.015625 45.921875 \nQ 28.375 48.1875 33.59375 48.1875 \nQ 44.578125 48.1875 50.953125 41.515625 \nQ 57.328125 34.859375 57.328125 23.390625 \nQ 57.328125 12.15625 50.6875 5.359375 \nQ 44.046875 -1.421875 33.015625 -1.421875 \nQ 20.359375 -1.421875 13.671875 8.265625 \nQ 6.984375 17.96875 6.984375 36.375 \nQ 6.984375 53.65625 15.1875 63.9375 \nQ 23.390625 74.21875 37.203125 74.21875 \nQ 40.921875 74.21875 44.703125 73.484375 \nQ 48.484375 72.75 52.59375 71.296875 \nz\n\" id=\"DejaVuSans-54\"/>\n       </defs>\n       <use xlink:href=\"#DejaVuSans-54\"/>\n       <use x=\"63.623047\" xlink:href=\"#DejaVuSans-48\"/>\n      </g>\n     </g>\n    </g>\n    <g id=\"ytick_5\">\n     <g id=\"line2d_14\">\n      <g>\n       <use style=\"stroke:#000000;stroke-width:0.8;\" x=\"33.2875\" xlink:href=\"#m5d58a6bc4c\" y=\"109.420912\"/>\n      </g>\n     </g>\n     <g id=\"text_14\">\n      <!-- 80 -->\n      <g transform=\"translate(13.5625 113.220131)scale(0.1 -0.1)\">\n       <defs>\n        <path d=\"M 31.78125 34.625 \nQ 24.75 34.625 20.71875 30.859375 \nQ 16.703125 27.09375 16.703125 20.515625 \nQ 16.703125 13.921875 20.71875 10.15625 \nQ 24.75 6.390625 31.78125 6.390625 \nQ 38.8125 6.390625 42.859375 10.171875 \nQ 46.921875 13.96875 46.921875 20.515625 \nQ 46.921875 27.09375 42.890625 30.859375 \nQ 38.875 34.625 31.78125 34.625 \nz\nM 21.921875 38.8125 \nQ 15.578125 40.375 12.03125 44.71875 \nQ 8.5 49.078125 8.5 55.328125 \nQ 8.5 64.0625 14.71875 69.140625 \nQ 20.953125 74.21875 31.78125 74.21875 \nQ 42.671875 74.21875 48.875 69.140625 \nQ 55.078125 64.0625 55.078125 55.328125 \nQ 55.078125 49.078125 51.53125 44.71875 \nQ 48 40.375 41.703125 38.8125 \nQ 48.828125 37.15625 52.796875 32.3125 \nQ 56.78125 27.484375 56.78125 20.515625 \nQ 56.78125 9.90625 50.3125 4.234375 \nQ 43.84375 -1.421875 31.78125 -1.421875 \nQ 19.734375 -1.421875 13.25 4.234375 \nQ 6.78125 9.90625 6.78125 20.515625 \nQ 6.78125 27.484375 10.78125 32.3125 \nQ 14.796875 37.15625 21.921875 38.8125 \nz\nM 18.3125 54.390625 \nQ 18.3125 48.734375 21.84375 45.5625 \nQ 25.390625 42.390625 31.78125 42.390625 \nQ 38.140625 42.390625 41.71875 45.5625 \nQ 45.3125 48.734375 45.3125 54.390625 \nQ 45.3125 60.0625 41.71875 63.234375 \nQ 38.140625 66.40625 31.78125 66.40625 \nQ 25.390625 66.40625 21.84375 63.234375 \nQ 18.3125 60.0625 18.3125 54.390625 \nz\n\" id=\"DejaVuSans-56\"/>\n       </defs>\n       <use xlink:href=\"#DejaVuSans-56\"/>\n       <use x=\"63.623047\" xlink:href=\"#DejaVuSans-48\"/>\n      </g>\n     </g>\n    </g>\n    <g id=\"ytick_6\">\n     <g id=\"line2d_15\">\n      <g>\n       <use style=\"stroke:#000000;stroke-width:0.8;\" x=\"33.2875\" xlink:href=\"#m5d58a6bc4c\" y=\"33.348609\"/>\n      </g>\n     </g>\n     <g id=\"text_15\">\n      <!-- 100 -->\n      <g transform=\"translate(7.2 37.147828)scale(0.1 -0.1)\">\n       <use xlink:href=\"#DejaVuSans-49\"/>\n       <use x=\"63.623047\" xlink:href=\"#DejaVuSans-48\"/>\n       <use x=\"127.246094\" xlink:href=\"#DejaVuSans-48\"/>\n      </g>\n     </g>\n    </g>\n   </g>\n   <g id=\"patch_88\">\n    <path d=\"M 33.2875 413.710125 \nL 33.2875 22.318125 \n\" style=\"fill:none;stroke:#000000;stroke-linecap:square;stroke-linejoin:miter;stroke-width:0.8;\"/>\n   </g>\n   <g id=\"patch_89\">\n    <path d=\"M 568.9675 413.710125 \nL 568.9675 22.318125 \n\" style=\"fill:none;stroke:#000000;stroke-linecap:square;stroke-linejoin:miter;stroke-width:0.8;\"/>\n   </g>\n   <g id=\"patch_90\">\n    <path d=\"M 33.2875 413.710125 \nL 568.9675 413.710125 \n\" style=\"fill:none;stroke:#000000;stroke-linecap:square;stroke-linejoin:miter;stroke-width:0.8;\"/>\n   </g>\n   <g id=\"patch_91\">\n    <path d=\"M 33.2875 22.318125 \nL 568.9675 22.318125 \n\" style=\"fill:none;stroke:#000000;stroke-linecap:square;stroke-linejoin:miter;stroke-width:0.8;\"/>\n   </g>\n   <g id=\"text_16\">\n    <!-- sigbovik -->\n    <g transform=\"translate(276.353125 16.318125)scale(0.12 -0.12)\">\n     <defs>\n      <path d=\"M 44.28125 53.078125 \nL 44.28125 44.578125 \nQ 40.484375 46.53125 36.375 47.5 \nQ 32.28125 48.484375 27.875 48.484375 \nQ 21.1875 48.484375 17.84375 46.4375 \nQ 14.5 44.390625 14.5 40.28125 \nQ 14.5 37.15625 16.890625 35.375 \nQ 19.28125 33.59375 26.515625 31.984375 \nL 29.59375 31.296875 \nQ 39.15625 29.25 43.1875 25.515625 \nQ 47.21875 21.78125 47.21875 15.09375 \nQ 47.21875 7.46875 41.1875 3.015625 \nQ 35.15625 -1.421875 24.609375 -1.421875 \nQ 20.21875 -1.421875 15.453125 -0.5625 \nQ 10.6875 0.296875 5.421875 2 \nL 5.421875 11.28125 \nQ 10.40625 8.6875 15.234375 7.390625 \nQ 20.0625 6.109375 24.8125 6.109375 \nQ 31.15625 6.109375 34.5625 8.28125 \nQ 37.984375 10.453125 37.984375 14.40625 \nQ 37.984375 18.0625 35.515625 20.015625 \nQ 33.0625 21.96875 24.703125 23.78125 \nL 21.578125 24.515625 \nQ 13.234375 26.265625 9.515625 29.90625 \nQ 5.8125 33.546875 5.8125 39.890625 \nQ 5.8125 47.609375 11.28125 51.796875 \nQ 16.75 56 26.8125 56 \nQ 31.78125 56 36.171875 55.265625 \nQ 40.578125 54.546875 44.28125 53.078125 \nz\n\" id=\"DejaVuSans-115\"/>\n      <path d=\"M 9.421875 54.6875 \nL 18.40625 54.6875 \nL 18.40625 0 \nL 9.421875 0 \nz\nM 9.421875 75.984375 \nL 18.40625 75.984375 \nL 18.40625 64.59375 \nL 9.421875 64.59375 \nz\n\" id=\"DejaVuSans-105\"/>\n      <path d=\"M 45.40625 27.984375 \nQ 45.40625 37.75 41.375 43.109375 \nQ 37.359375 48.484375 30.078125 48.484375 \nQ 22.859375 48.484375 18.828125 43.109375 \nQ 14.796875 37.75 14.796875 27.984375 \nQ 14.796875 18.265625 18.828125 12.890625 \nQ 22.859375 7.515625 30.078125 7.515625 \nQ 37.359375 7.515625 41.375 12.890625 \nQ 45.40625 18.265625 45.40625 27.984375 \nz\nM 54.390625 6.78125 \nQ 54.390625 -7.171875 48.1875 -13.984375 \nQ 42 -20.796875 29.203125 -20.796875 \nQ 24.46875 -20.796875 20.265625 -20.09375 \nQ 16.0625 -19.390625 12.109375 -17.921875 \nL 12.109375 -9.1875 \nQ 16.0625 -11.328125 19.921875 -12.34375 \nQ 23.78125 -13.375 27.78125 -13.375 \nQ 36.625 -13.375 41.015625 -8.765625 \nQ 45.40625 -4.15625 45.40625 5.171875 \nL 45.40625 9.625 \nQ 42.625 4.78125 38.28125 2.390625 \nQ 33.9375 0 27.875 0 \nQ 17.828125 0 11.671875 7.65625 \nQ 5.515625 15.328125 5.515625 27.984375 \nQ 5.515625 40.671875 11.671875 48.328125 \nQ 17.828125 56 27.875 56 \nQ 33.9375 56 38.28125 53.609375 \nQ 42.625 51.21875 45.40625 46.390625 \nL 45.40625 54.6875 \nL 54.390625 54.6875 \nz\n\" id=\"DejaVuSans-103\"/>\n      <path d=\"M 48.6875 27.296875 \nQ 48.6875 37.203125 44.609375 42.84375 \nQ 40.53125 48.484375 33.40625 48.484375 \nQ 26.265625 48.484375 22.1875 42.84375 \nQ 18.109375 37.203125 18.109375 27.296875 \nQ 18.109375 17.390625 22.1875 11.75 \nQ 26.265625 6.109375 33.40625 6.109375 \nQ 40.53125 6.109375 44.609375 11.75 \nQ 48.6875 17.390625 48.6875 27.296875 \nz\nM 18.109375 46.390625 \nQ 20.953125 51.265625 25.265625 53.625 \nQ 29.59375 56 35.59375 56 \nQ 45.5625 56 51.78125 48.09375 \nQ 58.015625 40.1875 58.015625 27.296875 \nQ 58.015625 14.40625 51.78125 6.484375 \nQ 45.5625 -1.421875 35.59375 -1.421875 \nQ 29.59375 -1.421875 25.265625 0.953125 \nQ 20.953125 3.328125 18.109375 8.203125 \nL 18.109375 0 \nL 9.078125 0 \nL 9.078125 75.984375 \nL 18.109375 75.984375 \nz\n\" id=\"DejaVuSans-98\"/>\n      <path d=\"M 30.609375 48.390625 \nQ 23.390625 48.390625 19.1875 42.75 \nQ 14.984375 37.109375 14.984375 27.296875 \nQ 14.984375 17.484375 19.15625 11.84375 \nQ 23.34375 6.203125 30.609375 6.203125 \nQ 37.796875 6.203125 41.984375 11.859375 \nQ 46.1875 17.53125 46.1875 27.296875 \nQ 46.1875 37.015625 41.984375 42.703125 \nQ 37.796875 48.390625 30.609375 48.390625 \nz\nM 30.609375 56 \nQ 42.328125 56 49.015625 48.375 \nQ 55.71875 40.765625 55.71875 27.296875 \nQ 55.71875 13.875 49.015625 6.21875 \nQ 42.328125 -1.421875 30.609375 -1.421875 \nQ 18.84375 -1.421875 12.171875 6.21875 \nQ 5.515625 13.875 5.515625 27.296875 \nQ 5.515625 40.765625 12.171875 48.375 \nQ 18.84375 56 30.609375 56 \nz\n\" id=\"DejaVuSans-111\"/>\n      <path d=\"M 2.984375 54.6875 \nL 12.5 54.6875 \nL 29.59375 8.796875 \nL 46.6875 54.6875 \nL 56.203125 54.6875 \nL 35.6875 0 \nL 23.484375 0 \nz\n\" id=\"DejaVuSans-118\"/>\n      <path d=\"M 9.078125 75.984375 \nL 18.109375 75.984375 \nL 18.109375 31.109375 \nL 44.921875 54.6875 \nL 56.390625 54.6875 \nL 27.390625 29.109375 \nL 57.625 0 \nL 45.90625 0 \nL 18.109375 26.703125 \nL 18.109375 0 \nL 9.078125 0 \nz\n\" id=\"DejaVuSans-107\"/>\n     </defs>\n     <use xlink:href=\"#DejaVuSans-115\"/>\n     <use x=\"52.099609\" xlink:href=\"#DejaVuSans-105\"/>\n     <use x=\"79.882812\" xlink:href=\"#DejaVuSans-103\"/>\n     <use x=\"143.359375\" xlink:href=\"#DejaVuSans-98\"/>\n     <use x=\"206.835938\" xlink:href=\"#DejaVuSans-111\"/>\n     <use x=\"268.017578\" xlink:href=\"#DejaVuSans-118\"/>\n     <use x=\"327.197266\" xlink:href=\"#DejaVuSans-105\"/>\n     <use x=\"354.980469\" xlink:href=\"#DejaVuSans-107\"/>\n    </g>\n   </g>\n  </g>\n </g>\n <defs>\n  <clipPath id=\"pb1952405da\">\n   <rect height=\"391.392\" width=\"535.68\" x=\"33.2875\" y=\"22.318125\"/>\n  </clipPath>\n </defs>\n</svg>\n",
      "image/png": "[encoded data removed]"
     },
     "metadata": {
      "needs_background": "light"
     }
    },
    {
     "output_type": "display_data",
     "data": {
      "text/plain": "<Figure size 691.2x518.4 with 1 Axes>",
      "image/svg+xml": "<?xml version=\"1.0\" encoding=\"utf-8\" standalone=\"no\"?>\n<!DOCTYPE svg PUBLIC \"-//W3C//DTD SVG 1.1//EN\"\n  \"http://www.w3.org/Graphics/SVG/1.1/DTD/svg11.dtd\">\n<!-- Created with matplotlib (https://matplotlib.org/) -->\n<svg height=\"437.58825pt\" version=\"1.1\" viewBox=\"0 0 576.1675 437.58825\" width=\"576.1675pt\" xmlns=\"http://www.w3.org/2000/svg\" xmlns:xlink=\"http://www.w3.org/1999/xlink\">\n <metadata>\n  <rdf:RDF xmlns:cc=\"http://creativecommons.org/ns#\" xmlns:dc=\"http://purl.org/dc/elements/1.1/\" xmlns:rdf=\"http://www.w3.org/1999/02/22-rdf-syntax-ns#\">\n   <cc:Work>\n    <dc:type rdf:resource=\"http://purl.org/dc/dcmitype/StillImage\"/>\n    <dc:date>2020-10-27T15:16:05.500326</dc:date>\n    <dc:format>image/svg+xml</dc:format>\n    <dc:creator>\n     <cc:Agent>\n      <dc:title>Matplotlib v3.3.2, https://matplotlib.org/</dc:title>\n     </cc:Agent>\n    </dc:creator>\n   </cc:Work>\n  </rdf:RDF>\n </metadata>\n <defs>\n  <style type=\"text/css\">*{stroke-linecap:butt;stroke-linejoin:round;}</style>\n </defs>\n <g id=\"figure_1\">\n  <g id=\"patch_1\">\n   <path d=\"M -0 437.58825 \nL 576.1675 437.58825 \nL 576.1675 0 \nL -0 0 \nz\n\" style=\"fill:none;\"/>\n  </g>\n  <g id=\"axes_1\">\n   <g id=\"patch_2\">\n    <path d=\"M 33.2875 413.710125 \nL 568.9675 413.710125 \nL 568.9675 22.318125 \nL 33.2875 22.318125 \nz\n\" style=\"fill:#ffffff;\"/>\n   </g>\n   <g id=\"patch_3\">\n    <path clip-path=\"url(#paf8cfbd572)\" d=\"M 103.636133 413.710125 \nL 106.089442 413.710125 \nL 106.089442 333.689504 \nL 103.636133 333.689504 \nz\n\" style=\"fill:#1f77b4;\"/>\n   </g>\n   <g id=\"patch_4\">\n    <path clip-path=\"url(#paf8cfbd572)\" d=\"M 63.769863 413.710125 \nL 66.223172 413.710125 \nL 66.223172 109.834349 \nL 63.769863 109.834349 \nz\n\" style=\"fill:#1f77b4;\"/>\n   </g>\n   <g id=\"patch_5\">\n    <path clip-path=\"url(#paf8cfbd572)\" d=\"M 79.103044 413.710125 \nL 81.556353 413.710125 \nL 81.556353 183.777454 \nL 79.103044 183.777454 \nz\n\" style=\"fill:#1f77b4;\"/>\n   </g>\n   <g id=\"patch_6\">\n    <path clip-path=\"url(#paf8cfbd572)\" d=\"M 128.169222 413.710125 \nL 130.622531 413.710125 \nL 130.622531 380.28379 \nL 128.169222 380.28379 \nz\n\" style=\"fill:#1f77b4;\"/>\n   </g>\n   <g id=\"patch_7\">\n    <path clip-path=\"url(#paf8cfbd572)\" d=\"M 57.636591 413.710125 \nL 60.0899 413.710125 \nL 60.0899 311.40528 \nL 57.636591 311.40528 \nz\n\" style=\"fill:#1f77b4;\"/>\n   </g>\n   <g id=\"patch_8\">\n    <path clip-path=\"url(#paf8cfbd572)\" d=\"M 66.836499 413.710125 \nL 69.289808 413.710125 \nL 69.289808 79.446771 \nL 66.836499 79.446771 \nz\n\" style=\"fill:#1f77b4;\"/>\n   </g>\n   <g id=\"patch_9\">\n    <path clip-path=\"url(#paf8cfbd572)\" d=\"M 112.836041 413.710125 \nL 115.28935 413.710125 \nL 115.28935 349.896212 \nL 112.836041 349.896212 \nz\n\" style=\"fill:#1f77b4;\"/>\n   </g>\n   <g id=\"patch_10\">\n    <path clip-path=\"url(#paf8cfbd572)\" d=\"M 94.436225 413.710125 \nL 96.889533 413.710125 \nL 96.889533 313.431119 \nL 94.436225 313.431119 \nz\n\" style=\"fill:#1f77b4;\"/>\n   </g>\n   <g id=\"patch_11\">\n    <path clip-path=\"url(#paf8cfbd572)\" d=\"M 106.702769 413.710125 \nL 109.156078 413.710125 \nL 109.156078 327.611988 \nL 106.702769 327.611988 \nz\n\" style=\"fill:#1f77b4;\"/>\n   </g>\n   <g id=\"patch_12\">\n    <path clip-path=\"url(#paf8cfbd572)\" d=\"M 85.236316 413.710125 \nL 87.689625 413.710125 \nL 87.689625 270.88851 \nL 85.236316 270.88851 \nz\n\" style=\"fill:#1f77b4;\"/>\n   </g>\n   <g id=\"patch_13\">\n    <path clip-path=\"url(#paf8cfbd572)\" d=\"M 115.902677 413.710125 \nL 118.355986 413.710125 \nL 118.355986 384.335467 \nL 115.902677 384.335467 \nz\n\" style=\"fill:#1f77b4;\"/>\n   </g>\n   <g id=\"patch_14\">\n    <path clip-path=\"url(#paf8cfbd572)\" d=\"M 60.703227 413.710125 \nL 63.156536 413.710125 \nL 63.156536 40.955839 \nL 60.703227 40.955839 \nz\n\" style=\"fill:#1f77b4;\"/>\n   </g>\n   <g id=\"patch_15\">\n    <path clip-path=\"url(#paf8cfbd572)\" d=\"M 122.03595 413.710125 \nL 124.489259 413.710125 \nL 124.489259 365.090001 \nL 122.03595 365.090001 \nz\n\" style=\"fill:#1f77b4;\"/>\n   </g>\n   <g id=\"patch_16\">\n    <path clip-path=\"url(#paf8cfbd572)\" d=\"M 100.569497 413.710125 \nL 103.022806 413.710125 \nL 103.022806 326.599069 \nL 100.569497 326.599069 \nz\n\" style=\"fill:#1f77b4;\"/>\n   </g>\n   <g id=\"patch_17\">\n    <path clip-path=\"url(#paf8cfbd572)\" d=\"M 118.969314 413.710125 \nL 121.422623 413.710125 \nL 121.422623 371.167516 \nL 118.969314 371.167516 \nz\n\" style=\"fill:#1f77b4;\"/>\n   </g>\n   <g id=\"patch_18\">\n    <path clip-path=\"url(#paf8cfbd572)\" d=\"M 149.635675 413.710125 \nL 152.088984 413.710125 \nL 152.088984 403.580932 \nL 149.635675 403.580932 \nz\n\" style=\"fill:#1f77b4;\"/>\n   </g>\n   <g id=\"patch_19\">\n    <path clip-path=\"url(#paf8cfbd572)\" d=\"M 72.969772 413.710125 \nL 75.42308 413.710125 \nL 75.42308 170.609504 \nL 72.969772 170.609504 \nz\n\" style=\"fill:#1f77b4;\"/>\n   </g>\n   <g id=\"patch_20\">\n    <path clip-path=\"url(#paf8cfbd572)\" d=\"M 137.36913 413.710125 \nL 139.822439 413.710125 \nL 139.822439 393.45174 \nL 137.36913 393.45174 \nz\n\" style=\"fill:#1f77b4;\"/>\n   </g>\n   <g id=\"patch_21\">\n    <path clip-path=\"url(#paf8cfbd572)\" d=\"M 131.235858 413.710125 \nL 133.689167 413.710125 \nL 133.689167 391.425901 \nL 131.235858 391.425901 \nz\n\" style=\"fill:#1f77b4;\"/>\n   </g>\n   <g id=\"patch_22\">\n    <path clip-path=\"url(#paf8cfbd572)\" d=\"M 91.369588 413.710125 \nL 93.822897 413.710125 \nL 93.822897 294.185653 \nL 91.369588 294.185653 \nz\n\" style=\"fill:#1f77b4;\"/>\n   </g>\n   <g id=\"patch_23\">\n    <path clip-path=\"url(#paf8cfbd572)\" d=\"M 69.903135 413.710125 \nL 72.356444 413.710125 \nL 72.356444 118.950622 \nL 69.903135 118.950622 \nz\n\" style=\"fill:#1f77b4;\"/>\n   </g>\n   <g id=\"patch_24\">\n    <path clip-path=\"url(#paf8cfbd572)\" d=\"M 76.036408 413.710125 \nL 78.489717 413.710125 \nL 78.489717 234.423417 \nL 76.036408 234.423417 \nz\n\" style=\"fill:#1f77b4;\"/>\n   </g>\n   <g id=\"patch_25\">\n    <path clip-path=\"url(#paf8cfbd572)\" d=\"M 97.502861 413.710125 \nL 99.95617 413.710125 \nL 99.95617 287.095218 \nL 97.502861 287.095218 \nz\n\" style=\"fill:#1f77b4;\"/>\n   </g>\n   <g id=\"patch_26\">\n    <path clip-path=\"url(#paf8cfbd572)\" d=\"M 88.302952 413.710125 \nL 90.756261 413.710125 \nL 90.756261 262.785156 \nL 88.302952 262.785156 \nz\n\" style=\"fill:#1f77b4;\"/>\n   </g>\n   <g id=\"patch_27\">\n    <path clip-path=\"url(#paf8cfbd572)\" d=\"M 82.16968 413.710125 \nL 84.622989 413.710125 \nL 84.622989 212.139193 \nL 82.16968 212.139193 \nz\n\" style=\"fill:#1f77b4;\"/>\n   </g>\n   <g id=\"patch_28\">\n    <path clip-path=\"url(#paf8cfbd572)\" d=\"M 109.769405 413.710125 \nL 112.222714 413.710125 \nL 112.222714 355.973727 \nL 109.769405 355.973727 \nz\n\" style=\"fill:#1f77b4;\"/>\n   </g>\n   <g id=\"patch_29\">\n    <path clip-path=\"url(#paf8cfbd572)\" d=\"M 146.569039 413.710125 \nL 149.022348 413.710125 \nL 149.022348 401.555094 \nL 146.569039 401.555094 \nz\n\" style=\"fill:#1f77b4;\"/>\n   </g>\n   <g id=\"patch_30\">\n    <path clip-path=\"url(#paf8cfbd572)\" d=\"M 125.102586 413.710125 \nL 127.555895 413.710125 \nL 127.555895 374.206274 \nL 125.102586 374.206274 \nz\n\" style=\"fill:#1f77b4;\"/>\n   </g>\n   <g id=\"patch_31\">\n    <path clip-path=\"url(#paf8cfbd572)\" d=\"M 253.901304 413.710125 \nL 256.354612 413.710125 \nL 256.354612 412.697206 \nL 253.901304 412.697206 \nz\n\" style=\"fill:#1f77b4;\"/>\n   </g>\n   <g id=\"patch_32\">\n    <path clip-path=\"url(#paf8cfbd572)\" d=\"M 210.968398 413.710125 \nL 213.421707 413.710125 \nL 213.421707 411.684286 \nL 210.968398 411.684286 \nz\n\" style=\"fill:#1f77b4;\"/>\n   </g>\n   <g id=\"patch_33\">\n    <path clip-path=\"url(#paf8cfbd572)\" d=\"M 134.302494 413.710125 \nL 136.755803 413.710125 \nL 136.755803 394.464659 \nL 134.302494 394.464659 \nz\n\" style=\"fill:#1f77b4;\"/>\n   </g>\n   <g id=\"patch_34\">\n    <path clip-path=\"url(#paf8cfbd572)\" d=\"M 164.968856 413.710125 \nL 167.422165 413.710125 \nL 167.422165 403.580932 \nL 164.968856 403.580932 \nz\n\" style=\"fill:#1f77b4;\"/>\n   </g>\n   <g id=\"patch_35\">\n    <path clip-path=\"url(#paf8cfbd572)\" d=\"M 158.835583 413.710125 \nL 161.288892 413.710125 \nL 161.288892 405.606771 \nL 158.835583 405.606771 \nz\n\" style=\"fill:#1f77b4;\"/>\n   </g>\n   <g id=\"patch_36\">\n    <path clip-path=\"url(#paf8cfbd572)\" d=\"M 189.501945 413.710125 \nL 191.955254 413.710125 \nL 191.955254 409.658448 \nL 189.501945 409.658448 \nz\n\" style=\"fill:#1f77b4;\"/>\n   </g>\n   <g id=\"patch_37\">\n    <path clip-path=\"url(#paf8cfbd572)\" d=\"M 152.702311 413.710125 \nL 155.15562 413.710125 \nL 155.15562 399.529255 \nL 152.702311 399.529255 \nz\n\" style=\"fill:#1f77b4;\"/>\n   </g>\n   <g id=\"patch_38\">\n    <path clip-path=\"url(#paf8cfbd572)\" d=\"M 174.168764 413.710125 \nL 176.622073 413.710125 \nL 176.622073 408.645529 \nL 174.168764 408.645529 \nz\n\" style=\"fill:#1f77b4;\"/>\n   </g>\n   <g id=\"patch_39\">\n    <path clip-path=\"url(#paf8cfbd572)\" d=\"M 155.768947 413.710125 \nL 158.222256 413.710125 \nL 158.222256 403.580932 \nL 155.768947 403.580932 \nz\n\" style=\"fill:#1f77b4;\"/>\n   </g>\n   <g id=\"patch_40\">\n    <path clip-path=\"url(#paf8cfbd572)\" d=\"M 140.435767 413.710125 \nL 142.889075 413.710125 \nL 142.889075 394.464659 \nL 140.435767 394.464659 \nz\n\" style=\"fill:#1f77b4;\"/>\n   </g>\n   <g id=\"patch_41\">\n    <path clip-path=\"url(#paf8cfbd572)\" d=\"M 161.902219 413.710125 \nL 164.355528 413.710125 \nL 164.355528 404.593852 \nL 161.902219 404.593852 \nz\n\" style=\"fill:#1f77b4;\"/>\n   </g>\n   <g id=\"patch_42\">\n    <path clip-path=\"url(#paf8cfbd572)\" d=\"M 204.835125 413.710125 \nL 207.288434 413.710125 \nL 207.288434 409.658448 \nL 204.835125 409.658448 \nz\n\" style=\"fill:#1f77b4;\"/>\n   </g>\n   <g id=\"patch_43\">\n    <path clip-path=\"url(#paf8cfbd572)\" d=\"M 195.635217 413.710125 \nL 198.088526 413.710125 \nL 198.088526 407.632609 \nL 195.635217 407.632609 \nz\n\" style=\"fill:#1f77b4;\"/>\n   </g>\n   <g id=\"patch_44\">\n    <path clip-path=\"url(#paf8cfbd572)\" d=\"M 143.502403 413.710125 \nL 145.955712 413.710125 \nL 145.955712 396.490498 \nL 143.502403 396.490498 \nz\n\" style=\"fill:#1f77b4;\"/>\n   </g>\n   <g id=\"patch_45\">\n    <path clip-path=\"url(#paf8cfbd572)\" d=\"M 168.035492 413.710125 \nL 170.488801 413.710125 \nL 170.488801 411.684286 \nL 168.035492 411.684286 \nz\n\" style=\"fill:#1f77b4;\"/>\n   </g>\n   <g id=\"patch_46\">\n    <path clip-path=\"url(#paf8cfbd572)\" d=\"M 183.368672 413.710125 \nL 185.821981 413.710125 \nL 185.821981 408.645529 \nL 183.368672 408.645529 \nz\n\" style=\"fill:#1f77b4;\"/>\n   </g>\n   <g id=\"patch_47\">\n    <path clip-path=\"url(#paf8cfbd572)\" d=\"M 180.302036 413.710125 \nL 182.755345 413.710125 \nL 182.755345 410.671367 \nL 180.302036 410.671367 \nz\n\" style=\"fill:#1f77b4;\"/>\n   </g>\n   <g id=\"patch_48\">\n    <path clip-path=\"url(#paf8cfbd572)\" d=\"M 171.102128 413.710125 \nL 173.555437 413.710125 \nL 173.555437 412.697206 \nL 171.102128 412.697206 \nz\n\" style=\"fill:#1f77b4;\"/>\n   </g>\n   <g id=\"patch_49\">\n    <path clip-path=\"url(#paf8cfbd572)\" d=\"M 214.035034 413.710125 \nL 216.488343 413.710125 \nL 216.488343 411.684286 \nL 214.035034 411.684286 \nz\n\" style=\"fill:#1f77b4;\"/>\n   </g>\n   <g id=\"patch_50\">\n    <path clip-path=\"url(#paf8cfbd572)\" d=\"M 192.568581 413.710125 \nL 195.02189 413.710125 \nL 195.02189 409.658448 \nL 192.568581 409.658448 \nz\n\" style=\"fill:#1f77b4;\"/>\n   </g>\n   <g id=\"patch_51\">\n    <path clip-path=\"url(#paf8cfbd572)\" d=\"M 232.434851 413.710125 \nL 234.888159 413.710125 \nL 234.888159 412.697206 \nL 232.434851 412.697206 \nz\n\" style=\"fill:#1f77b4;\"/>\n   </g>\n   <g id=\"patch_52\">\n    <path clip-path=\"url(#paf8cfbd572)\" d=\"M 266.167848 413.710125 \nL 268.621157 413.710125 \nL 268.621157 411.684286 \nL 266.167848 411.684286 \nz\n\" style=\"fill:#1f77b4;\"/>\n   </g>\n   <g id=\"patch_53\">\n    <path clip-path=\"url(#paf8cfbd572)\" d=\"M 186.435309 413.710125 \nL 188.888617 413.710125 \nL 188.888617 411.684286 \nL 186.435309 411.684286 \nz\n\" style=\"fill:#1f77b4;\"/>\n   </g>\n   <g id=\"patch_54\">\n    <path clip-path=\"url(#paf8cfbd572)\" d=\"M 229.368214 413.710125 \nL 231.821523 413.710125 \nL 231.821523 411.684286 \nL 229.368214 411.684286 \nz\n\" style=\"fill:#1f77b4;\"/>\n   </g>\n   <g id=\"patch_55\">\n    <path clip-path=\"url(#paf8cfbd572)\" d=\"M 223.234942 413.710125 \nL 225.688251 413.710125 \nL 225.688251 412.697206 \nL 223.234942 412.697206 \nz\n\" style=\"fill:#1f77b4;\"/>\n   </g>\n   <g id=\"patch_56\">\n    <path clip-path=\"url(#paf8cfbd572)\" d=\"M 235.501487 413.710125 \nL 237.954796 413.710125 \nL 237.954796 412.697206 \nL 235.501487 412.697206 \nz\n\" style=\"fill:#1f77b4;\"/>\n   </g>\n   <g id=\"patch_57\">\n    <path clip-path=\"url(#paf8cfbd572)\" d=\"M 198.701853 413.710125 \nL 201.155162 413.710125 \nL 201.155162 412.697206 \nL 198.701853 412.697206 \nz\n\" style=\"fill:#1f77b4;\"/>\n   </g>\n   <g id=\"patch_58\">\n    <path clip-path=\"url(#paf8cfbd572)\" d=\"M 542.1651 413.710125 \nL 544.618409 413.710125 \nL 544.618409 412.697206 \nL 542.1651 412.697206 \nz\n\" style=\"fill:#1f77b4;\"/>\n   </g>\n   <g id=\"patch_59\">\n    <path clip-path=\"url(#paf8cfbd572)\" d=\"M 177.2354 413.710125 \nL 179.688709 413.710125 \nL 179.688709 411.684286 \nL 177.2354 411.684286 \nz\n\" style=\"fill:#1f77b4;\"/>\n   </g>\n   <g id=\"patch_60\">\n    <path clip-path=\"url(#paf8cfbd572)\" d=\"M 269.234484 413.710125 \nL 271.687793 413.710125 \nL 271.687793 412.697206 \nL 269.234484 412.697206 \nz\n\" style=\"fill:#1f77b4;\"/>\n   </g>\n   <g id=\"patch_61\">\n    <path clip-path=\"url(#paf8cfbd572)\" d=\"M 207.901762 413.710125 \nL 210.35507 413.710125 \nL 210.35507 412.697206 \nL 207.901762 412.697206 \nz\n\" style=\"fill:#1f77b4;\"/>\n   </g>\n   <g id=\"patch_62\">\n    <path clip-path=\"url(#paf8cfbd572)\" d=\"M 226.301578 413.710125 \nL 228.754887 413.710125 \nL 228.754887 412.697206 \nL 226.301578 412.697206 \nz\n\" style=\"fill:#1f77b4;\"/>\n   </g>\n   <g id=\"patch_63\">\n    <path clip-path=\"url(#paf8cfbd572)\" d=\"M 217.10167 413.710125 \nL 219.554979 413.710125 \nL 219.554979 412.697206 \nL 217.10167 412.697206 \nz\n\" style=\"fill:#1f77b4;\"/>\n   </g>\n   <g id=\"matplotlib.axis_1\">\n    <g id=\"xtick_1\">\n     <g id=\"line2d_1\">\n      <defs>\n       <path d=\"M 0 0 \nL 0 3.5 \n\" id=\"m3424a9946f\" style=\"stroke:#000000;stroke-width:0.8;\"/>\n      </defs>\n      <g>\n       <use style=\"stroke:#000000;stroke-width:0.8;\" x=\"55.796609\" xlink:href=\"#m3424a9946f\" y=\"413.710125\"/>\n      </g>\n     </g>\n     <g id=\"text_1\">\n      <!-- 0 -->\n      <g transform=\"translate(52.615359 428.308562)scale(0.1 -0.1)\">\n       <defs>\n        <path d=\"M 31.78125 66.40625 \nQ 24.171875 66.40625 20.328125 58.90625 \nQ 16.5 51.421875 16.5 36.375 \nQ 16.5 21.390625 20.328125 13.890625 \nQ 24.171875 6.390625 31.78125 6.390625 \nQ 39.453125 6.390625 43.28125 13.890625 \nQ 47.125 21.390625 47.125 36.375 \nQ 47.125 51.421875 43.28125 58.90625 \nQ 39.453125 66.40625 31.78125 66.40625 \nz\nM 31.78125 74.21875 \nQ 44.046875 74.21875 50.515625 64.515625 \nQ 56.984375 54.828125 56.984375 36.375 \nQ 56.984375 17.96875 50.515625 8.265625 \nQ 44.046875 -1.421875 31.78125 -1.421875 \nQ 19.53125 -1.421875 13.0625 8.265625 \nQ 6.59375 17.96875 6.59375 36.375 \nQ 6.59375 54.828125 13.0625 64.515625 \nQ 19.53125 74.21875 31.78125 74.21875 \nz\n\" id=\"DejaVuSans-48\"/>\n       </defs>\n       <use xlink:href=\"#DejaVuSans-48\"/>\n      </g>\n     </g>\n    </g>\n    <g id=\"xtick_2\">\n     <g id=\"line2d_2\">\n      <g>\n       <use style=\"stroke:#000000;stroke-width:0.8;\" x=\"117.129332\" xlink:href=\"#m3424a9946f\" y=\"413.710125\"/>\n      </g>\n     </g>\n     <g id=\"text_2\">\n      <!-- 20 -->\n      <g transform=\"translate(110.766832 428.308562)scale(0.1 -0.1)\">\n       <defs>\n        <path d=\"M 19.1875 8.296875 \nL 53.609375 8.296875 \nL 53.609375 0 \nL 7.328125 0 \nL 7.328125 8.296875 \nQ 12.9375 14.109375 22.625 23.890625 \nQ 32.328125 33.6875 34.8125 36.53125 \nQ 39.546875 41.84375 41.421875 45.53125 \nQ 43.3125 49.21875 43.3125 52.78125 \nQ 43.3125 58.59375 39.234375 62.25 \nQ 35.15625 65.921875 28.609375 65.921875 \nQ 23.96875 65.921875 18.8125 64.3125 \nQ 13.671875 62.703125 7.8125 59.421875 \nL 7.8125 69.390625 \nQ 13.765625 71.78125 18.9375 73 \nQ 24.125 74.21875 28.421875 74.21875 \nQ 39.75 74.21875 46.484375 68.546875 \nQ 53.21875 62.890625 53.21875 53.421875 \nQ 53.21875 48.921875 51.53125 44.890625 \nQ 49.859375 40.875 45.40625 35.40625 \nQ 44.1875 33.984375 37.640625 27.21875 \nQ 31.109375 20.453125 19.1875 8.296875 \nz\n\" id=\"DejaVuSans-50\"/>\n       </defs>\n       <use xlink:href=\"#DejaVuSans-50\"/>\n       <use x=\"63.623047\" xlink:href=\"#DejaVuSans-48\"/>\n      </g>\n     </g>\n    </g>\n    <g id=\"xtick_3\">\n     <g id=\"line2d_3\">\n      <g>\n       <use style=\"stroke:#000000;stroke-width:0.8;\" x=\"178.462055\" xlink:href=\"#m3424a9946f\" y=\"413.710125\"/>\n      </g>\n     </g>\n     <g id=\"text_3\">\n      <!-- 40 -->\n      <g transform=\"translate(172.099555 428.308562)scale(0.1 -0.1)\">\n       <defs>\n        <path d=\"M 37.796875 64.3125 \nL 12.890625 25.390625 \nL 37.796875 25.390625 \nz\nM 35.203125 72.90625 \nL 47.609375 72.90625 \nL 47.609375 25.390625 \nL 58.015625 25.390625 \nL 58.015625 17.1875 \nL 47.609375 17.1875 \nL 47.609375 0 \nL 37.796875 0 \nL 37.796875 17.1875 \nL 4.890625 17.1875 \nL 4.890625 26.703125 \nz\n\" id=\"DejaVuSans-52\"/>\n       </defs>\n       <use xlink:href=\"#DejaVuSans-52\"/>\n       <use x=\"63.623047\" xlink:href=\"#DejaVuSans-48\"/>\n      </g>\n     </g>\n    </g>\n    <g id=\"xtick_4\">\n     <g id=\"line2d_4\">\n      <g>\n       <use style=\"stroke:#000000;stroke-width:0.8;\" x=\"239.794777\" xlink:href=\"#m3424a9946f\" y=\"413.710125\"/>\n      </g>\n     </g>\n     <g id=\"text_4\">\n      <!-- 60 -->\n      <g transform=\"translate(233.432277 428.308562)scale(0.1 -0.1)\">\n       <defs>\n        <path d=\"M 33.015625 40.375 \nQ 26.375 40.375 22.484375 35.828125 \nQ 18.609375 31.296875 18.609375 23.390625 \nQ 18.609375 15.53125 22.484375 10.953125 \nQ 26.375 6.390625 33.015625 6.390625 \nQ 39.65625 6.390625 43.53125 10.953125 \nQ 47.40625 15.53125 47.40625 23.390625 \nQ 47.40625 31.296875 43.53125 35.828125 \nQ 39.65625 40.375 33.015625 40.375 \nz\nM 52.59375 71.296875 \nL 52.59375 62.3125 \nQ 48.875 64.0625 45.09375 64.984375 \nQ 41.3125 65.921875 37.59375 65.921875 \nQ 27.828125 65.921875 22.671875 59.328125 \nQ 17.53125 52.734375 16.796875 39.40625 \nQ 19.671875 43.65625 24.015625 45.921875 \nQ 28.375 48.1875 33.59375 48.1875 \nQ 44.578125 48.1875 50.953125 41.515625 \nQ 57.328125 34.859375 57.328125 23.390625 \nQ 57.328125 12.15625 50.6875 5.359375 \nQ 44.046875 -1.421875 33.015625 -1.421875 \nQ 20.359375 -1.421875 13.671875 8.265625 \nQ 6.984375 17.96875 6.984375 36.375 \nQ 6.984375 53.65625 15.1875 63.9375 \nQ 23.390625 74.21875 37.203125 74.21875 \nQ 40.921875 74.21875 44.703125 73.484375 \nQ 48.484375 72.75 52.59375 71.296875 \nz\n\" id=\"DejaVuSans-54\"/>\n       </defs>\n       <use xlink:href=\"#DejaVuSans-54\"/>\n       <use x=\"63.623047\" xlink:href=\"#DejaVuSans-48\"/>\n      </g>\n     </g>\n    </g>\n    <g id=\"xtick_5\">\n     <g id=\"line2d_5\">\n      <g>\n       <use style=\"stroke:#000000;stroke-width:0.8;\" x=\"301.1275\" xlink:href=\"#m3424a9946f\" y=\"413.710125\"/>\n      </g>\n     </g>\n     <g id=\"text_5\">\n      <!-- 80 -->\n      <g transform=\"translate(294.765 428.308562)scale(0.1 -0.1)\">\n       <defs>\n        <path d=\"M 31.78125 34.625 \nQ 24.75 34.625 20.71875 30.859375 \nQ 16.703125 27.09375 16.703125 20.515625 \nQ 16.703125 13.921875 20.71875 10.15625 \nQ 24.75 6.390625 31.78125 6.390625 \nQ 38.8125 6.390625 42.859375 10.171875 \nQ 46.921875 13.96875 46.921875 20.515625 \nQ 46.921875 27.09375 42.890625 30.859375 \nQ 38.875 34.625 31.78125 34.625 \nz\nM 21.921875 38.8125 \nQ 15.578125 40.375 12.03125 44.71875 \nQ 8.5 49.078125 8.5 55.328125 \nQ 8.5 64.0625 14.71875 69.140625 \nQ 20.953125 74.21875 31.78125 74.21875 \nQ 42.671875 74.21875 48.875 69.140625 \nQ 55.078125 64.0625 55.078125 55.328125 \nQ 55.078125 49.078125 51.53125 44.71875 \nQ 48 40.375 41.703125 38.8125 \nQ 48.828125 37.15625 52.796875 32.3125 \nQ 56.78125 27.484375 56.78125 20.515625 \nQ 56.78125 9.90625 50.3125 4.234375 \nQ 43.84375 -1.421875 31.78125 -1.421875 \nQ 19.734375 -1.421875 13.25 4.234375 \nQ 6.78125 9.90625 6.78125 20.515625 \nQ 6.78125 27.484375 10.78125 32.3125 \nQ 14.796875 37.15625 21.921875 38.8125 \nz\nM 18.3125 54.390625 \nQ 18.3125 48.734375 21.84375 45.5625 \nQ 25.390625 42.390625 31.78125 42.390625 \nQ 38.140625 42.390625 41.71875 45.5625 \nQ 45.3125 48.734375 45.3125 54.390625 \nQ 45.3125 60.0625 41.71875 63.234375 \nQ 38.140625 66.40625 31.78125 66.40625 \nQ 25.390625 66.40625 21.84375 63.234375 \nQ 18.3125 60.0625 18.3125 54.390625 \nz\n\" id=\"DejaVuSans-56\"/>\n       </defs>\n       <use xlink:href=\"#DejaVuSans-56\"/>\n       <use x=\"63.623047\" xlink:href=\"#DejaVuSans-48\"/>\n      </g>\n     </g>\n    </g>\n    <g id=\"xtick_6\">\n     <g id=\"line2d_6\">\n      <g>\n       <use style=\"stroke:#000000;stroke-width:0.8;\" x=\"362.460223\" xlink:href=\"#m3424a9946f\" y=\"413.710125\"/>\n      </g>\n     </g>\n     <g id=\"text_6\">\n      <!-- 100 -->\n      <g transform=\"translate(352.916473 428.308562)scale(0.1 -0.1)\">\n       <defs>\n        <path d=\"M 12.40625 8.296875 \nL 28.515625 8.296875 \nL 28.515625 63.921875 \nL 10.984375 60.40625 \nL 10.984375 69.390625 \nL 28.421875 72.90625 \nL 38.28125 72.90625 \nL 38.28125 8.296875 \nL 54.390625 8.296875 \nL 54.390625 0 \nL 12.40625 0 \nz\n\" id=\"DejaVuSans-49\"/>\n       </defs>\n       <use xlink:href=\"#DejaVuSans-49\"/>\n       <use x=\"63.623047\" xlink:href=\"#DejaVuSans-48\"/>\n       <use x=\"127.246094\" xlink:href=\"#DejaVuSans-48\"/>\n      </g>\n     </g>\n    </g>\n    <g id=\"xtick_7\">\n     <g id=\"line2d_7\">\n      <g>\n       <use style=\"stroke:#000000;stroke-width:0.8;\" x=\"423.792945\" xlink:href=\"#m3424a9946f\" y=\"413.710125\"/>\n      </g>\n     </g>\n     <g id=\"text_7\">\n      <!-- 120 -->\n      <g transform=\"translate(414.249195 428.308562)scale(0.1 -0.1)\">\n       <use xlink:href=\"#DejaVuSans-49\"/>\n       <use x=\"63.623047\" xlink:href=\"#DejaVuSans-50\"/>\n       <use x=\"127.246094\" xlink:href=\"#DejaVuSans-48\"/>\n      </g>\n     </g>\n    </g>\n    <g id=\"xtick_8\">\n     <g id=\"line2d_8\">\n      <g>\n       <use style=\"stroke:#000000;stroke-width:0.8;\" x=\"485.125668\" xlink:href=\"#m3424a9946f\" y=\"413.710125\"/>\n      </g>\n     </g>\n     <g id=\"text_8\">\n      <!-- 140 -->\n      <g transform=\"translate(475.581918 428.308562)scale(0.1 -0.1)\">\n       <use xlink:href=\"#DejaVuSans-49\"/>\n       <use x=\"63.623047\" xlink:href=\"#DejaVuSans-52\"/>\n       <use x=\"127.246094\" xlink:href=\"#DejaVuSans-48\"/>\n      </g>\n     </g>\n    </g>\n    <g id=\"xtick_9\">\n     <g id=\"line2d_9\">\n      <g>\n       <use style=\"stroke:#000000;stroke-width:0.8;\" x=\"546.458391\" xlink:href=\"#m3424a9946f\" y=\"413.710125\"/>\n      </g>\n     </g>\n     <g id=\"text_9\">\n      <!-- 160 -->\n      <g transform=\"translate(536.914641 428.308562)scale(0.1 -0.1)\">\n       <use xlink:href=\"#DejaVuSans-49\"/>\n       <use x=\"63.623047\" xlink:href=\"#DejaVuSans-54\"/>\n       <use x=\"127.246094\" xlink:href=\"#DejaVuSans-48\"/>\n      </g>\n     </g>\n    </g>\n   </g>\n   <g id=\"matplotlib.axis_2\">\n    <g id=\"ytick_1\">\n     <g id=\"line2d_10\">\n      <defs>\n       <path d=\"M 0 0 \nL -3.5 0 \n\" id=\"mfb36a95d76\" style=\"stroke:#000000;stroke-width:0.8;\"/>\n      </defs>\n      <g>\n       <use style=\"stroke:#000000;stroke-width:0.8;\" x=\"33.2875\" xlink:href=\"#mfb36a95d76\" y=\"413.710125\"/>\n      </g>\n     </g>\n     <g id=\"text_10\">\n      <!-- 0 -->\n      <g transform=\"translate(19.925 417.509344)scale(0.1 -0.1)\">\n       <use xlink:href=\"#DejaVuSans-48\"/>\n      </g>\n     </g>\n    </g>\n    <g id=\"ytick_2\">\n     <g id=\"line2d_11\">\n      <g>\n       <use style=\"stroke:#000000;stroke-width:0.8;\" x=\"33.2875\" xlink:href=\"#mfb36a95d76\" y=\"363.064162\"/>\n      </g>\n     </g>\n     <g id=\"text_11\">\n      <!-- 50 -->\n      <g transform=\"translate(13.5625 366.863381)scale(0.1 -0.1)\">\n       <defs>\n        <path d=\"M 10.796875 72.90625 \nL 49.515625 72.90625 \nL 49.515625 64.59375 \nL 19.828125 64.59375 \nL 19.828125 46.734375 \nQ 21.96875 47.46875 24.109375 47.828125 \nQ 26.265625 48.1875 28.421875 48.1875 \nQ 40.625 48.1875 47.75 41.5 \nQ 54.890625 34.8125 54.890625 23.390625 \nQ 54.890625 11.625 47.5625 5.09375 \nQ 40.234375 -1.421875 26.90625 -1.421875 \nQ 22.3125 -1.421875 17.546875 -0.640625 \nQ 12.796875 0.140625 7.71875 1.703125 \nL 7.71875 11.625 \nQ 12.109375 9.234375 16.796875 8.0625 \nQ 21.484375 6.890625 26.703125 6.890625 \nQ 35.15625 6.890625 40.078125 11.328125 \nQ 45.015625 15.765625 45.015625 23.390625 \nQ 45.015625 31 40.078125 35.4375 \nQ 35.15625 39.890625 26.703125 39.890625 \nQ 22.75 39.890625 18.8125 39.015625 \nQ 14.890625 38.140625 10.796875 36.28125 \nz\n\" id=\"DejaVuSans-53\"/>\n       </defs>\n       <use xlink:href=\"#DejaVuSans-53\"/>\n       <use x=\"63.623047\" xlink:href=\"#DejaVuSans-48\"/>\n      </g>\n     </g>\n    </g>\n    <g id=\"ytick_3\">\n     <g id=\"line2d_12\">\n      <g>\n       <use style=\"stroke:#000000;stroke-width:0.8;\" x=\"33.2875\" xlink:href=\"#mfb36a95d76\" y=\"312.4182\"/>\n      </g>\n     </g>\n     <g id=\"text_12\">\n      <!-- 100 -->\n      <g transform=\"translate(7.2 316.217418)scale(0.1 -0.1)\">\n       <use xlink:href=\"#DejaVuSans-49\"/>\n       <use x=\"63.623047\" xlink:href=\"#DejaVuSans-48\"/>\n       <use x=\"127.246094\" xlink:href=\"#DejaVuSans-48\"/>\n      </g>\n     </g>\n    </g>\n    <g id=\"ytick_4\">\n     <g id=\"line2d_13\">\n      <g>\n       <use style=\"stroke:#000000;stroke-width:0.8;\" x=\"33.2875\" xlink:href=\"#mfb36a95d76\" y=\"261.772237\"/>\n      </g>\n     </g>\n     <g id=\"text_13\">\n      <!-- 150 -->\n      <g transform=\"translate(7.2 265.571456)scale(0.1 -0.1)\">\n       <use xlink:href=\"#DejaVuSans-49\"/>\n       <use x=\"63.623047\" xlink:href=\"#DejaVuSans-53\"/>\n       <use x=\"127.246094\" xlink:href=\"#DejaVuSans-48\"/>\n      </g>\n     </g>\n    </g>\n    <g id=\"ytick_5\">\n     <g id=\"line2d_14\">\n      <g>\n       <use style=\"stroke:#000000;stroke-width:0.8;\" x=\"33.2875\" xlink:href=\"#mfb36a95d76\" y=\"211.126274\"/>\n      </g>\n     </g>\n     <g id=\"text_14\">\n      <!-- 200 -->\n      <g transform=\"translate(7.2 214.925493)scale(0.1 -0.1)\">\n       <use xlink:href=\"#DejaVuSans-50\"/>\n       <use x=\"63.623047\" xlink:href=\"#DejaVuSans-48\"/>\n       <use x=\"127.246094\" xlink:href=\"#DejaVuSans-48\"/>\n      </g>\n     </g>\n    </g>\n    <g id=\"ytick_6\">\n     <g id=\"line2d_15\">\n      <g>\n       <use style=\"stroke:#000000;stroke-width:0.8;\" x=\"33.2875\" xlink:href=\"#mfb36a95d76\" y=\"160.480311\"/>\n      </g>\n     </g>\n     <g id=\"text_15\">\n      <!-- 250 -->\n      <g transform=\"translate(7.2 164.27953)scale(0.1 -0.1)\">\n       <use xlink:href=\"#DejaVuSans-50\"/>\n       <use x=\"63.623047\" xlink:href=\"#DejaVuSans-53\"/>\n       <use x=\"127.246094\" xlink:href=\"#DejaVuSans-48\"/>\n      </g>\n     </g>\n    </g>\n    <g id=\"ytick_7\">\n     <g id=\"line2d_16\">\n      <g>\n       <use style=\"stroke:#000000;stroke-width:0.8;\" x=\"33.2875\" xlink:href=\"#mfb36a95d76\" y=\"109.834349\"/>\n      </g>\n     </g>\n     <g id=\"text_16\">\n      <!-- 300 -->\n      <g transform=\"translate(7.2 113.633567)scale(0.1 -0.1)\">\n       <defs>\n        <path d=\"M 40.578125 39.3125 \nQ 47.65625 37.796875 51.625 33 \nQ 55.609375 28.21875 55.609375 21.1875 \nQ 55.609375 10.40625 48.1875 4.484375 \nQ 40.765625 -1.421875 27.09375 -1.421875 \nQ 22.515625 -1.421875 17.65625 -0.515625 \nQ 12.796875 0.390625 7.625 2.203125 \nL 7.625 11.71875 \nQ 11.71875 9.328125 16.59375 8.109375 \nQ 21.484375 6.890625 26.8125 6.890625 \nQ 36.078125 6.890625 40.9375 10.546875 \nQ 45.796875 14.203125 45.796875 21.1875 \nQ 45.796875 27.640625 41.28125 31.265625 \nQ 36.765625 34.90625 28.71875 34.90625 \nL 20.21875 34.90625 \nL 20.21875 43.015625 \nL 29.109375 43.015625 \nQ 36.375 43.015625 40.234375 45.921875 \nQ 44.09375 48.828125 44.09375 54.296875 \nQ 44.09375 59.90625 40.109375 62.90625 \nQ 36.140625 65.921875 28.71875 65.921875 \nQ 24.65625 65.921875 20.015625 65.03125 \nQ 15.375 64.15625 9.8125 62.3125 \nL 9.8125 71.09375 \nQ 15.4375 72.65625 20.34375 73.4375 \nQ 25.25 74.21875 29.59375 74.21875 \nQ 40.828125 74.21875 47.359375 69.109375 \nQ 53.90625 64.015625 53.90625 55.328125 \nQ 53.90625 49.265625 50.4375 45.09375 \nQ 46.96875 40.921875 40.578125 39.3125 \nz\n\" id=\"DejaVuSans-51\"/>\n       </defs>\n       <use xlink:href=\"#DejaVuSans-51\"/>\n       <use x=\"63.623047\" xlink:href=\"#DejaVuSans-48\"/>\n       <use x=\"127.246094\" xlink:href=\"#DejaVuSans-48\"/>\n      </g>\n     </g>\n    </g>\n    <g id=\"ytick_8\">\n     <g id=\"line2d_17\">\n      <g>\n       <use style=\"stroke:#000000;stroke-width:0.8;\" x=\"33.2875\" xlink:href=\"#mfb36a95d76\" y=\"59.188386\"/>\n      </g>\n     </g>\n     <g id=\"text_17\">\n      <!-- 350 -->\n      <g transform=\"translate(7.2 62.987605)scale(0.1 -0.1)\">\n       <use xlink:href=\"#DejaVuSans-51\"/>\n       <use x=\"63.623047\" xlink:href=\"#DejaVuSans-53\"/>\n       <use x=\"127.246094\" xlink:href=\"#DejaVuSans-48\"/>\n      </g>\n     </g>\n    </g>\n   </g>\n   <g id=\"patch_64\">\n    <path d=\"M 33.2875 413.710125 \nL 33.2875 22.318125 \n\" style=\"fill:none;stroke:#000000;stroke-linecap:square;stroke-linejoin:miter;stroke-width:0.8;\"/>\n   </g>\n   <g id=\"patch_65\">\n    <path d=\"M 568.9675 413.710125 \nL 568.9675 22.318125 \n\" style=\"fill:none;stroke:#000000;stroke-linecap:square;stroke-linejoin:miter;stroke-width:0.8;\"/>\n   </g>\n   <g id=\"patch_66\">\n    <path d=\"M 33.2875 413.710125 \nL 568.9675 413.710125 \n\" style=\"fill:none;stroke:#000000;stroke-linecap:square;stroke-linejoin:miter;stroke-width:0.8;\"/>\n   </g>\n   <g id=\"patch_67\">\n    <path d=\"M 33.2875 22.318125 \nL 568.9675 22.318125 \n\" style=\"fill:none;stroke:#000000;stroke-linecap:square;stroke-linejoin:miter;stroke-width:0.8;\"/>\n   </g>\n   <g id=\"text_18\">\n    <!-- r-python -->\n    <g transform=\"translate(275.89 16.318125)scale(0.12 -0.12)\">\n     <defs>\n      <path d=\"M 41.109375 46.296875 \nQ 39.59375 47.171875 37.8125 47.578125 \nQ 36.03125 48 33.890625 48 \nQ 26.265625 48 22.1875 43.046875 \nQ 18.109375 38.09375 18.109375 28.8125 \nL 18.109375 0 \nL 9.078125 0 \nL 9.078125 54.6875 \nL 18.109375 54.6875 \nL 18.109375 46.1875 \nQ 20.953125 51.171875 25.484375 53.578125 \nQ 30.03125 56 36.53125 56 \nQ 37.453125 56 38.578125 55.875 \nQ 39.703125 55.765625 41.0625 55.515625 \nz\n\" id=\"DejaVuSans-114\"/>\n      <path d=\"M 4.890625 31.390625 \nL 31.203125 31.390625 \nL 31.203125 23.390625 \nL 4.890625 23.390625 \nz\n\" id=\"DejaVuSans-45\"/>\n      <path d=\"M 18.109375 8.203125 \nL 18.109375 -20.796875 \nL 9.078125 -20.796875 \nL 9.078125 54.6875 \nL 18.109375 54.6875 \nL 18.109375 46.390625 \nQ 20.953125 51.265625 25.265625 53.625 \nQ 29.59375 56 35.59375 56 \nQ 45.5625 56 51.78125 48.09375 \nQ 58.015625 40.1875 58.015625 27.296875 \nQ 58.015625 14.40625 51.78125 6.484375 \nQ 45.5625 -1.421875 35.59375 -1.421875 \nQ 29.59375 -1.421875 25.265625 0.953125 \nQ 20.953125 3.328125 18.109375 8.203125 \nz\nM 48.6875 27.296875 \nQ 48.6875 37.203125 44.609375 42.84375 \nQ 40.53125 48.484375 33.40625 48.484375 \nQ 26.265625 48.484375 22.1875 42.84375 \nQ 18.109375 37.203125 18.109375 27.296875 \nQ 18.109375 17.390625 22.1875 11.75 \nQ 26.265625 6.109375 33.40625 6.109375 \nQ 40.53125 6.109375 44.609375 11.75 \nQ 48.6875 17.390625 48.6875 27.296875 \nz\n\" id=\"DejaVuSans-112\"/>\n      <path d=\"M 32.171875 -5.078125 \nQ 28.375 -14.84375 24.75 -17.8125 \nQ 21.140625 -20.796875 15.09375 -20.796875 \nL 7.90625 -20.796875 \nL 7.90625 -13.28125 \nL 13.1875 -13.28125 \nQ 16.890625 -13.28125 18.9375 -11.515625 \nQ 21 -9.765625 23.484375 -3.21875 \nL 25.09375 0.875 \nL 2.984375 54.6875 \nL 12.5 54.6875 \nL 29.59375 11.921875 \nL 46.6875 54.6875 \nL 56.203125 54.6875 \nz\n\" id=\"DejaVuSans-121\"/>\n      <path d=\"M 18.3125 70.21875 \nL 18.3125 54.6875 \nL 36.8125 54.6875 \nL 36.8125 47.703125 \nL 18.3125 47.703125 \nL 18.3125 18.015625 \nQ 18.3125 11.328125 20.140625 9.421875 \nQ 21.96875 7.515625 27.59375 7.515625 \nL 36.8125 7.515625 \nL 36.8125 0 \nL 27.59375 0 \nQ 17.1875 0 13.234375 3.875 \nQ 9.28125 7.765625 9.28125 18.015625 \nL 9.28125 47.703125 \nL 2.6875 47.703125 \nL 2.6875 54.6875 \nL 9.28125 54.6875 \nL 9.28125 70.21875 \nz\n\" id=\"DejaVuSans-116\"/>\n      <path d=\"M 54.890625 33.015625 \nL 54.890625 0 \nL 45.90625 0 \nL 45.90625 32.71875 \nQ 45.90625 40.484375 42.875 44.328125 \nQ 39.84375 48.1875 33.796875 48.1875 \nQ 26.515625 48.1875 22.3125 43.546875 \nQ 18.109375 38.921875 18.109375 30.90625 \nL 18.109375 0 \nL 9.078125 0 \nL 9.078125 75.984375 \nL 18.109375 75.984375 \nL 18.109375 46.1875 \nQ 21.34375 51.125 25.703125 53.5625 \nQ 30.078125 56 35.796875 56 \nQ 45.21875 56 50.046875 50.171875 \nQ 54.890625 44.34375 54.890625 33.015625 \nz\n\" id=\"DejaVuSans-104\"/>\n      <path d=\"M 30.609375 48.390625 \nQ 23.390625 48.390625 19.1875 42.75 \nQ 14.984375 37.109375 14.984375 27.296875 \nQ 14.984375 17.484375 19.15625 11.84375 \nQ 23.34375 6.203125 30.609375 6.203125 \nQ 37.796875 6.203125 41.984375 11.859375 \nQ 46.1875 17.53125 46.1875 27.296875 \nQ 46.1875 37.015625 41.984375 42.703125 \nQ 37.796875 48.390625 30.609375 48.390625 \nz\nM 30.609375 56 \nQ 42.328125 56 49.015625 48.375 \nQ 55.71875 40.765625 55.71875 27.296875 \nQ 55.71875 13.875 49.015625 6.21875 \nQ 42.328125 -1.421875 30.609375 -1.421875 \nQ 18.84375 -1.421875 12.171875 6.21875 \nQ 5.515625 13.875 5.515625 27.296875 \nQ 5.515625 40.765625 12.171875 48.375 \nQ 18.84375 56 30.609375 56 \nz\n\" id=\"DejaVuSans-111\"/>\n      <path d=\"M 54.890625 33.015625 \nL 54.890625 0 \nL 45.90625 0 \nL 45.90625 32.71875 \nQ 45.90625 40.484375 42.875 44.328125 \nQ 39.84375 48.1875 33.796875 48.1875 \nQ 26.515625 48.1875 22.3125 43.546875 \nQ 18.109375 38.921875 18.109375 30.90625 \nL 18.109375 0 \nL 9.078125 0 \nL 9.078125 54.6875 \nL 18.109375 54.6875 \nL 18.109375 46.1875 \nQ 21.34375 51.125 25.703125 53.5625 \nQ 30.078125 56 35.796875 56 \nQ 45.21875 56 50.046875 50.171875 \nQ 54.890625 44.34375 54.890625 33.015625 \nz\n\" id=\"DejaVuSans-110\"/>\n     </defs>\n     <use xlink:href=\"#DejaVuSans-114\"/>\n     <use x=\"34.738281\" xlink:href=\"#DejaVuSans-45\"/>\n     <use x=\"70.822266\" xlink:href=\"#DejaVuSans-112\"/>\n     <use x=\"134.298828\" xlink:href=\"#DejaVuSans-121\"/>\n     <use x=\"193.478516\" xlink:href=\"#DejaVuSans-116\"/>\n     <use x=\"232.6875\" xlink:href=\"#DejaVuSans-104\"/>\n     <use x=\"296.066406\" xlink:href=\"#DejaVuSans-111\"/>\n     <use x=\"357.248047\" xlink:href=\"#DejaVuSans-110\"/>\n    </g>\n   </g>\n  </g>\n </g>\n <defs>\n  <clipPath id=\"paf8cfbd572\">\n   <rect height=\"391.392\" width=\"535.68\" x=\"33.2875\" y=\"22.318125\"/>\n  </clipPath>\n </defs>\n</svg>\n",
      "image/png": "[encoded data removed]"
     },
     "metadata": {
      "needs_background": "light"
     }
    }
   ],
   "source": [
    "for domain, distribution in sent_len_dist.items():\n",
    "    plt.figure(figsize=(9.6, 7.2))\n",
    "    plt.bar(distribution.keys(), distribution.values())\n",
    "    plt.title(domain)\n",
    "    \n",
    "    plt.savefig(f'output/images/{domain}_sent_len_dist.png')\n",
    "    plt.show()"
   ]
  },
  {
   "source": [
    "## Findings"
   ],
   "cell_type": "markdown",
   "metadata": {}
  },
  {
   "source": [
    "### dota 2 patch notes\n",
    "\n",
    "Dota 2 patch notes appear to have a lot of 2-words (and 3-words) sentences. I suspect these are just hero names, skill names or other headers, which should not be counted as a sentence. Also, the dip in number of words as number of words goes from 2 to 5, before rising as it approaches 9 words looks interesting. Let's check them out."
   ],
   "cell_type": "markdown",
   "metadata": {}
  },
  {
   "cell_type": "code",
   "execution_count": 11,
   "metadata": {
    "tags": []
   },
   "outputs": [
    {
     "output_type": "stream",
     "name": "stdout",
     "text": [
      "number of words: 1\n---------------------------------------------------\nnumber of words: 2\nTalents.\nRubick.\nTalents.\nEmpower.\nShockwave.\nKunkka.\nBroodmother.\nOracle.\nSpectre.\nRetaliate.\n---------------------------------------------------\nnumber of words: 3\nQuelling Blade.\nTreant Protector.\nSand King.\nDeath Prophet.\nVoid Spirit.\nKeen Optic.\nEnchant Remnant.\nHoming Missile.\nRocket Flare.\nDeath Prophet.\n---------------------------------------------------\nnumber of words: 4\nCast Range 650.\nDivided We Stand.\nYasha and Kaya.\nUrn of Shadows.\nAghanim's Scepter.\nGreater Faerie Fire.\nNature's Prophet.\nBoots of Travel.\nDrum of Endurance.\nBerserker's Blood.\n---------------------------------------------------\nnumber of words: 5\nHelm of the Undying.\nRemoved all XP talents.\nBook of the Dead.\nPoor Man's Shield.\nTricks of the Trade.\nKeeper of the Light.\nHelm of Iron Will.\nEye of the Storm.\nPoor Man's Shield.\nPoor Man's Shield.\n---------------------------------------------------\nnumber of words: 6\nBase armor reduced by 1.\nNow provides +10 Mana Regen.\nBase damage increased by 4.\nBase armor increased by 1.\nBase damage reduced by 2.\nBase armor increased by 1.\nBase strength increased by 2.\nBase intelligence increased by 3.\nBase armor reduced by 1.\nMovement speed increased by 5.\n---------------------------------------------------\nnumber of words: 7\nDamage increased from 38 to 45.\nDamage reduced from 45 to 34.\nAgility increased from 12 to 18.\nNow has a global cast range.\nAgility/Strength/Intelligence reduced from 6/3/3 to 5/2/2.\nStrength reduced from 10/15/20 to 6/12/18.\nHeal reduced from 100 to 85.\nCost reduced from 650 to 625.\nNew Hero Kill AoE Gold:.\nHeal reduced from 500 to 450.\n---------------------------------------------------\nnumber of words: 8\nStrength gain reduced from 3.7 to 3.5.\nOvergrowth manacost increased from 150/175/200 to 200/250/300.\nBase damage increased from 20 to 24.\nNow requires Blitz Knuckles instead of Quarterstaff.\nEnrage duration increased from 4 to 4/4.5/5.\nMana regeneration increased from 1.5 to 1.75.\nHealth regen reduced from 2.5 to 2.\nBase intelligence increased from 18 to 23.\nRecipe cost increased from 175 to 200.\nGuardian Sprint now has a 25 manacost.\n---------------------------------------------------\nnumber of words: 9\nBase attack speed increased from 100 to 110.\nMinimum base damage increased from 42 to 46.\nKinetic Field radius increased from 340 to 350.\nMist Coil cooldown increased from 4.5 to 5.5.\nStrength and Intelligence reduced from 35 to 30.\nLife Break no longer deals damage to Roshan.\nBase movement speed increased from 315 to 320.\nMagic Missile damage rescaled from 100/175/250/325 to 90/180/270/360.\nTrack self gold reduced from 150/250/350 to 130/225/320.\nPlague Ward manacost increased from 20 to 20/22/24/26.\n---------------------------------------------------\nnumber of words: 10\nLevel 20 Talent increased from +16 Strength to +18.\nShadow Word cast range increased from 450/550/650/750 to 450/600/750/900.\nNeutral Creeps base bounty values increased back 10%.\nMagic resistance reduced from 5% to 4%.\nLevel 10 Talent increased from +150 Health to +200.\nCritical strike reduced from 175% to 160%.\nEpicenter damage per pulse increased from 110 to 110/120/130.\nAtrophy Aura damage duration increased from 30/40/50/60 to 30/45/60/75.\nLevel 10 Talent reduced from +30 Damage to +25.\nThe Swarm attack rate improved from 1.25/1.1/0.95/0.8 to 1.15/1.0/0.85/0.7.\n---------------------------------------------------\n"
     ]
    }
   ],
   "source": [
    "dota2_dir_path = os.path.join(data_dir_path, 'dota2')\n",
    "sentences = get_domain_sentences(dota2_dir_path, preprocess_dota2_text)\n",
    "\n",
    "# look at sentences that have 10 words or less to see if there is any trend\n",
    "sentences_10_words_or_less = { num_words: [] for num_words in range(1, 11)}\n",
    "\n",
    "for sentence in sentences:\n",
    "    words = word_tokenize(sentence)\n",
    "\n",
    "    if len(words) > 10:\n",
    "        continue\n",
    "\n",
    "    sentences_10_words_or_less[len(words)].append(sentence)\n",
    "\n",
    "# check a sample for each set of sentences (sample size = 10)\n",
    "for num_words, sentences in sentences_10_words_or_less.items():\n",
    "    print(f'number of words: {num_words}')\n",
    "\n",
    "    if len(sentences) < 10:\n",
    "        samples = sentences\n",
    "    else:\n",
    "        samples = random.sample(sentences, 10)\n",
    "\n",
    "    for sample in samples:\n",
    "        print(sample)\n",
    "\n",
    "    print('---------------------------------------------------')"
   ]
  },
  {
   "source": [
    "Observations:\n",
    "\n",
    "- full stops / periods are considered one word\n",
    "- apostrophes (with 's') are considered one word\n",
    "- numbers separated by slashes ('/') are considered one word\n",
    "- the hypothesis that two-words and three-words sentences are in fact just headers made up of hero names, skill names etc is right\n",
    "- turns out 4-words phrases are mostly names as well\n",
    "  - exception in sample: 'Removed all XP talents'"
   ],
   "cell_type": "markdown",
   "metadata": {}
  },
  {
   "source": [
    "Let's see what the longest sentence (or one of the longest) in dota 2 patch notes looks like."
   ],
   "cell_type": "markdown",
   "metadata": {}
  },
  {
   "cell_type": "code",
   "execution_count": 29,
   "metadata": {},
   "outputs": [],
   "source": [
    "# utility function\n",
    "def get_domain_longest_sentence(domain_dir_path: str, preprocess=None) -> list:\n",
    "    '''\n",
    "    Get all sentences in a domain-specific dataset\n",
    "\n",
    "    :params:\n",
    "        domain_dir_path (str): path to directory that contains domain-specific data\n",
    "        preprocess (function): function for preprocessing data in the given domain (default: None)\n",
    "\n",
    "    :return:\n",
    "        the longest sentence and its length in number of words (tuple)\n",
    "    '''\n",
    "    sentences = get_domain_sentences(domain_dir_path, preprocess)\n",
    "\n",
    "    longest_sentence = ''\n",
    "    longest_length = 0\n",
    "\n",
    "    for sentence in sentences:\n",
    "        words = word_tokenize(sentence)\n",
    "\n",
    "        if len(words) > longest_length:\n",
    "            longest_sentence = sentence\n",
    "            longest_length = len(words)\n",
    "\n",
    "    return longest_sentence, longest_length"
   ]
  },
  {
   "cell_type": "code",
   "execution_count": 23,
   "metadata": {},
   "outputs": [
    {
     "output_type": "stream",
     "name": "stdout",
     "text": [
      "length of longest sentence: 37\nAllows you to swallow an allied creep or hero and spit it towards enemies, stunning enemies in the area for 1.5 seconds and leaving a glob on the floor dealing 100 DPS for 3 seconds.\n"
     ]
    }
   ],
   "source": [
    "dota2_dir_path = os.path.join(data_dir_path, 'dota2')\n",
    "\n",
    "longest_sentence, longest_length = get_domain_longest_sentence(\n",
    "    dota2_dir_path,\n",
    "    preprocess_dota2_text,\n",
    ")\n",
    "\n",
    "print(f'length of longest sentence: {longest_length}')\n",
    "print(longest_sentence)"
   ]
  },
  {
   "source": [
    "Interesting sentence"
   ],
   "cell_type": "markdown",
   "metadata": {}
  },
  {
   "source": [
    "## SIGBOVIK papers\n",
    "\n",
    "These papers have longer sentences and more sentences in general. However, just like with dota 2 patch notes, the number of sentences with very few words look abnormally high. We can go through the same process we did for dota 2 data set."
   ],
   "cell_type": "markdown",
   "metadata": {}
  },
  {
   "cell_type": "code",
   "execution_count": 24,
   "metadata": {},
   "outputs": [
    {
     "output_type": "stream",
     "name": "stdout",
     "text": [
      "number of words: 1\n.\n.\n.\n.\n---------------------------------------------------\nnumber of words: 2\nProof.\n1.\n0x40-2A.\nMaybe.\nPreprint.\nZoolander.\nwikipedia.org/wiki/DJ_Kool_Herc.\n3.\n2.\nPlease?\n---------------------------------------------------\nnumber of words: 3\nTheorem 1.\nDefinion 2.\nFuture  work.\n2d).\nStatistical evaluation.\n2).\n1 tempo.\nPapernot et.\nSpy  check.\nRejected work.\n---------------------------------------------------\nnumber of words: 4\nKnight, Eric.\nPiaget, Jean.\n2672–2680, 2014.\nIEEE, 2018.\njunyanz/CycleGAN, 2017.\nSpringer, 2016.\nSpringer, 2015.\nfuture of humanity.\nGullyNet Architecture\n\n3.\nLondon, 1611.\n---------------------------------------------------\nnumber of words: 5\nPiaget’s theory.\n[6] Selfie2Anime.\nBloomsbury publishing, 2015.\nTies are broken alphabetically.\n4http://search.ancestry.com/search/db.aspx?dbid=3693\nParamount Pictures, 2004.\nPlease be our friend.\nIn ICLR,\n2018.\nThere is no minimum.\nwikipedia.org/wiki/Board_representation_(chess).\n---------------------------------------------------\nnumber of words: 6\narXiv preprint arXiv:1902.00465, 2019.\narXiv\npreprint arXiv:1409.1556, 2014.\narXiv preprint arXiv:1804.02767, 2018.\narXiv preprint arXiv:1811.01567, 2018.\nWe present our algorithm below.\n[2] Tom 7.\nNf6,  giving  B1).\n[3] Wentian Li.\nThose people would be wrong.\nAlgorithm 1 Detailed compression algorithm.\n---------------------------------------------------\nnumber of words: 7\nThus my request for future funding.\nHomeward bound: The incredible journey.\nHow to bake the perfect croton.\nAnd we can actually use it.\nResults can be seen in Fig.\nLaws of chess, 2017. www.fide.\nDeep residual learning for image recognition.\n2, p. 18, 2010.\nOne\nModel to Learn Them All.\nFilthy (Ofﬁcial Music Video).\n---------------------------------------------------\nnumber of words: 8\nI really wish this section was longer.\nThe yellow-to-purple shading indicates levels of confidence.\nmits-artificial-intelligence-passes-key-turing-test/,\n2016.\n\nlogically evaluating our models.\nWe also normalize against\nthe algorithm used.\nThis is a major requirement for meta-meta-learning.\n8 Train your GAN on the noise.\nGreedy layer-wise train-\n\ning of deep networks.\nDid we humans stumble in calculator design?\nRed  i  removal  with  artificial  retina\nnetworks.\nSo that’s not very impressive.\n---------------------------------------------------\nnumber of words: 9\nFigure 5: YOLO results on clothed cows.\nBatch Normalization for Improved DNN Performance\n\nJoshua A.\n: plagiarized repurposed\n\n\nReferences\n\n[1] Bobolas.\nOnce submitted, we begin the\ninterview procedures.\n(c) drugs are bad, OK?\nRethink-\ning the inception architecture for computer vision.\n“The #BostonDynamics #robots are learning.\nOnline, http://pages.cs.wisc.edu/\n~kovar/hall.html, 2007.\nA Style-based Generator Architecture for Generative Adversarial Networks.\nWe see that we have a biased model!\n---------------------------------------------------\nnumber of words: 10\nIn Advances in neural information processing systems, pp.\nQxg7;  note  the  white  queen  strangely\non g7.\nWe then teach our students how to descend arXiv.\nIn Advances\nin Neural Information Processing Systems, pp.\nIn total, we make the following\nthree contributions.\nneural information processing systems, pages 2672–2680, 2014.\n(a) Position after 1. e4 e5 2.\nWe’ll see the tradeoffs in Section 4.\nIn Advances in neural\ninformation processing systems, 2017.\nCacti 6.0: A tool to model large caches.\n---------------------------------------------------\n"
     ]
    }
   ],
   "source": [
    "sigbovik_dir_path = os.path.join(data_dir_path, 'sigbovik')\n",
    "sentences = get_domain_sentences(sigbovik_dir_path)\n",
    "\n",
    "# look at sentences that have 10 words or less to see if there is any trend\n",
    "sentences_10_words_or_less = { num_words: [] for num_words in range(1, 11)}\n",
    "\n",
    "for sentence in sentences:\n",
    "    words = word_tokenize(sentence)\n",
    "\n",
    "    if len(words) > 10:\n",
    "        continue\n",
    "\n",
    "    sentences_10_words_or_less[len(words)].append(sentence)\n",
    "\n",
    "# check a sample for each set of sentences (sample size = 10)\n",
    "for num_words, sentences in sentences_10_words_or_less.items():\n",
    "    print(f'number of words: {num_words}')\n",
    "\n",
    "    if len(sentences) < 10:\n",
    "        samples = sentences\n",
    "    else:\n",
    "        samples = random.sample(sentences, 10)\n",
    "\n",
    "    for sample in samples:\n",
    "        print(sample)\n",
    "\n",
    "    print('---------------------------------------------------')"
   ]
  },
  {
   "source": [
    "Observations:\n",
    "\n",
    "- it seems that some sentences have extra periods (maybe due to typo?), which are counted as sentences on their own\n",
    "- looks like phrases that are misclassified as sentences are from list indices, captions and references"
   ],
   "cell_type": "markdown",
   "metadata": {}
  },
  {
   "source": [
    "Check longest sentence in SIGBOVIK papers."
   ],
   "cell_type": "markdown",
   "metadata": {}
  },
  {
   "cell_type": "code",
   "execution_count": 26,
   "metadata": {},
   "outputs": [
    {
     "output_type": "stream",
     "name": "stdout",
     "text": [
      "length of longest sentence: 199\nNUGGET samples\n\nSydney: 3 for $3, 6 for $6, 10 for $7.50, 20 for $12.75\nSydney CBD: 3 for $3, 6 for $5.90, 10 for $7.70, 20 for\n$12.80\nMelbourne: 3 for $3, 6 for $5.50, 10 for $7.20, 20 for\n$12.80, 24 for $9.95\nJapan: 5 for 200 yen, 15 for 570 yen\nUK: 6 for 3.09, 9 for 3.99, 20 for 4.99\nThailand: 6 for 87B, 10 for 139B, 20 for 240B\nKuala Lumpur: 6 for 7.8RM, 9 for 10.9RM, 20 for 22RM\nGermany: 6 for e3,59, 9 for e4,49, 20 for e7,59\nBelo Horizonte: 4 for 6.50 reais, 10 for 16.40 reais\nSo Paulo: 4 for 6.50 reais, 10 for 13.90 reais\nUS (McDonalds): see Table 1\nUS (Burger King): see Table 2\n\nReferences\n\nSrivastava, Nitish, Hinton, Geoffrey E., Krizhevsky, Alex,\nSutskever, Ilya, and Salakhutdinov, Ruslan.\n"
     ]
    }
   ],
   "source": [
    "sigbovik_dir_path = os.path.join(data_dir_path, 'sigbovik')\n",
    "\n",
    "longest_sentence, longest_length = get_domain_longest_sentence(sigbovik_dir_path)\n",
    "\n",
    "print(f'length of longest sentence: {longest_length}')\n",
    "print(longest_sentence)"
   ]
  },
  {
   "source": [
    "It is a misclassified sentence..."
   ],
   "cell_type": "markdown",
   "metadata": {}
  },
  {
   "source": [
    "### r/python posts' comments\n",
    "\n",
    "Let's do the same things as before."
   ],
   "cell_type": "markdown",
   "metadata": {}
  },
  {
   "cell_type": "code",
   "execution_count": 28,
   "metadata": {},
   "outputs": [
    {
     "output_type": "stream",
     "name": "stdout",
     "text": [
      "number of words: 1\n....\n---------------------------------------------------\nnumber of words: 2\nWow!\nCopped !\nIncredible.\nThanks.\nIllustrator?\nThanks.\nAWWW!\nAmazing.\nCongratulations!\nExcellent!\n---------------------------------------------------\nnumber of words: 3\nAwesome man.\nLooks awesome!\nGreat job!\nVery good!\nWow amazing.\nCyber wall?\nCongrats bro!\nGreat job.\nCool work!\nLink please.\n---------------------------------------------------\nnumber of words: 4\nDamn!!!\nI feel that.\nFuck!!!\nThat is awesome!\nGood job dude!\nIt looks great.\nThis is dope!\n😆 Well done.\nNot just pic?\nThis looks amazing!\n---------------------------------------------------\nnumber of words: 5\nI don't know.\nFerrari here you go.\nThats pretty cool man.\nIt's a sin.\nSo what is matplot?\nIdk, well done!\nYes please, finally.\nThis is so cool!\nThat is amazing man!\nThat takes the biscuit.\n---------------------------------------------------\nnumber of words: 6\nYou tracking saccades and pursuits?\nGood Job :)\nA7x?\nIs this the entire code?\nRound boi I like it!\nYou've doomed us all.\nGood job making something happen.\nReally cool love the font.\nIndention Error at line 6.\n!RemindMe 1 day\nAwesome!\nBy giving them bad code!\n---------------------------------------------------\nnumber of words: 7\nI for one am seriously impressed!\nNo excessive linespacing or blank lines.\nThank You, they are beautiful!\nCan't wait for the GitHub!\nId prefer it to be flatter.\nThat's one fancy art program.\nYou are truly gifted with creativity.\nHow long have you been programming?\nr/oddlysatisfying\nWich library are you using ?\nIt's really cool dude\nWow!\n---------------------------------------------------\nnumber of words: 8\nThis was so satisfying to watch unfold.\nWhat integration scheme did you implement here?\nDon't forget Christina's birthday tomorrow!\nMy input:  \n\n> Yes, please.\nNow what's the point of it?\nTotal spend on hardware was about £150.\nIs it possible to download this mindmap?\nYou my friend, are Tony Stark.\nThat's even worse than the indentations!\nThe user input part is the best.\n---------------------------------------------------\nnumber of words: 9\nYou are right, Tinder is boring stuff.\nLooks great 👍🏽\nI like it\nWell done!\nWow, Amazing, legit made me scream.\nIf this is different I'm very interested.\nThen what is the use of this mirror ?\nAnybody else concerned about that \"frosting\".\nIt tracks your eye, but what for?\nOr just passed the script from your PC?\n** \n\n **You're watching television.\nLooks real good though 👍\nThis is AWESOME!\n---------------------------------------------------\nnumber of words: 10\nThere are also Spotify ad blockers that work perfectly.\nThats so cool tho good luck man :).\nI had no idea that Python supported complex numbers!\nDefinitely going to use it to entertain my nephew.\nwith ophthalmic equipment such as a bite bar)?\nBut like good job this is honestly pretty cool.\nAfter seeing it, the old one looks outdated.\nIs there a timer with callback function or such?\nI'm assuming perhaps matplotlib at the very least?\nWhat’s it trying to depict with that?\n---------------------------------------------------\n"
     ]
    }
   ],
   "source": [
    "rpython_dir_path = os.path.join(data_dir_path, 'r-python')\n",
    "sentences = get_domain_sentences(rpython_dir_path)\n",
    "\n",
    "# look at sentences that have 10 words or less to see if there is any trend\n",
    "sentences_10_words_or_less = { num_words: [] for num_words in range(1, 11)}\n",
    "\n",
    "for sentence in sentences:\n",
    "    words = word_tokenize(sentence)\n",
    "\n",
    "    if len(words) > 10:\n",
    "        continue\n",
    "\n",
    "    sentences_10_words_or_less[len(words)].append(sentence)\n",
    "\n",
    "# check a sample for each set of sentences (sample size = 10)\n",
    "for num_words, sentences in sentences_10_words_or_less.items():\n",
    "    print(f'number of words: {num_words}')\n",
    "\n",
    "    if len(sentences) < 10:\n",
    "        samples = sentences\n",
    "    else:\n",
    "        samples = random.sample(sentences, 10)\n",
    "\n",
    "    for sample in samples:\n",
    "        print(sample)\n",
    "\n",
    "    print('---------------------------------------------------')"
   ]
  },
  {
   "source": [
    "### Observations\n",
    "\n",
    "- each punctuation (e.g. '!') is considered one word\n",
    "  - emoticons like ':)' is considered two words when most humans would treat it like one (a smiley face)\n",
    "- sentences with very few words are in fact legitimate sentences\n",
    "  - sentences in social media tend to be short after all"
   ],
   "cell_type": "markdown",
   "metadata": {}
  },
  {
   "source": [
    "Find longest sentence"
   ],
   "cell_type": "markdown",
   "metadata": {}
  },
  {
   "cell_type": "code",
   "execution_count": 30,
   "metadata": {},
   "outputs": [
    {
     "output_type": "stream",
     "name": "stdout",
     "text": [
      "length of longest sentence: 159\n For some more context this is a project I have been working on for about 2 months around full time studies, mirror display is all made using the tkinter library and each frame has its own looping function to continuously update, has date, time, weather at my location, BBC news headlines, if Leicester city football club are playing it'll display the live score in the middle, if my face is detected my uni schedule displays, if my girlfriend's face is detected it logs in to her work website and fetches and displays her work timetable, calendar event system at the bottom continuously updated and loops through upcoming events, more events can be added through voice control, music can be streamed from YouTube with voice control, will tell you the output of flipping a coin through voice control and can do calculations through voice control.\n"
     ]
    }
   ],
   "source": [
    "rpython_dir_path = os.path.join(data_dir_path, 'r-python')\n",
    "\n",
    "longest_sentence, longest_length = get_domain_longest_sentence(\n",
    "    rpython_dir_path,\n",
    "    preprocess_rpython_text,\n",
    ")\n",
    "\n",
    "print(f'length of longest sentence: {longest_length}')\n",
    "print(longest_sentence)"
   ]
  },
  {
   "source": [
    "On social media, a user is under no obligation to write proper sentences so he / she can write a sentence however long he / she likes. In my opinion, this sentence should have been split up into shorter sentences."
   ],
   "cell_type": "markdown",
   "metadata": {}
  },
  {
   "source": [
    "### Let's compute some overall statistics"
   ],
   "cell_type": "markdown",
   "metadata": {}
  },
  {
   "source": [
    "#### Average number of sentences per document for each domain"
   ],
   "cell_type": "markdown",
   "metadata": {}
  },
  {
   "cell_type": "code",
   "execution_count": 32,
   "metadata": {},
   "outputs": [
    {
     "output_type": "stream",
     "name": "stdout",
     "text": [
      "average number of sentences per dota2 document: 181.40\n",
      "average number of sentences per sigbovik document: 109.14\n",
      "average number of sentences per r-python document: 182.60\n"
     ]
    }
   ],
   "source": [
    "for domain in os.listdir(data_dir_path):\n",
    "    domain_dir_path = os.path.join(data_dir_path, domain)\n",
    "    preprocess = preprocessing_functions[domain]\n",
    "    domain_num_sentences = 0\n",
    "\n",
    "    for txt in os.listdir(domain_dir_path):\n",
    "        txt_file_path = os.path.join(domain_dir_path, txt)\n",
    "\n",
    "        with open(txt_file_path) as txt_file:\n",
    "            text = txt_file.read()\n",
    "        \n",
    "        if preprocess is not None:\n",
    "            text = preprocess(text)\n",
    "        \n",
    "        sentences = sent_tokenize(text)\n",
    "        domain_num_sentences += len(sentences)\n",
    "\n",
    "    average_num_sentences = domain_num_sentences / len(os.listdir(domain_dir_path))\n",
    "    print(f'average number of sentences per {domain} document: {average_num_sentences:.2f}')"
   ]
  },
  {
   "source": [
    "Observation:\n",
    "\n",
    "- average number of sentences for SIGBOVIK papers is quite low compared to the other 2 data sets which is quite surprising\n",
    "- it makes sense that r/python posts have a lot of comments, since making comments do not require much effort\n",
    "  - my guess is that the bulk of r/python (and dota 2) sentences are very short\n",
    "- average number of sentences in a dota 2 patch note is probably inflated by false positive"
   ],
   "cell_type": "markdown",
   "metadata": {}
  },
  {
   "cell_type": "code",
   "execution_count": 34,
   "metadata": {},
   "outputs": [
    {
     "output_type": "stream",
     "name": "stdout",
     "text": [
      "average number of sentences per dota2 document: 99.85\n"
     ]
    }
   ],
   "source": [
    "# exclude sentences with 5 'words' or less for dota 2 patch notes\n",
    "domain = 'dota2'\n",
    "domain_dir_path = os.path.join(data_dir_path, domain)\n",
    "preprocess = preprocessing_functions[domain]\n",
    "domain_num_sentences = 0\n",
    "\n",
    "for txt in os.listdir(domain_dir_path):\n",
    "    txt_file_path = os.path.join(domain_dir_path, txt)\n",
    "\n",
    "    with open(txt_file_path) as txt_file:\n",
    "        text = txt_file.read()\n",
    "    \n",
    "    if preprocess is not None:\n",
    "        text = preprocess(text)\n",
    "    \n",
    "    sentences = sent_tokenize(text)\n",
    "\n",
    "    for sentence in sentences:\n",
    "        words = word_tokenize(sentence)\n",
    "\n",
    "        if len(words) > 5:\n",
    "            domain_num_sentences += 1\n",
    "\n",
    "average_num_sentences = domain_num_sentences / len(os.listdir(domain_dir_path))\n",
    "print(f'average number of sentences per {domain} document: {average_num_sentences:.2f}')"
   ]
  },
  {
   "source": [
    "This number of sentences for dota 2 patch notes looks more normal."
   ],
   "cell_type": "markdown",
   "metadata": {}
  },
  {
   "source": [
    "# check ratio of short sentences to long sentences\n",
    "sentence_length_threshold = 10  # length >= 10 -> long, otherwise -> short\n",
    "\n",
    "for domain in os.listdir(data_dir_path):\n",
    "    domain_dir_path = os.path.join(data_dir_path, domain)\n",
    "    preprocess = preprocessing_functions[domain]\n",
    "\n",
    "    domain_num_long_sentences = 0\n",
    "    domain_num_short_sentences = 0\n",
    "\n",
    "    for txt in os.listdir(domain_dir_path):\n",
    "        txt_file_path = os.path.join(domain_dir_path, txt)\n",
    "\n",
    "        with open(txt_file_path) as txt_file:\n",
    "            text = txt_file.read()\n",
    "        \n",
    "        if preprocess is not None:\n",
    "            text = preprocess(text)\n",
    "        \n",
    "        sentences = sent_tokenize(text)\n",
    "\n",
    "        for sentence in sentences:\n",
    "            words = word_tokenize(sentence)\n",
    "\n",
    "            if len(words) >= sentence_length_threshold:\n",
    "                domain_num_long_sentences += 1\n",
    "            else:\n",
    "                if domain == 'dota2' and len(words) <= 5:\n",
    "                    continue\n",
    "\n",
    "                domain_num_short_sentences += 1\n",
    "\n",
    "    print(f'short-long sentences ratio for {domain} is {domain_num_short_sentences} : {domain_num_long_sentences}')"
   ],
   "cell_type": "code",
   "metadata": {},
   "execution_count": 37,
   "outputs": [
    {
     "output_type": "stream",
     "name": "stdout",
     "text": [
      "short-long sentences ratio for dota2 is 914 : 1083\n",
      "short-long sentences ratio for sigbovik is 610 : 1682\n",
      "short-long sentences ratio for r-python is 2233 : 1419\n"
     ]
    }
   ]
  },
  {
   "source": [
    "This ratio is as expected."
   ],
   "cell_type": "markdown",
   "metadata": {}
  },
  {
   "source": [
    "#### Average length of sentences (in number of words) per document for each domain\n",
    "\n",
    "- get total length of sentences in one document\n",
    "- divide by number of sentences to get average sentence length for that document\n",
    "- take average of average sentence length across all documents"
   ],
   "cell_type": "markdown",
   "metadata": {}
  },
  {
   "cell_type": "code",
   "execution_count": 43,
   "metadata": {},
   "outputs": [
    {
     "output_type": "stream",
     "name": "stdout",
     "text": [
      "average sentence length for dota2: 6.943348826415291\n",
      "average sentence length for sigbovik: 20.139721857324634\n",
      "average sentence length for r-python: 10.342453216184227\n"
     ]
    }
   ],
   "source": [
    "for domain in os.listdir(data_dir_path):\n",
    "    domain_dir_path = os.path.join(data_dir_path, domain)\n",
    "    preprocess = preprocessing_functions[domain]\n",
    "\n",
    "    domain_sentence_length = 0\n",
    "\n",
    "    for txt in os.listdir(domain_dir_path):\n",
    "        txt_file_path = os.path.join(domain_dir_path, txt)\n",
    "\n",
    "        with open(txt_file_path) as txt_file:\n",
    "            text = txt_file.read()\n",
    "        \n",
    "        if preprocess is not None:\n",
    "            text = preprocess(text)\n",
    "\n",
    "        sentences = sent_tokenize(text)\n",
    "\n",
    "        num_words = 0\n",
    "\n",
    "        for sentence in sentences:\n",
    "            words = word_tokenize(sentence)\n",
    "            num_words += len(words)\n",
    "\n",
    "        average_sentence_length = num_words / len(sentences)\n",
    "        domain_sentence_length += average_sentence_length\n",
    "\n",
    "    average_domain_sentence_length = domain_sentence_length / len(os.listdir(domain_dir_path))\n",
    "    print(f'average sentence length for {domain}: {average_domain_sentence_length}')"
   ]
  },
  {
   "source": [
    "As expected, the sentences in academic papers (even if they are satirical) are quite long. Patch notes tend to get to point by listing changes in gameplay only. On social media, people usually give short comments."
   ],
   "cell_type": "markdown",
   "metadata": {}
  }
 ]
}