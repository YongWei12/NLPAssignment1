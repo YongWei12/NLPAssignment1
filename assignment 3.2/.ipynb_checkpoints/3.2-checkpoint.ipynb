{
 "cells": [
  {
   "cell_type": "code",
   "execution_count": 236,
   "metadata": {},
   "outputs": [
    {
     "name": "stderr",
     "output_type": "stream",
     "text": [
      "[nltk_data] Downloading package punkt to\n",
      "[nltk_data]     C:\\Users\\wjx15\\AppData\\Roaming\\nltk_data...\n",
      "[nltk_data]   Unzipping tokenizers\\punkt.zip.\n"
     ]
    },
    {
     "data": {
      "text/plain": [
       "True"
      ]
     },
     "execution_count": 236,
     "metadata": {},
     "output_type": "execute_result"
    }
   ],
   "source": [
    "import nltk\n",
    "import urllib\n",
    "from nltk.tag import pos_tag_sents\n",
    "import pandas as pd\n",
    "import os\n",
    "import csv\n",
    "import glob\n",
    "from nltk.tokenize import word_tokenize\n",
    "nltk.download('punkt')"
   ]
  },
  {
   "cell_type": "markdown",
   "metadata": {},
   "source": [
    "https://www.amazon.com/SanDisk-MicroSDXC-Nintendo-Switch-SDSQXAO-128G-GNCZN/dp/B07KXQX3S3/ref=sr_1_31?dchild=1&qid=1601365241&s=videogames-intl-ship&sr=1-31&th=1"
   ]
  },
  {
   "cell_type": "markdown",
   "metadata": {},
   "source": [
    "great price,  amazing deal , "
   ]
  },
  {
   "cell_type": "code",
   "execution_count": 174,
   "metadata": {},
   "outputs": [],
   "source": [
    "# api call to amazon\n",
    "\n",
    "import requests\n",
    "\n",
    "#total of 10 pages\n",
    "\n",
    "url = \"https://amazon-product-reviews-keywords.p.rapidapi.com/product/reviews\"\n",
    "\n",
    "result = ''\n",
    "\n",
    "for i in range(1,10)\n",
    "\n",
    "querystring = {\"page\":\"1-10\",\"country\":\"US\",\"asin\":\"B07KXQX3S3\"}\n",
    "headers = {\n",
    "      'x-rapidapi-host': \"amazon-product-reviews-keywords.p.rapidapi.com\",\n",
    "      'x-rapidapi-key': \"60fc0b5637mshb07bcf35bfa73eep19b3ecjsnc504e8154c4f\"\n",
    "    }\n",
    "\n",
    "response = (requests.request(\"GET\", url, headers=headers, params=querystring))\n",
    "\n"
   ]
  },
  {
   "cell_type": "code",
   "execution_count": 170,
   "metadata": {},
   "outputs": [
    {
     "data": {
      "text/plain": [
       "'{\"next_page\":10,\"reviews\":[{\"id\":\"R2Q4EIXF10KRWM\",\"review_data\":\"Reviewed in the United States on March 24, 2020\",\"name\":\"Rob Goblin\",\"rating\":4,\"title\":\"Plug and play\",\"review\":\"As a long time Nintendo gamer I\\'ve learned to never purchase third party equipment if you want it to function and not waste money. This isn\\'t the cheapest option but it is plug and play after a system restart while other cards have a more lengthy and frustrating process. I wish it wasn\\'t so much but that\\'s the price you pay with Nintendo.\"},{\"id\":\"R282FSBAYAT0O5\",\"review_data\":\"Reviewed in the United States on September 24, 2020\",\"name\":\"Pasta_Lord\",\"rating\":5,\"title\":\"Has dozens of times the storage the switch has. Perfect for more download games.\",\"review\":\"I thought it was exspensive when i bought it, but after installing it i see why it was $53. I could fit the games from 10 or 20 switches onto this memory card.Worth every penny. After seeing its speed and storage i would value this at $65. Glad i got it. Pokemon games take up a lot of room, even without the dlc.\"},{\"id\":\"RK94WGC7EEJR2\",\"review_data\":\"Reviewed in the United States on March 26, 2020\",\"name\":\"v m.\",\"rating\":1,\"title\":\"SD card dead upon arrival\",\"review\":\"Card came in poor condition, the package looked sealed but damaged and upon opening it the micro-sd card appeared to have a slight bend in it. I was able to insert it into my switch but it was unable to be recognized by the system. My switch was updated and I restarted it several times but an error code kept appearing. Very disappointed.\"},{\"id\":\"R2ZXVZEES3RSLT\",\"review_data\":\"Reviewed in the United States on August 15, 2020\",\"name\":\"Anya\",\"rating\":5,\"title\":\"A bit overpriced, but still worked like a charm!\",\"review\":\"Although there are plenty of other micro SD cards with far more storage capacity at fairly affordable prices, you still can\\'t go wrong with the Nintendo brand.Even though you\\'re paying mostly for the brand name, it still feels as though it was the right call after reading horror stories of other micro SD card mishaps involving numerous errors or even corrupted save data!I think I\\'ll play it safe by just sticking to Nintendo.\"},{\"id\":\"R2CIQF0GEE60SN\",\"review_data\":\"Reviewed in the United States on January 18, 2020\",\"name\":\"OHLR\",\"rating\":5,\"title\":\"Top Quality and we added many games to our Nintendo Switch\",\"review\":\"SanDisk is the best manufacturer of flash memory in our experience and we ran out of storage on our Switch. Once we put this in, we installed a ton more games which is important for our YouTube channel OHLR Arcade. We actually bought the \\\\\"official\\\\\" Nintendo memory card in an electronics store for 4X the price and it didn\\'t fit, so we returned that and purchased this one on Amazon instead.\"},{\"id\":\"RD7NBI6YMQ840\",\"review_data\":\"Reviewed in the United States on August 16, 2020\",\"name\":\"Brandon J Garcia\",\"rating\":5,\"title\":\"Super Reliable!\",\"review\":\"Hands down the best micro sd card Ive had. I bought this a while ago and it still works, all 128 gigabyte where there, well except for the few it uses but thats completely normal. I was sceptical at first but I bought it anyways. A lot of micro sd cards seem to be fake here on Amazon but this one is 100% real. I even bought a 64 gigabyte one later because its trustworthy.This micro sd card is not limited to just the Nintendo Switch. I used it for my ps vita thanks to sd2vita and It works just as expected. Probably the only micro sd I will ever buy now.\"},{\"id\":\"R2O0ZR9G932GWH\",\"review_data\":\"Reviewed in the United States on January 8, 2020\",\"name\":\"Kevin Manuel Garcia villegas\",\"rating\":5,\"title\":\"Pues es una memoria para la switch y ya\",\"review\":\"Que puedo comentar, es una memoria para la Nintendo switch, que llego en su empaque de Nintendo en un sobre de envio normal, en tiempo normal, nada extraordinario o fuera de lo comun, lo puse en la consola y funciona, como debe de ser,, no es mas de lo que esperaba pues las especificaciones son claras, una memoria de 128gb para la consola y ya esta, no es como que venga con algunos GB de sobra o mejore la funcionalidad del Sistema.\"},{\"id\":\"R385RH9ZO5QFPQ\",\"review_data\":\"Reviewed in the United States on July 7, 2020\",\"name\":\"Jeremy Collins, AKA. Manator\",\"rating\":4,\"title\":\"There are cheaper versions they all work the same.\",\"review\":\"It works.I often wonder why I didnt go buy 2 64gb cards for 21$.Because it wouldve saved me 12$.But I was cautious of using a non nintendo product for various reason so I spent the extra money.It reads fast it writes fast and I can stop archiving my games now. Plenty of room for what I need.\"},{\"id\":\"R1YF67VBR7ED6Q\",\"review_data\":\"Reviewed in the United States on May 17, 2020\",\"name\":\"L. Stillwell\",\"rating\":5,\"title\":\"Worked perfect\",\"review\":\"After reading other reviews I made sure this was ships and sold by amazon before purchasing. I didn’t want to do a bunch of research on sd cards, so seeing that this was endorsed by Nintendo made it an easy pick for me. I was able to install into my Nintendo switch and begin downloading games right away.\"},{\"id\":\"RWGK01LHAUMDJ\",\"review_data\":\"Reviewed in the United States on May 2, 2020\",\"name\":\"jillholiver\",\"rating\":2,\"title\":\"disappointed.\",\"review\":\"I ordered this out of necessity for my Switch. I bought the 256 GB card, knowing I would need the extra space. It was obviously brand new in its package, which was sufficiently protected. However, I loaded the SD card in my Switch only to find that the capacity read as 238 GB. 18 GB may not seem like a huge deal, but for 50+ dollars, I expected the capacity I paid for. I\\'m super disappointed. I wouldn\\'t have bought this product had I known the capacity wasn\\'t what was advertised.\"}]}{\"next_page\":9,\"reviews\":[{\"id\":\"R2683D87EJT7H3\",\"review_data\":\"Reviewed in the United States on June 12, 2020\",\"name\":\"David Hanna\",\"rating\":5,\"title\":\"Does the job!\",\"review\":\"I got this for my girlfriend and her Nintendo Switch.I mostly got this because of problems people have had in the past with SanDisk and overheating, so I figured this was the safest bet for someone else.And it works! Looks cool too, with the Nintendo logo. I suggest this for anyone looking for that extra layer of security by both SanDisk and Nintendo.\"},{\"id\":\"R1QEGAWKB4IF6O\",\"review_data\":\"Reviewed in the United States on April 1, 2020\",\"name\":\"Martin\",\"rating\":5,\"title\":\"Brilliant microsd card with fun Nintendo theme\",\"review\":\"I have had soooo many problems with micro SD cards in the past (mostly getting fake ones) This is a legit partnership between sandisk and nintendo to make quality micro sd cards formatted perfectly for the switch. Definitely a no brainier add on to the switch. 128 GB is plenty of space, you\\'re already spending $300 + on a console, DON\\'T CHEAP OUT on the sd card and lose your games or corrupt your saves!\"},{\"id\":\"RF6CAEQ7U61OR\",\"review_data\":\"Reviewed in the United States on December 20, 2019\",\"name\":\"Phillip Wilcox so pleased\",\"rating\":5,\"title\":\"Pay more for less for Nintendo’s endorsement\",\"review\":\"I could get much larger amount of memory for not much more but being licensed by Nintendo lets you know it works but the moment Nintendo does that they overcharge for there name . Hey Nintendo remember you need I’d customers more than we need you .Anyway the card itself is fine but I could put a 400 gig card made by same company for a little over $40.00 just doesn’t have Nintendo’s over priced name connected to it\"},{\"id\":\"R1M3WL5LHL39YZ\",\"review_data\":\"Reviewed in the United States on September 6, 2020\",\"name\":\"Jesus Sandoval\",\"rating\":5,\"title\":\"Perfect for the Nintendo Switch Lite!!\",\"review\":\"Probably the best SanDisk SD Card you could get for your switch as it’s literally made for it. My card is 128gb which I find is the sweet spot for the amount of games that I have. I do recommend this card but it is a little bit pricey just for the little graphic that it has on it but if you can get it on sale like me it is well worth it!\"},{\"id\":\"R2G5KHADG8YEYP\",\"review_data\":\"Reviewed in the United States on July 25, 2019\",\"name\":\"Ronnie\",\"rating\":5,\"title\":\"A little goes a long way\",\"review\":\"This is great for those of us who don\\'t download all of our games, I\\'m more into physical versions of games. The only complaint I have is that it not exactly 64 GB it\\'s actually 59.4 GB but honestly I probably won\\'t end up filling it anyway. As you can see by my pic I have only used 14.7 GB of the I internal memory and I have 17 titles on there already, so you should feel confident that this will be enough for the average gamer.\"},{\"id\":\"RLX6LJWLC6XFP\",\"review_data\":\"Reviewed in the United States on September 17, 2020\",\"name\":\"CH\",\"rating\":5,\"title\":\"Works!\",\"review\":\"I do not know why I waited this long to get this (I had been archiving games to keep space open on my Switch). This is a small SD card and works great with my switch. You do need to put the \\\\\"kick stand\\\\\" up on the switch to see where the port is to insert it (I had to look it up). No complaints and pleased with this purchase!\"},{\"id\":\"R1EINQ4H0V3CUR\",\"review_data\":\"Reviewed in the United States on August 19, 2019\",\"name\":\"Amber P\",\"rating\":1,\"title\":\"Piece of Shit\",\"review\":\"It won\\'t even format on my computer. When its plugged into my switch it reads error message 2137-7500 which doesn\\'t even exist. if my switch ends up failing for no reason in the future I know why. DO NOT BUY THIS CHIP. Absolute trash...just buy a normal sandisk chip.\"},{\"id\":\"RT1KHPS5BXZBG\",\"review_data\":\"Reviewed in the United States on February 16, 2020\",\"name\":\"Heather DeBaca\",\"rating\":4,\"title\":\"Nintendo switch SD card that dramatically increases storage space\",\"review\":\"I love this Micro SD card! It’s dramatically increased the storage capacity on my Nintendo Switch. I can now play all the games that I have purchased over the last few years without having to archive and redownload. I know it’s a bit pricier then other SD cards but I love the reassurance that it will work with my switch and that it has some Nintendo flair. My only complaint is that I could not transfer the files from one SD card to another using my Mac, so I had to redownload all of my games which took hours to complete. My guess is it’s more a Mac problem then an SD card problem. It’s been a great upgrade and well worth the money.\"},{\"id\":\"R14XD0GRV4NN32\",\"review_data\":\"Reviewed in the United States on March 14, 2020\",\"name\":\"Bhud\",\"rating\":5,\"title\":\"Great SD card for the switch\",\"review\":\"Great and legit SD card for the switch. I was torn between this one and the Samsung SDs but essentially decided to go with this one because of all the fake cards going around now days. No configuration needed. Just plug it in and you are good to go.\"},{\"id\":\"R14S911CIHPLVH\",\"review_data\":\"Reviewed in the United States on March 13, 2020\",\"name\":\"Jon Cox\",\"rating\":5,\"title\":\"Great licensed storage upgrade for Switch!\",\"review\":\"After using a 128GB Sandisk Extreme micro sd for Switch, I wanted to go all the way & get the Nintendo licensed 256GB one. Games seem to run a little smoother & lets not forget about doubling my storage! Plus,I personally like how Nintendo put a different image stamp on each size SD card. Price is a little more expensive, but you are paying for the name...\"}]}{\"next_page\":8,\"reviews\":[{\"id\":\"R3SD7N5W1AM62P\",\"review_data\":\"Reviewed in the United States on September 23, 2020\",\"name\":\"Carlos Gonzalez\",\"rating\":4,\"title\":\"Lies of Actual Storage Available\",\"review\":\"Package arrived on time, and putting the Micro SD card into my Nintendo Switch was easy with no setup other than a update.My huge issue with this product is that the packaging indicates 128 GB of storage but when I looked at my storage on the Switch it showed 124.8 GB of storage available on the Micro SD card. I have no idea what could possibly take up a little more than 3GB of storage. I had no files saved to the card before checking the storage.If the used storage is actually being used up for a necessary process then I wouldn’t mind, but that wasn’t on the product descriptions, which means this is false advertising.Aside from being lied to about storage space the product works, and cost was really affordable. It was a huge upgrade from the 16GB card I had before this.I would not strongly recommend this Micro SD card unless you don\\'t care about losing more than 3GB of storage space.\"},{\"id\":\"R2HAA9LMRTFUL8\",\"review_data\":\"Reviewed in the United States on May 19, 2020\",\"name\":\"JC364\",\"rating\":5,\"title\":\"Perfect product and must have for switch\",\"review\":\"You need this! Works perfectly with switch. Stop buying games to load and then unload every time you want to play a different game. Small and easy to lose. Switch games have little memory. Buy this SD card and download all your games from switch digital store. All games are in the main menu. Nothing to lose or keep track of. And no tax on digital games! My son has 14 games and tons of memory left\"},{\"id\":\"R2XDANSD9CJH47\",\"review_data\":\"Reviewed in the United States on June 7, 2020\",\"name\":\"Hee Kyung Kang\",\"rating\":5,\"title\":\"Better price and good amount of storage for me\",\"review\":\"The micro SD card is worth every penny I put on this product. With the current 32gb storage on my Nintendo Switch Lite, plus the 64gb storage, it is just enough for me to have.\"},{\"id\":\"R1AK78PHTKZ8YM\",\"review_data\":\"Reviewed in the United States on July 29, 2020\",\"name\":\"DivineInhabitant\",\"rating\":1,\"title\":\"Seller & Amazon sold me a dingy, visibly broken sd card!\",\"review\":\"This sd card was priced great, but it arrived in horrible condition & the item itself was very clearly broken. When I took it from the inspector approved plastic cover, it was more clearly revealed how the paper packaging looked like it was stepped on & dragged across a wet dirty floor, then approved for sale anyway just to make a profit. The paper was literally flaking away & the plastic container the chip was in was scraped & crushed. I called customer service & they wouldn’t even exchange it for me. But, I’m getting a refund through amazon & I have to buy the item again. Buyer Beware!!\"},{\"id\":\"R26AIWT0I2O9V5\",\"review_data\":\"Reviewed in the United States on February 3, 2019\",\"name\":\"WizzBud\",\"rating\":5,\"title\":\"Works fine, ignore bad reviews\",\"review\":\"Works the exact same as the overpriced name brand SD card; picking this one is a no-brainer.The few reviewers who said this card is incompatible may have had one of two problems: Either it wasn’t pushed in all the way below the kickstand and it wasn’t detected (see picture, don’t be afraid to push a little more when it resists), or they did not get the free update to make micro SDXC cards compatible (I was prompted to update as soon as I inserted the card, so maybe if you don’t get the prompt try doing a system update and try again. I’m currently on 7.0.0 which is the latest version at this time)If you need the storage, buy this! Simple.\"},{\"id\":\"R23BXZM134NTF3\",\"review_data\":\"Reviewed in the United States on July 28, 2020\",\"name\":\"CJW\",\"rating\":1,\"title\":\"Write Failures After ~40GB Used\",\"review\":\"I purchased this 128GB microSD card along with my Switch Lite back in September 2019.It worked fine at first until I recently filled it up to about 40 gigs after which I started getting errors downloading different games.Even had an error with a game card that wanted to download additional data to the microSD.Also found that some of my existing games had corrupt data which the Switch Lite subsequently deleted and had me download ALL OVER AGAIN only to have them fail (works fine if I d/l to internal storage).I ran the card through H2testw where it came up with tons of write/verify errors in the unused space.Thought that something endorsed by Nintendo would have higher quality control although guess this was just wishful thinking.I\\'ve trusted SanDisk throughout the years but am very disappointed in this case since it\\'s not like I can return the microSD card being that I threw away all of the packaging.\"},{\"id\":\"R14HGMWFB76JAC\",\"review_data\":\"Reviewed in the United States on June 10, 2020\",\"name\":\"Briredrose\",\"rating\":5,\"title\":\"It works\",\"review\":\"I can’t really tell you if 128 GB is enough for your device especially if you download games a lot. However if you plan to get this because you just barely got a switch and you don’t really know if you’re gonna go digital or not this isn’t a bad purchase. Like if all your games are pretty much physical totally worth it however if you’re like me where are you just keep on buying games LOL you might wanna aim for bigger storage.\"},{\"id\":\"R3NGRB4PTC7890\",\"review_data\":\"Reviewed in the United States on July 7, 2020\",\"name\":\"Judith L.\",\"rating\":5,\"title\":\"Good transfer rates, works perfectly with my Switch, plus it is bright yellow.\",\"review\":\"I bought this because it is made for my Switch. I saw cheaper versions of Micro SD cards, but they all had a slower transfer rate. I went with this one just to be sure everything would be compatible and work quickly.\"},{\"id\":\"R3IU7YAAV7YEZW\",\"review_data\":\"Reviewed in the United States on December 11, 2019\",\"name\":\"Blue Phoenix Tail Lionhead\",\"rating\":5,\"title\":\"It works like ot says, thanks\",\"review\":\"Got it, but I don\\'t have it installed yet. Because my Nintendo Switch Lite requires internet to update system, and all I have is my mobile hotspot. So I\\'ll have to wait til next month to update. Life... Why don\\'t I get internet then? Cuz I don\\'t got time paying something I don\\'t need. No one needs multiplayer games, it\\'s a want. No a need. 😎😤 Same for game companies that make online only games with infinity updates.\"},{\"id\":\"R26UD4JM41HL1I\",\"review_data\":\"Reviewed in the United States on May 16, 2020\",\"name\":\"Felix Moran\",\"rating\":4,\"title\":\"Delays on Shipment\",\"review\":\"This review is more towards the lack of shipment and delays for this product. I got this product delayed several times and kept on getting disappointed. It was worth the wait and my Nintendo switch lite now has more space for game downloads. I have managed to use the space as much as possible and downloading a variety of games I enjoy playing. I know I could have used a regular microsd card but, having this one with the mushroom design was a must have.\"}]}{\"next_page\":7,\"reviews\":[{\"id\":\"R2E2QMKL3RC0A2\",\"review_data\":\"Reviewed in the United States on September 2, 2020\",\"name\":\"T\",\"rating\":1,\"title\":\"Fake card. Stopped working after a week.\",\"review\":\"I recently received a Nintendo Switch as a present and Animal Crossing along with it. When the Switch\\'s system memory filled up with screenshots, I was compelled to buy a microSD to continue saving screenshots for the game. When the package arrived, the card immediately went into use on the Switch. Didn\\'t take it out or do anything out of the ordinary with it. After a week, I keep getting the error \\\\\"Unable to access SD card\\\\\". Tried re-seating the card in the slot, turning off/resetting multiple times, reformatting. Nothing worked.After extensive googling for solutions, there were mentions of fake SD cards on Amazon, so I took a closer look at the packaging that I barely glanced at in my excitement. It definitely seems fake since the seal between the two cardboard pieces indented on places where text was printed on, and there is color clipping on the edge of the package where there shouldn\\'t be any..I\\'ve barely made a dent into the supposed 128 GB of storage, and now I\\'m left with no way to retrieve my data and out $30. I\\'m hesitant to initiate a return since I have saved data on this card that cannot be erased on my part, so in short.. I\\'m mad. >:(\"},{\"id\":\"R2GZNPT0FSMFZY\",\"review_data\":\"Reviewed in the United States on June 20, 2020\",\"name\":\"Brian Taylor\",\"rating\":5,\"title\":\"Officially licensed product for Nintendo Switch!\",\"review\":\"I probably could have gotten any micro SD card however with so many on the market I wanted to insure proper functionality with the Nintendo switch. With this officially licensed product I know it’s going to work seamlessly, with proper data transfer speed. Plus it’s has a cool Nintendo graphic printed on it! Ordering from amazon was cheaper than in stores.\"},{\"id\":\"R1TD2T5GL6FWDM\",\"review_data\":\"Reviewed in the United States on December 10, 2019\",\"name\":\"Anthony Li\",\"rating\":3,\"title\":\"Normal retail price is not good value\",\"review\":\"I got this on sale for my girlfriend\\'s switch and obviously it works, and it functions well (i should hope so given it\\'s a nintendo approved product).At the normal price this is bad value and you\\'re getting gouged for the fact that it\\'s a nintendo branded product and that you won\\'t have to worry if it will \\\\\"work\\\\\" or not.\"},{\"id\":\"R1WEVTQNA6C8H7\",\"review_data\":\"Reviewed in the United States on October 10, 2019\",\"name\":\"stephen\",\"rating\":5,\"title\":\"Great value\",\"review\":\"Bought 2 of these one for my switch and one for my switch lite the second I put it in it read it in an instant just had to restart my switchesthen I was able to download my digital copy’s of breath of the wild and naruto storm trilogy card does not cover save data which can be annoying at timesbutI don’t mind it 15$ for 64gb is a steal\"},{\"id\":\"R2WB50F153PD78\",\"review_data\":\"Reviewed in the United States on April 14, 2019\",\"name\":\"ballle98\",\"rating\":5,\"title\":\"Works great in my Moto G6 phone\",\"review\":\"previously I had a U1 rated SD card in my phone.When I was using it as \\\\\"internal\\\\\" storage there were apps that would pause and glitch.This card was rated as the best option on wirecutter.What makes this card better than other U3 cards is the random read/write.Other cards may be just as fast with sequential writes like saving video but this card works allot better for Apps that may have random writes.My apps work noticeably better with this card.\"},{\"id\":\"R1NHSJ5P8VY8P8\",\"review_data\":\"Reviewed in the United States on May 2, 2019\",\"name\":\"BestBadger\",\"rating\":5,\"title\":\"Best Value SD Card\",\"review\":\"The product arrived fast and worked great with my Nintendo Switch! The SD card fits in a small slot right underneath the stand that\\'s located on the backside of the switch. After carefully \\'clicking\\' into place, the system recognizes it immediately and prompts a system update. It was a quick and easy solution for the limited space the switch contains. I would definitely buy again if I need another one!\"},{\"id\":\"RMN5GBQ7UJXQK\",\"review_data\":\"Reviewed in the United States on August 3, 2020\",\"name\":\"mattymusto\",\"rating\":1,\"title\":\"More (well, less) than meets the eye\",\"review\":\"I was totally pleased with the product until about two weeks ago when I noticed none of you the screenshots I tried to take had saved. The cards memory is worse than my drunk grandmas. Saved images disappear from the I album only to reappear out of order.. I’ll edit a video and then end up with three copies of the original and none of the trimmed vids. Not to mention the advertised space seems to be a huge exaggeration. I have one game on the console I have the card in, AC’s new update musta been a hefty one, because 65 sceeenshots and 11 videos (15seconds each avg) later and my storage is MAXXED OUT...?? Unreal. Typical, just outlived it’s return window.Tl;dr DONT WASTE YA TIME OR MONEY, HONEY 😋\"},{\"id\":\"R2RS6RUJUBY18I\",\"review_data\":\"Reviewed in the United States on October 9, 2019\",\"name\":\"Jordan Witt\",\"rating\":3,\"title\":\"Save your money\",\"review\":\"I bought this when I got my switch and just wanted to get all the extras.Looking back, it\\'s just a memory card.You pop it into the switch and you never look at again (at least I\\'ve never needed to yet).Keep in mind while these are high speed memory cards, you can get non-branded ones for at least half the price.\"},{\"id\":\"R1H0WUE66SAYBW\",\"review_data\":\"Reviewed in the United States on September 6, 2020\",\"name\":\"Happy Package\",\"rating\":5,\"title\":\"283 GB. Nice. Works perfectly.\",\"review\":\"I can\\'t talk tech specs \\'cause that\\'s not my thing... However, I did buy the 256GB disk for our Nintendo Switch and it actually had 283 GB, so that\\'s a nice surprise.I generally buy brand name electronics rather than risk under-performing off brands.With that in mind, I\\'m plenty pleased with the performance of this disk and have no regret spending a few extra $ on this vs other options.\"},{\"id\":\"R229HN8RNE5X0M\",\"review_data\":\"Reviewed in the United States on September 19, 2020\",\"name\":\"Knight\",\"rating\":5,\"title\":\"Need memory space for games this is for you!\",\"review\":\"It self explanatory, I needed more room to play more games on my Nintendo Switch so I bought the biggest memory these if for the Switch so I got this one. Naturally I know it doesn\\'t have to be Nintendo theme card you can use others that meet the requirements. However I used this one just to be safe. Oh yes it works perfectly, all my data remains safe and successfully transferred.\"}]}{\"next_page\":6,\"reviews\":[{\"id\":\"R2IZG1FO1CIR3Z\",\"review_data\":\"Reviewed in the United States on August 5, 2020\",\"name\":\"Jason Dillon\",\"rating\":5,\"title\":\"DON\\'T BUY AN OFF-BRAND MICROSD! They don\\'t always work, even if they are supposed to be compatible.\",\"review\":\"Great, high-quality product. This was very easy to use; all you have to do is insert the MicroSD card in the slot behind the Switch\\'s kickstand. This added the digital storage I needed to expand my game library- and re-install all the games I archived to make space! WARNING: The third-party MicroSD cards or MicroSD cards that aren\\'t licensed by Nintendo DON\\'T ALWAYS WORK. I have read several reviews on different MicroSD cards of people who purchased them and their switch did not recognize the MicroSD card or vice versa. A possible malfunction is NOT worth saving a few dollars. Just buy the liscensed Nintendo product for internal technology and hardware like this.\"},{\"id\":\"R1Z6VOR1WNSEWT\",\"review_data\":\"Reviewed in the United States on September 3, 2019\",\"name\":\"Patrick\",\"rating\":5,\"title\":\"Best Bait in Town\",\"review\":\"Do you or someone you know have a roach problem?Well here\\'s the answer you have been looking for!!This bait is the best bait in the industry in my opinion. I have lived in some really nasty places and any place that had roaches this bait would tackle both the babies and the adults. Its the best to see their little legs kicking as they die from the chemicals in the bait, and it works super fast!! The roaches show up and think they are getting the best meal of their life and then they crawl away to die.If you have any roach problems what so ever just try out this roach bait because I\\'m sure that you wont regret getting rid of all the roaches in your life!\"},{\"id\":\"R11MYKS3C6APD0\",\"review_data\":\"Reviewed in the United States on February 13, 2020\",\"name\":\"kingpaul20\",\"rating\":5,\"title\":\"This is a must get for Nintendo switch\",\"review\":\"Ok I got my Nintendo switch at a target store. Upon getting the system out of the box and starting it up. I immediately go and see how much memory the system has and oh boy. There was just enough room for one big game and 2 smaller games. That’s was just about it. So getting an memory card is a must. I went to all the big stores and none of them had a licensed memory card for the Nintendo switch. So I went on amazon and found this and so far I’m very happy with it. But I find myself looking to get a bigger card ran out of room on this one. But all in all it’s was a good buy I just didn’t expect to run out of storage so fast.\"},{\"id\":\"R3PV3DP8GRLV6B\",\"review_data\":\"Reviewed in the United States on July 31, 2020\",\"name\":\"Carlos\",\"rating\":4,\"title\":\"It\\'s cool but overpriced\",\"review\":\"Yes. I bought this knowing I could get a less expensive 256GB micro SD card for my Switch, but cool-factor is something that is sometimes worth it in my book. This is really close to achieving that cool factor. It\\'s Nintendo themed with the Mario star and yellow color. Very cool... but! The yellow color is only on one side and the back is black like a regular old SD card. I will likely never see the back of the card again after putting in the Switch but it bothers me and it\\'s a missed opportunity to make it look just a bit nicer\"},{\"id\":\"R26OG86716PVKR\",\"review_data\":\"Reviewed in the United States on September 2, 2020\",\"name\":\"sparky81795\",\"rating\":4,\"title\":\"Decent capacity; spendy for what you get\",\"review\":\"This is a great product for your Switch. Nintendo and other brands like to mislead consumers into believing that their licensed product works better than other (non-licensed) cards. Since this was my first purchase for the Switch I went for a licensed product. For 2 dollars more I purchased an additional card from Samsung that is double the capacity. This one also works perfectly fine and is now my primary storage device.Otherwise the card works as expected. Make sure you turn off your Switch before installing or removing the card. It’s nothing major but the Switch will yell at you.\"},{\"id\":\"R2XW5O3G67IYYZ\",\"review_data\":\"Reviewed in the United States on June 20, 2019\",\"name\":\"FreshKiwi11\",\"rating\":4,\"title\":\"I got 10 GB less than what I paid for.\",\"review\":\"I save a lot of videos and pictures from KSA and Splatoon 2, not to mention I buy a lot of Nintendo\\'s third-party games digitally,so the fact that this SD card only has 118 GB is only a little annoying. It\\'s okay, but I\\'m just a bit worried that I\\'ll have to switch SD Cards every time I want to play a game.Overall, 8.5 out of 10, would still recommend to anybody who needs a quick little fix of storage.\"},{\"id\":\"R28U9OEGE9NO56\",\"review_data\":\"Reviewed in the United States on January 26, 2019\",\"name\":\"Aine\",\"rating\":5,\"title\":\"Zelda is AWESOME!\",\"review\":\"Really nice micro sd card for Nintendo Switch. I wanted this to go with the main reason I bought the Switch... The Legend of Zelda: BOTW. This should provide me with plenty of space for my gaming... at least for a while. Price was pretty reasonable as well ($17.99).\"},{\"id\":\"R15RFYQYQ4WHOT\",\"review_data\":\"Reviewed in the United States on August 15, 2020\",\"name\":\"Colinyo\",\"rating\":5,\"title\":\"Save time - just buy this Nintendo card\",\"review\":\"I bought the non - Nintendo 256 scandisk card and just could not get it to work. Even with 2 hours of assistance from the Nintendo customer service guy.He suggested I try a smaller storage card and then I found this one that was specifically for Nintendo.I would say don’t even take a chance buying any sd card- just save yourself time and get this Nintendo card.I haven’t had any problems with this card.We have the lets go Pokémon special edition switch.\"},{\"id\":\"R3SE21VD3FJDNS\",\"review_data\":\"Reviewed in the United States on November 15, 2019\",\"name\":\"shannon mcmahon\",\"rating\":1,\"title\":\"Does not work!\",\"review\":\"I bought this for a birthday present for my son. I tried to load it but it was not working. I called Nintendo twice each time they tried to help me load the memory card. They said there was something wrong with the memory card and I should return it. Now it is past the return date so I am stuck with a memory card that does not work. The reason I bought this one is because it said it was made by Nintendo obviously it is not since so many people are having trouble.\"},{\"id\":\"R2BI7I9JTDM7SE\",\"review_data\":\"Reviewed in the United States on June 21, 2020\",\"name\":\"Andrew Newbill\",\"rating\":5,\"title\":\"The power of storage\",\"review\":\"at first glance, 256gb of storage looks like trash compared to your now average 1tb you see on computers and consoles. After I installed it and began moving games over to my SD card, I was shook by the small dents I was making. Super smash bros? Like a small dent. Animal crossing? Psh not even visible. Some indi games? Bring it on. It was fairly expensive for the accessorie, but once you have it its like the memory cards we dealt with for the wii and GameCube are embarrassing in comparison. Id honestly say this is the best for the amount of storage. You won\\'t be out $100 + dollars like you would with a 1tb hard drive for your ps4, Xbox, or pc. Its perfect for you\\'re switch.\"}]}{\"next_page\":5,\"reviews\":[{\"id\":\"R1CA6YGZQXMKZ8\",\"review_data\":\"Reviewed in the United States on July 4, 2020\",\"name\":\"Lee Fernandez\",\"rating\":5,\"title\":\"The Mushroom keeps your Switch Safe.\",\"review\":\"Many people say it\\'s just Nintendo\\'s logo, but honestly it\\'s better to be safe with a company you trust. There are plenty of others out there from different brands and higher storage for a cheaper price, but there are also plenty of fake ones lurking about. Some have shown to have fried their gadget. Be safe and just get this brand that you trust for your gadget, even if this just has a mushroom and a nintendo logo on it, it is worth it. It only cost a few more dollars than the other brand but it performs pretty well. If you do research on this, it\\'s pretty fast when you use it on there gadgets due to it\\'s specs. My pc recognizes it quickly and it performs flawlessly. Despite not seeing this when you plug it in your gadget, it\\'s still a pretty cool looking sd card with a power up mushroom.This use to cost a lot but it went down to a reasonable price.Overall if you find this on sale, get it. it\\'s definitely worth it. Don\\'t listen to what others say, it\\'s your choice to pick something that you think looks cool and will keep your gadgets protected. I wish they had a gold one with the Zelda Triforce, to make it look even more awesome for like a 1 tera.\"},{\"id\":\"R1UCLFXUPN0VVY\",\"review_data\":\"Reviewed in the United States on May 5, 2020\",\"name\":\"Michael\",\"rating\":5,\"title\":\"Worth buying the licensed Nintendo product, but only 59.4GB\",\"review\":\"\\xa0Amazon can be such a hit or miss with electronics, so I decided to buy the genuine thing. I am not disappointed. It cost me $10 more but I can rest easy knowing my files will not be corrupted by a fake micro SD card. The one criticism is that it actually only has 59.4GB of storage. Not the full 64 as advertised. This wasn\\'t a big deal for me though because I am using this card to transfer files, not because I need a lot of storage. Fit easily into my Switch Lite and was instantly recognized. An added bonus is that the card looks really cool with the Zelda design!\"},{\"id\":\"R1TGR788CK0PFQ\",\"review_data\":\"Reviewed in the United States on January 2, 2019\",\"name\":\"troy\",\"rating\":5,\"title\":\"Worth the money\",\"review\":\"Perfect amount storage I’d have a lot of games that you wanna play\"},{\"id\":\"RB4DV13CFV7O4\",\"review_data\":\"Reviewed in the United States on June 26, 2020\",\"name\":\"XV123\",\"rating\":3,\"title\":\"Good card but problems\",\"review\":\"I have never had problems with this brand before and have used many of their cards in my Switch systems.However, this particular card has been a problem.Everyone of my game in my collection (digital and physical) became corrupt. You are talking over 35 physical games and probably 25 to 30 digital games.I\\'m not sure what happened.I basically, had to delete all data on the card while it was in the switch and reinstall every game to get them to work. I am not sure if this has fixed my physical games for good or not.It would be a shame to lose that size of a game library over 1 memory card.At this point I would have to turn away from the Switch and go back to PC and PS4.Sorry Nintendo.\"},{\"id\":\"R2I4SDC4YZZ70U\",\"review_data\":\"Reviewed in the United States on December 31, 2019\",\"name\":\"mr dead\",\"rating\":5,\"title\":\"I\\'m quite happy\",\"review\":\"I can\\'t tell you the technical details of a memory card and which one is best to buy. However, I find this one works really well. And I have downloaded a healthy supply of games, both big and small in size and I have a lot of space left. Before coming to the switch, i had a playstation vita, and you gain a whole new appreciation of memory space once you get away from Sony and their ridiculous prices. So well played to you Nintendo.That said, when you Google search which is the best memory card to buy for the switch, it\\'s not this one. There are other options available and there are better prices too, especially when they go on sale. I haven\\'t really bothered to look into it too much, because, as I said before, I was just happy to find a large memory card at a decent price.It really does depend on how many games you expect to download. Playing games and collecting games seem to be two different pass times for some people. You just need to decide, of the two, which type are you.\"},{\"id\":\"R1FATWBR1HZLLG\",\"review_data\":\"Reviewed in the United States on July 23, 2019\",\"name\":\"Amazon Customer\",\"rating\":1,\"title\":\"Generic card it’s only 33 usable gb.\",\"review\":\"I got one of the fake ones. I tried to download some of my games to it and it keep saying data corrupt. I check it with ChipGenuis and it said it was generic. So I checked with H2testw and it showed 91.8gb was corrupted. I don’t know if they are all bad but this one was. It’s up to you if you wanna take a chance. I’m just gonna get them from Walmart or GameStop now.\"},{\"id\":\"R1Z9DN0R6YZIX7\",\"review_data\":\"Reviewed in the United States on January 11, 2020\",\"name\":\"Astrolithic\",\"rating\":1,\"title\":\"UPDATED - Does nothing but crash my Switch.\",\"review\":\"UPDATED - Original post at bottomSince I was past my return window by the time I realized it was defective, and this item is not eligible for technical support, I contacted Sandisk directly to see if I could get it replaced. According to them, the SD card I received from amazon was not an actual Sandisk product. It was some kind of counterfeit knockoff that looked the part. That\\'s why it didn\\'t work. So I\\'d suggest you steer clear of this product.(Original Content)At first I thought I had an issue with a new game, then life got busy and I shelved the system for a couple months out of frustration. I decided to pick it back up over the holidays and tried to problem solve the issue. Turns out it was 100% this SD card. I took it out, restarted my system, made a few downloads to replace the data on the card, and suddenly I was completely error free. My kids can finally play Minecraft again, but I\\'m out $30.\"},{\"id\":\"R18VVATIGNK6TS\",\"review_data\":\"Reviewed in the United States on August 21, 2019\",\"name\":\"Lisa\",\"rating\":3,\"title\":\"It’s okay\",\"review\":\"The card came in brand new. Nothing was off about it. You don’t have to format this SD card since it’s made for the switch. I like the card a lot but it did however only show 119GB!! I thought i bought 128GB. I’m curious to know where the other 9GB went...\"},{\"id\":\"R15M1R44GARBLA\",\"review_data\":\"Reviewed in the United States on April 13, 2020\",\"name\":\"SnowChild\",\"rating\":5,\"title\":\"Works great but..\",\"review\":\"Other then the price it’s great the only reason to get it is according to other micro SD reviews the switch can’t properly be saved on them and can even end up corrupt or not work with the switch anymore. If you are willing to chance a malfunction try a cheaper option for sure but due to me needing something that I know would work and being limited on money I chose to be extremely safe and buy this. I know I could have chanced it but it was already going to take a few weeks to get here and I wanted to have something to download Minecraft on sooner rather then later. This was isn’t specifically bad in price I guess but I was thinking of getting bigger storage and man it spikes high for even 2x the storage of this one I got the 64 GB.\"},{\"id\":\"R3GXAYMPVL63UN\",\"review_data\":\"Reviewed in the United States on December 30, 2019\",\"name\":\"Iris\",\"rating\":5,\"title\":\"Buy if you want but be aware that there is cheaper options\",\"review\":\"I bought this microSDXC card for my switch, it works for what it’s attended for and came in perfect condition so no complaints here. The only reason I bought this one specifically is because I thought the star was cute and that I might as well go overkill on the amount of Gb the SD card has. Though if you want one with smaller space they do have a Nintendo licensed mushroom SD card with 128 Gb that I think is $30. I gave this sdxc card a 4/5 stars for value for money because to be real there are cheaper SD cards out there with the same amount of space that aren’t Nintendo licensed but if money isn’t a problem it’s nice to get this cute Mario themed SD card for your switch.\"}]}{\"next_page\":4,\"reviews\":[{\"id\":\"R30BBXZVI1TK3Y\",\"review_data\":\"Reviewed in the United States on January 22, 2019\",\"name\":\"Jo_rauf\",\"rating\":5,\"title\":\"Perfect for my switch\",\"review\":\"I ran out of space on my Nintendo switch, so bought this. It\\'s exactly what I needed and about the same price as other ones I saw.\"},{\"id\":\"R2IHVB3KOTI04A\",\"review_data\":\"Reviewed in the United States on April 7, 2019\",\"name\":\"Amy Stratman\",\"rating\":1,\"title\":\"Garbage\",\"review\":\"Does not work at all. I had to search how to use this card because no matter what I did, the Switch would not recognize it. I tried putting it in properly, turning the Switch on and off, trying it in my computer, ..it simply is a dead sd card\"},{\"id\":\"R30FRZ6UUKKGHS\",\"review_data\":\"Reviewed in the United States on June 11, 2019\",\"name\":\"Scuba G\",\"rating\":1,\"title\":\"Microsoft no good\",\"review\":\"Purchased this for my sons Nintendo switch which it is specifically made for put it in my switch and it wouldn’t format called customer service and they keep telling me I need a computer to format this switch. Well the gaming console is a gaming computer. They refuse to even listen to me saying it I need to call Nintendo for the help!!!\"},{\"id\":\"RWJ89BWFYL1U4\",\"review_data\":\"Reviewed in the United States on January 18, 2019\",\"name\":\"Kaspar Mazeika\",\"rating\":1,\"title\":\"Doesnt work\",\"review\":\"Upon inserting it into my switch a message came up saying it had to be formatted. It formatted the sd card but when the console restarted the same message came up. It doesnt work\"},{\"id\":\"R34PZKLT0O4I80\",\"review_data\":\"Reviewed in the United States on February 6, 2019\",\"name\":\"Betty Boop\",\"rating\":1,\"title\":\"Very disappointed\",\"review\":\"Keep getting error message stating system is unable to read card.\"},{\"id\":\"R1FQOQY691J1GP\",\"review_data\":\"Reviewed in the United States on December 19, 2018\",\"name\":\"R. Grimarez\",\"rating\":5,\"title\":\"Great Sd Card for the Switch\",\"review\":\"Great accessory for the switch. Recommended.\"},{\"id\":\"R2FPM4IDCSOOEE\",\"review_data\":\"Reviewed in the United States on February 1, 2019\",\"name\":\"Jake\",\"rating\":1,\"title\":\"Don’t waste your money\",\"review\":\"The card will not read in my system. The switch is up to date (version 7.0.0) keeps giving me an error message 2016-0641 and upon following the instructions doesn’t solve the problem.\"},{\"id\":\"R634O203MKOMO\",\"review_data\":\"Reviewed in the United States on January 28, 2019\",\"name\":\"Jim\",\"rating\":5,\"title\":\"If its nintendo use there products\",\"review\":\"Half the price of local stores. Good starting size for switch. No format needed just push it in and do the update. And start playing games\"},{\"id\":\"R2HNSKV6UTN5QO\",\"review_data\":\"Reviewed in the United States on August 22, 2019\",\"name\":\"Jack T.\",\"rating\":5,\"title\":\"Great card!\",\"review\":\"I got the 128GB version of this MicroSD card, and it works like a charm! Yes, I know you pay more for the same storage just because there\\'s a Nintendo logo slapped on the card, but after reading so many reviews about fake cards, I figured these are more likely to be authentic. Looks like I was right too, I ordered two of these and H2testw confirmed both are perfectly fine. Paying an extra $5 is worth the peace of mind. One more thing, yes, the actual formatted capacity is 119GB. That\\'s completely normal. Lastly, make sure the item you\\'re buying is shipped and sold by \\\\\"Amazon.com Services, Inc\\\\\" and not a third party seller. Anywho, couldn\\'t be happier with my purchase!\"},{\"id\":\"R1G97OSSZP6U4K\",\"review_data\":\"Reviewed in the United States on July 7, 2019\",\"name\":\"Milly \",\"rating\":1,\"title\":\"Product was defective upon arrival\",\"review\":\"Dont Buy! For some reason I\\'m having to write another review because the original one I posted seemed to some how dissapeare. The microSD simply did not work. I continously got an error telling me to restart my switch and reinsert the SD card but it didn\\'t work. I then used a a different microSD card I had laying around which worked perfectly with my switch. When I instered this microSD into my computer it wouldn\\'t even detect it! The most frustrating part was the 10-15 minutes speaking to a SanDisk representative. After using the technical support rep with amazon, they were able to patch me through to a tech with SanDisk. After going over a some trouble shooting steals the rep determined the microSD card was defective. She asked for my email and number so she could email me instructions on how to send this one back and get a new replacement. I know got an email or any further instructions on how to replace the defective product I got from SanDisk. Ultimately I decided it was not worth the hassle and returned the item to Amazon for a full refund.\"}]}{\"next_page\":3,\"reviews\":[{\"id\":\"R2OUZ6BC99V5EF\",\"review_data\":\"Reviewed in the United States on April 10, 2019\",\"name\":\"Eddie Gonzalez\",\"rating\":1,\"title\":\"THE SD CARD WONT FORMAT!!!!\",\"review\":\"\\xa0Defective memory card won’t even format once I format it, it just restarts my system and makes me keep formatting. Very disappointing, I was ready to fill the storage up and buy games right away now I can’t.\"},{\"id\":\"REGZGWGRRG65Z\",\"review_data\":\"Reviewed in the United States on January 30, 2019\",\"name\":\"Koko\",\"rating\":3,\"title\":\"Price is not balanced- but lots of memory\",\"review\":\"I give this three stars because I bought it in bundle with the switch, and in or out of bundle the card was at the same price- HOWEVER, since I ordered the bundle, the original card that’s supposed to come with the switch didn’t arrive at all- so if they were going to take the original 32 gb card AND inStead include the 128, they should’ve lowered the price of the 128 go card.\"},{\"id\":\"R3OYFE0RATALPK\",\"review_data\":\"Reviewed in the United States on July 5, 2019\",\"name\":\"Andrew Hsieh\",\"rating\":5,\"title\":\"Quick to use and easily recognized\",\"review\":\"I used this to replace a 128GB Samsung microSD card that I\\'d been using from the beginning in my Nintendo Switch. Obviously, you don\\'t need to use Nintendo Switch-branded microSD cards on your Switch, but I noticed Wirecutter recommended them highly even for other use (i.e. photography, general PC usage) so I figured I\\'d give it a shot since the pricing was comparable.Between this and another 256 GB card I had, I found this one more usable because the Switch required me to format the other 256 GB card with the official SD card formatting utility, which took forever, whereas this one was recognized immediately. I was able to just drag and drop from my existing 128 GB card to the new 256 GB one. Fast to read, no corrupt data so far like with some cheaper microSD cards, good to go.\"},{\"id\":\"R2WZGT77YSMKOZ\",\"review_data\":\"Reviewed in the United States on September 24, 2019\",\"name\":\"Bella\",\"rating\":1,\"title\":\"Probably don\\'t buy this\",\"review\":\"\\xa0Sent this to my friend in the middle of nowhere in Texas and it doesn\\'t work.everytime he click format it says it is and restarts the switch but when it turns back on it says it needs to be formatted. Contacted Amazon and explained that a return might be alot of hassell because then we gotta wait for the return and then wait for the refund then wait 10-15 days for the refund to post to my bank to buy another one... so I guess I\\'m going to throw it in the garbage and buy another one. Not impressed. :/\"},{\"id\":\"R3OCK9FPT3KYIS\",\"review_data\":\"Reviewed in the United States on March 15, 2019\",\"name\":\"Amazon Customer\",\"rating\":5,\"title\":\"Cute and functional\",\"review\":\"This cute little micro SD card is perfect for my son who is obsessed with Super Mario. I read online that some off brand Micro SD cards were burning out or causing issues with the switch so I decided saving a few dollars was not worth the headache. I love that nintendo makes quality products and knew I would have peace of mind when ordering this memory card. It went in easily and at first I was a little worried because the extra storage amount was not showing on the screen but it just needed a quick restart or update as stated on the screen to show up. It took less than 30 seconds and the extra memory storage showed on the screen. However it was not the full 128GB as stated on the package. It was a little less but not too much to make a difference or cause me to return the item. Overall I\\'d recommend this if you have a switch and need more storage than the small amount that comes on the console.\"},{\"id\":\"R219I4A1BKFR8E\",\"review_data\":\"Reviewed in the United States on January 21, 2019\",\"name\":\"Nicole\",\"rating\":5,\"title\":\"Great price!\",\"review\":\"Love my switch however the storage limit is minimal and with so much DLC for the switch I had to get something to continue buying games. This was a great price and certainly far more storage than I\\'ll ever need but it was only a few dollars more than a much smaller GB. Definitely worth the small amount extra to never have to worry about storage again. (I also love the cute like design on it).\"},{\"id\":\"R3BSRZKZWZOSNL\",\"review_data\":\"Reviewed in the United States on September 15, 2019\",\"name\":\"Sam Lilly\",\"rating\":4,\"title\":\"It\\'s-a Me, a Memory Card!\",\"review\":\"It\\'s a little expensive for the space compared to some other cards, but the branding is neat and knowing that it\\'s both a good quality card and properly formatted for the Switch out of the box is worth getting for a few extra bucks. It\\'s not quite the full listed size, as is usually the case, but I find it to be plenty close for my taste and understanding there\\'s usually a bit of space taken up on any card like this for required files. Plus, a yellow memory card with the Mario power star on it is harder to lose if you drop it and easier to distinguish when looking at multiple cards in one spot. It\\'s not JUST cool branding... just mostly.\"},{\"id\":\"R3C6JEO9RAM8OT\",\"review_data\":\"Reviewed in the United States on January 28, 2019\",\"name\":\"Romero\",\"rating\":4,\"title\":\"Surprisingly clear for such a small size, but a pain to get out.\",\"review\":\"Got this for my Switch as I didn\\'t want to save my captures in the system. Works like all other SanDisk microSD cards: great!The printing is a little blurry, but at this size I\\'m surprised SanDisk was able to print anything on the card at all besides text.I was trying to get it out the other day to upload my captures and found it very difficult to remove. I\\'m not sure if it\\'s the Switch or the card or both, but this was noticeably more difficult to pull out than other SanDisk microSDs I own. The Switch doesn\\'t have a spring-loaded release, so you have to gut at it to get it out. I had to use tweezers and nicked it pretty good. Thankfully, the damage is cosmetic and doesn\\'t affect the card.\"},{\"id\":\"R34O721EBJPQX2\",\"review_data\":\"Reviewed in the United States on December 26, 2018\",\"name\":\"Rick\",\"rating\":5,\"title\":\"Awesome!\",\"review\":\"Got this on sale, thought it looked cooler than the regular Sandisk SD cards for my switch (even though I will never see it). Great quality\"},{\"id\":\"R1O9DNAU75J7AO\",\"review_data\":\"Reviewed in the United States on October 15, 2019\",\"name\":\"D. Fishman\",\"rating\":1,\"title\":\"\\\\\"Corrupted Data\\\\\"\",\"review\":\"I haven\\'t been able to get this disk to work. Once inserted I was asked to format which it said was completed successfully. I could see the disk and capacity under data management. But anytime I download something I\\'m unable to open the game afterward and the error says \\\\\"Corrupted Data\\\\\". This is extremely frustrating after waiting for multiple hours for a hefty download only to have it fail. I\\'m going to try erasing and formatting the disk one more time but seems like this is going to be a returned item.\"}]}{\"next_page\":2,\"reviews\":[{\"id\":\"R25BJNTP6J2EOM\",\"review_data\":\"Reviewed in the United States on February 11, 2019\",\"name\":\"Jon\",\"rating\":5,\"title\":\"Great for the Switch, if you can find it on sale\",\"review\":\"The main difference from this and a cheaper SanDisk Ultra, is this card is a U3 and the Ultra is U1. The U3 allows for faster installs and may save a few seconds on load times. The only reason I choose this card at the time was that it was on sale for only $3 more. I also get the awesome design along with 4x the storage space.For those wondering why the free space on the card read 119, it is because of the way gigabytes are calculated.The package has 1gb equaling 1,000,000,000 bytes. Really 1gb is 1,073,741,824 bytes. That 73,741,824 bytes (73.7 megabytes) missing per gigabyte. That really adds up.All SD card and USB stick manufacturers use this calculation method; not just Sandisk.\"},{\"id\":\"R1H9CORV6UUXUX\",\"review_data\":\"Reviewed in the United States on December 17, 2018\",\"name\":\"ADKIc3mAnX\",\"rating\":5,\"title\":\"This is a SanDisk Extreme! So it’s perfect.\",\"review\":\"I just purchased a Nintendo Switch at a Target, but I didn’t realize how bad I would be needing an SD card, so I checked in stores and they had this same exact card for over $60.00. So I checked up Amazon and long and behold I found it for $35.00! This was an amazing deal and I have to give it to Amazon they compete against everyone and I love it!\"},{\"id\":\"R2Q6G6E3NK7PG3\",\"review_data\":\"Reviewed in the United States on January 8, 2019\",\"name\":\"Pogo\",\"rating\":5,\"title\":\"Grab a mushroom and grow with me.\",\"review\":\"Last night, the memory card called out to me: Mario, save our princess, she’s in another castle and we can’t stand being without her anymore. I opened my eyes, and questioned if I really heard this or if my imagination was playing tricks on me. Since I cannot stand to hear mushrooms in distress, I immediately ran to the bathroom and grabbed my plunger. If it’s good enough for Mario, it’s good enough for me.Then I turned on my switch, and beat the hell out of bowser in smash bros.Cliff notes: this memory card, while pricier than others, is really cool and a bit nostalgic. But it works!\"},{\"id\":\"R39M0SA02EGRYZ\",\"review_data\":\"Reviewed in the United States on January 15, 2019\",\"name\":\"Nicholas Peiffer\",\"rating\":3,\"title\":\"Storage Capacity Lies. Not 64 GB, actually 59.4 GB.\",\"review\":\"Package arrived on time, and putting the Micro SD card into my Nintendo Switch was easy with no setup other than a update.My huge issue with this product is that the packaging indicates 64 GB of storage but when I looked at my storage on the Switch it showed 59.4 GB of storage available on the Micro SD card. I have no idea what could possibly take up 4.6 GB of storage. I have none of my Nintendo files saved to the card and it indicates nothing is stored on it but clearly shows less storage than advertised.In the case that it uses that 4.6 GB for other necessary purposes then SanDisk should advertise the Micro SD card\\'s storage capacity correctly at 59.4 or lie less and at most say 60 GB of storage.Aside from being lied to about storage space the product works, and cost was really affordable.I would not recommend this Micro SD card unless you don\\'t care about nearly 5 GB not being available.\"},{\"id\":\"RW96E2AT7G3DM\",\"review_data\":\"Reviewed in the United States on January 29, 2019\",\"name\":\"Blaze_Piffington\",\"rating\":5,\"title\":\"Why pay more for namebrand when you have a more frugal and equally functionable choice?\",\"review\":\"After I heard that there were some products that caused the switch to malfunction or even burn out the SD port, I took tedious care in selecting the best product for what I needed. This SD card came in clutch, it\\'s got a Nintendo switch logo, is fully endorsed, and was a lot cheaper than namebrand. I knew I could not go wrong in till this day, my switch is functioning like a dream. If you already made an investment in a switch, go the extra mile and purchase the extra memory for it, you\\'re going to need it.\"},{\"id\":\"R3TRJPKYZB7RSG\",\"review_data\":\"Reviewed in the United States on February 26, 2019\",\"name\":\"Zach \",\"rating\":5,\"title\":\"It’s about as good as this could get\",\"review\":\"I’m assuming you’ve downloaded a couple games directly to your switch and your not buying games physically/ downloaded warframe and it’s taking all of your space like me it was confusing at first where to put this tiny SD card (smaller than a penny) but I’ll help you guys out if you don’t know already the stand on the back of your switch hides the slot for the card so flip your stand up and slide it in like the picture on your switch shows you and make sure it clicks in just like how you would put a game inNote: you paid for 128 GB of storage but your switch still has to configure it to make it compatible so that’ll take some storage this happens to every kind of storage unit on almost any device you use so your really buying 120-119 of storage at least that’s what mine is left with\"},{\"id\":\"RK617YRBTWOBF\",\"review_data\":\"Reviewed in the United States on January 7, 2019\",\"name\":\"david vargas\",\"rating\":5,\"title\":\"Perfect add-on for the Nintendo Switch and \\\\\"The Legend of Zelda\\\\\" Fans!\",\"review\":\"Nicely customized,\\\\\"The Legend of Zelda\\\\\" SanDisk SD memory card for the Nintendo Switch,64 GB,Offically Licensed Nintendo Switch merchandise.Smaller than a U.S. dime $0.10 coin.originally Priced at $19.99 USD..got this item for $17.00 USD for being a Amazon Prime member,with free 2-day shipping and handling! Wow😮 ! Perfect for all fans of the Nintendo \\\\\"The Legend of Zelda\\\\\" game series.\"},{\"id\":\"R2BX965QNSL9ZL\",\"review_data\":\"Reviewed in the United States on December 19, 2018\",\"name\":\"False Path\",\"rating\":5,\"title\":\"Good Presentation\",\"review\":\"It was functional and painless to yse. It has a lot if extra space that will let me take more photos and download more games. It also has a neat logo/emblem, although you\\'ll hardly see it.\"},{\"id\":\"R1Y0L5HYCSZSDG\",\"review_data\":\"Reviewed in the United States on January 11, 2019\",\"name\":\"anthony tan\",\"rating\":1,\"title\":\"Review based on unreadable card\",\"review\":\"The card was uncompatible with my switch and wasn\\'t readable at all.\"},{\"id\":\"R1MEWICLQ6F2HH\",\"review_data\":\"Reviewed in the United States on March 6, 2019\",\"name\":\"Daxmo!\",\"rating\":5,\"title\":\"128GB minus 10GB\",\"review\":\"Great for $25 ! Exactly what one needs to have more space on a single device!! However you do not get 128GB as it’s advertised. You get about 118GB total . (I took the pic after downloading a few games and demos) I’m sure the other 10GB goes towards space needed for the device to recognize the SD cardor for it to configure to the switch (I’ve got no idea just guessing ) but I’d much prefer it to advertise the 118GB of actual space that you get . I’m also not sure why it saves things to the SD card when there is available space on the Switch. I suppose it’s so that the Switch doesn’t get bloated then start to run slower or some other valid reason but it just means that if you ever remove the SD you might loose the games or at the very least have to re-download them to the device. You can get past this by removing the SD before makingcertain downloads and get more control of what gets saved to the device VS the SD card , but I’m not that anal about it. The Switch does tell you where your downloads are saved via a blue hi-lighted section (See pictures ). Still give 5 stars because I’m not THAT mad . Just thought I’d share for those who are more literal with things and don’t like to be misled.\"}]}'"
      ]
     },
     "execution_count": 170,
     "metadata": {},
     "output_type": "execute_result"
    }
   ],
   "source": [
    "result"
   ]
  },
  {
   "cell_type": "code",
   "execution_count": 210,
   "metadata": {},
   "outputs": [],
   "source": [
    "# merge dataset into 1 dataset\n",
    "path = r\"C:\\Users\\wjx15\\Documents\\GitHub\\NLPAssignment1\\assignment 3.2\\*csv\"\n",
    "glued_data = pd.DataFrame()\n",
    "for fname in glob.glob(path):\n",
    "    df=pd.read_csv(fname)\n",
    "    glued_data = pd.concat([glued_data,df])"
   ]
  },
  {
   "cell_type": "code",
   "execution_count": 212,
   "metadata": {},
   "outputs": [
    {
     "data": {
      "text/html": [
       "<div>\n",
       "<style scoped>\n",
       "    .dataframe tbody tr th:only-of-type {\n",
       "        vertical-align: middle;\n",
       "    }\n",
       "\n",
       "    .dataframe tbody tr th {\n",
       "        vertical-align: top;\n",
       "    }\n",
       "\n",
       "    .dataframe thead th {\n",
       "        text-align: right;\n",
       "    }\n",
       "</style>\n",
       "<table border=\"1\" class=\"dataframe\">\n",
       "  <thead>\n",
       "    <tr style=\"text-align: right;\">\n",
       "      <th></th>\n",
       "      <th>next_page</th>\n",
       "      <th>reviews__id</th>\n",
       "      <th>reviews__review_data</th>\n",
       "      <th>reviews__name</th>\n",
       "      <th>reviews__rating</th>\n",
       "      <th>reviews__title</th>\n",
       "      <th>reviews__review</th>\n",
       "    </tr>\n",
       "  </thead>\n",
       "  <tbody>\n",
       "    <tr>\n",
       "      <th>0</th>\n",
       "      <td>10.0</td>\n",
       "      <td>R2Q4EIXF10KRWM</td>\n",
       "      <td>Reviewed in the United States on March 24, 2020</td>\n",
       "      <td>Rob Goblin</td>\n",
       "      <td>4</td>\n",
       "      <td>Plug and play</td>\n",
       "      <td>As a long time Nintendo gamer I've learned to ...</td>\n",
       "    </tr>\n",
       "    <tr>\n",
       "      <th>1</th>\n",
       "      <td>NaN</td>\n",
       "      <td>R282FSBAYAT0O5</td>\n",
       "      <td>Reviewed in the United States on September 24,...</td>\n",
       "      <td>Pasta_Lord</td>\n",
       "      <td>5</td>\n",
       "      <td>Has dozens of times the storage the switch has...</td>\n",
       "      <td>I thought it was exspensive when i bought it, ...</td>\n",
       "    </tr>\n",
       "    <tr>\n",
       "      <th>2</th>\n",
       "      <td>NaN</td>\n",
       "      <td>RK94WGC7EEJR2</td>\n",
       "      <td>Reviewed in the United States on March 26, 2020</td>\n",
       "      <td>v m.</td>\n",
       "      <td>1</td>\n",
       "      <td>SD card dead upon arrival</td>\n",
       "      <td>Card came in poor condition, the package looke...</td>\n",
       "    </tr>\n",
       "    <tr>\n",
       "      <th>3</th>\n",
       "      <td>NaN</td>\n",
       "      <td>R2ZXVZEES3RSLT</td>\n",
       "      <td>Reviewed in the United States on August 15, 2020</td>\n",
       "      <td>Anya</td>\n",
       "      <td>5</td>\n",
       "      <td>A bit overpriced, but still worked like a charm!</td>\n",
       "      <td>Although there are plenty of other micro SD ca...</td>\n",
       "    </tr>\n",
       "    <tr>\n",
       "      <th>4</th>\n",
       "      <td>NaN</td>\n",
       "      <td>R2CIQF0GEE60SN</td>\n",
       "      <td>Reviewed in the United States on January 18, 2020</td>\n",
       "      <td>OHLR</td>\n",
       "      <td>5</td>\n",
       "      <td>Top Quality and we added many games to our Nin...</td>\n",
       "      <td>SanDisk is the best manufacturer of flash memo...</td>\n",
       "    </tr>\n",
       "  </tbody>\n",
       "</table>\n",
       "</div>"
      ],
      "text/plain": [
       "   next_page     reviews__id  \\\n",
       "0       10.0  R2Q4EIXF10KRWM   \n",
       "1        NaN  R282FSBAYAT0O5   \n",
       "2        NaN   RK94WGC7EEJR2   \n",
       "3        NaN  R2ZXVZEES3RSLT   \n",
       "4        NaN  R2CIQF0GEE60SN   \n",
       "\n",
       "                                reviews__review_data reviews__name  \\\n",
       "0    Reviewed in the United States on March 24, 2020    Rob Goblin   \n",
       "1  Reviewed in the United States on September 24,...    Pasta_Lord   \n",
       "2    Reviewed in the United States on March 26, 2020          v m.   \n",
       "3   Reviewed in the United States on August 15, 2020          Anya   \n",
       "4  Reviewed in the United States on January 18, 2020          OHLR   \n",
       "\n",
       "   reviews__rating                                     reviews__title  \\\n",
       "0                4                                      Plug and play   \n",
       "1                5  Has dozens of times the storage the switch has...   \n",
       "2                1                          SD card dead upon arrival   \n",
       "3                5   A bit overpriced, but still worked like a charm!   \n",
       "4                5  Top Quality and we added many games to our Nin...   \n",
       "\n",
       "                                     reviews__review  \n",
       "0  As a long time Nintendo gamer I've learned to ...  \n",
       "1  I thought it was exspensive when i bought it, ...  \n",
       "2  Card came in poor condition, the package looke...  \n",
       "3  Although there are plenty of other micro SD ca...  \n",
       "4  SanDisk is the best manufacturer of flash memo...  "
      ]
     },
     "execution_count": 212,
     "metadata": {},
     "output_type": "execute_result"
    }
   ],
   "source": [
    "glued_data.head()"
   ]
  },
  {
   "cell_type": "code",
   "execution_count": 215,
   "metadata": {},
   "outputs": [],
   "source": [
    "glued_data.to_csv(r'C:\\Users\\wjx15\\Documents\\GitHub\\NLPAssignment1\\assignment 3.2\\DataSet.csv', index = False)"
   ]
  },
  {
   "cell_type": "code",
   "execution_count": 228,
   "metadata": {},
   "outputs": [],
   "source": [
    "# actual program start here\n",
    "\n",
    "df = pd.read_csv(r'C:\\Users\\wjx15\\Documents\\GitHub\\NLPAssignment1\\assignment 3.2\\DataSet.csv')\n",
    "\n",
    "df1 = df['reviews__review']"
   ]
  },
  {
   "cell_type": "code",
   "execution_count": 235,
   "metadata": {},
   "outputs": [
    {
     "data": {
      "text/plain": [
       "\"As a long time Nintendo gamer I've learned to never purchase third party equipment if you want it to function and not waste money. This isn't the cheapest option but it is plug and play after a system restart while other cards have a more lengthy and frustrating process. I wish it wasn't so much but that's the price you pay with Nintendo.\""
      ]
     },
     "execution_count": 235,
     "metadata": {},
     "output_type": "execute_result"
    }
   ],
   "source": [
    "df1[0]"
   ]
  },
  {
   "cell_type": "code",
   "execution_count": 253,
   "metadata": {},
   "outputs": [],
   "source": [
    "tokenized_word = []\n",
    "for i in range(1,len(df1)):\n",
    "    tokenized_word.append(word_tokenize(df1[i]))"
   ]
  },
  {
   "cell_type": "code",
   "execution_count": 260,
   "metadata": {},
   "outputs": [],
   "source": [
    "#flatten 2d array to 1d\n",
    "new_list = []\n",
    "for i in tokenized_word:\n",
    "     for j in i:\n",
    "        new_list.append(j)\n",
    "   "
   ]
  },
  {
   "cell_type": "code",
   "execution_count": 262,
   "metadata": {},
   "outputs": [
    {
     "data": {
      "text/plain": [
       "9111"
      ]
     },
     "execution_count": 262,
     "metadata": {},
     "output_type": "execute_result"
    }
   ],
   "source": [
    "len(new_list)"
   ]
  },
  {
   "cell_type": "code",
   "execution_count": null,
   "metadata": {},
   "outputs": [],
   "source": []
  }
 ],
 "metadata": {
  "kernelspec": {
   "display_name": "Python 3",
   "language": "python",
   "name": "python3"
  },
  "language_info": {
   "codemirror_mode": {
    "name": "ipython",
    "version": 3
   },
   "file_extension": ".py",
   "mimetype": "text/x-python",
   "name": "python",
   "nbconvert_exporter": "python",
   "pygments_lexer": "ipython3",
   "version": "3.8.3"
  }
 },
 "nbformat": 4,
 "nbformat_minor": 4
}
